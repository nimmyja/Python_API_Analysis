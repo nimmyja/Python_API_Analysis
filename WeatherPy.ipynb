{
 "cells": [
  {
   "cell_type": "markdown",
   "metadata": {},
   "source": [
    "# WeatherPy\n",
    "----\n"
   ]
  },
  {
   "cell_type": "markdown",
   "metadata": {},
   "source": [
    "# Data Analysis :\n",
    "\n",
    "   >1. The Latitude vs Temperature plot helps us to understand that the temperature gets higher nearer to the equator and drops further away.\n",
    "   >2. From the Latitude vs Humidity plot we could notice the Humidity(%) remains high nearer the equator whereas it is evenly distributed towards the poles.\n",
    "   >3. The scatter plot of Latitude vs Cloudiness(%) supports that cloudiness is not related to the latitude\n",
    "   >4. The scatter plot of Latitude vs Wind Speed confirms that wind speed is distributed evenly.\n",
    "\n",
    "\n",
    "   > The N.Hemisphere with the \"rvalue: 0.7532828891693544\" shows that the temperature is having a positive correlation with the latitude.Whereas the scatter plot of S.Hemisphere having \"r value: 0.7852724061647582\" indicate that the temperature is having a negative correlation with the latitude.\n",
    "\n",
    "   > The S.Hemisphere temperature seems to be milder than the same latitudes in the N.Hemisphere.And the hottest temperature is recorded between 0º and 20º North.\n",
    "   \n",
    "   > The other parameters like Humidity, Cloudiness, and Wind Speed show very weak/no relation with the latitude. This can be confirmed from the absolute rvalues obtained for each hemisphere which supports the observation.\n",
    "\n",
    "   > From the VacationPy notebook, we could notice that across the world the humidity seems higher which is shown by the red dots in the heatmap."
   ]
  },
  {
   "cell_type": "code",
   "execution_count": 2,
   "metadata": {
    "scrolled": true
   },
   "outputs": [],
   "source": [
    "# Dependencies and Setup\n",
    "import matplotlib.pyplot as plt\n",
    "import pandas as pd\n",
    "import numpy as np\n",
    "import requests\n",
    "import time\n",
    "from scipy import stats\n",
    "from scipy.stats import linregress\n",
    "\n",
    "\n",
    "# Import API key\n",
    "from api_keys import weather_api_key\n",
    "\n",
    "# Incorporated citipy to determine city based on latitude and longitude\n",
    "from citipy import citipy\n",
    "\n",
    "# Output File (CSV)\n",
    "output_data_file = \"output_data/cities.csv\"\n",
    "\n",
    "# Range of latitudes and longitudes\n",
    "lat_range = (-90, 90)\n",
    "lng_range = (-180, 180)\n"
   ]
  },
  {
   "cell_type": "markdown",
   "metadata": {},
   "source": [
    "## Generate Cities List"
   ]
  },
  {
   "cell_type": "code",
   "execution_count": 3,
   "metadata": {},
   "outputs": [
    {
     "name": "stdout",
     "output_type": "stream",
     "text": [
      "600\n"
     ]
    }
   ],
   "source": [
    "# List for holding lat_lngs and cities\n",
    "lat_lngs = []\n",
    "cities = []\n",
    "\n",
    "# Create a set of random lat and lng combinations\n",
    "lats = np.random.uniform(lat_range[0], lat_range[1], size=1500)\n",
    "lngs = np.random.uniform(lng_range[0], lng_range[1], size=1500)\n",
    "lat_lngs = zip(lats, lngs)\n",
    "\n",
    "# Identify nearest city for each lat, lng combination\n",
    "for lat_lng in lat_lngs:\n",
    "    city = citipy.nearest_city(lat_lng[0], lat_lng[1]).city_name\n",
    "    \n",
    "    # If the city is unique, then add it to a our cities list\n",
    "    if city not in cities:\n",
    "        cities.append(city)\n",
    "        \n",
    "\n",
    "\n",
    "# Print the city count to confirm sufficient count\n",
    "print(len(cities))"
   ]
  },
  {
   "cell_type": "markdown",
   "metadata": {},
   "source": [
    "### Perform API Calls\n",
    "* Perform a weather check on each city using a series of successive API calls.\n",
    "* Include a print log of each city as it'sbeing processed (with the city number and city name).\n"
   ]
  },
  {
   "cell_type": "code",
   "execution_count": 4,
   "metadata": {},
   "outputs": [],
   "source": [
    "cities_num = []\n",
    "cities_name = []\n",
    "lat= []\n",
    "lng= []\n",
    "temp= []\n",
    "humidity= []\n",
    "cloudy= []\n",
    "wind_speed= []\n",
    "country= []\n",
    "date= []\n",
    "record = 0\n",
    "set = 1\n",
    "city_count = 0\n",
    "url = \"http://api.openweathermap.org/data/2.5/weather?\"\n",
    "#query_url = f\"{url}appid={weather_api_key}&q=\"\n",
    "#&units=imperial\n"
   ]
  },
  {
   "cell_type": "code",
   "execution_count": 5,
   "metadata": {},
   "outputs": [
    {
     "name": "stdout",
     "output_type": "stream",
     "text": [
      "Beginning Data Retrieval\n",
      "----------------------------------------------------------------\n",
      "Processing Record 1 of Set 1 | Port Macquarie \n",
      "Processing Record 2 of Set 1 | Punta Arenas \n",
      "Processing Record 3 of Set 1 | Rikitea \n",
      "Processing Record 4 of Set 1 | Chokurdakh \n",
      "Processing Record 5 of Set 1 | Kapaa \n",
      "Processing Record 6 of Set 1 | Clyde River \n",
      "Processing Record 7 of Set 1 | Bluff \n",
      "Processing Record 8 of Set 1 | Ponta do Sol \n",
      "Processing Record 9 of Set 1 | Vaini \n",
      "Processing Record 10 of Set 1 | Ushuaia \n",
      "Processing Record 11 of Set 1 | Turan \n",
      "Processing Record 12 of Set 1 | Vardø \n",
      "Processing Record 13 of Set 1 | San Patricio \n",
      "Processing Record 14 of Set 1 | Albany \n",
      "Processing Record 15 of Set 1 | East London \n",
      "Processing Record 16 of Set 1 | Baruun-Urt \n",
      "Processing Record 17 of Set 1 | Damaturu \n",
      "Processing Record 18 of Set 1 | Lebu \n",
      "Processing Record 19 of Set 1 | Arraial do Cabo \n",
      "Processing Record 20 of Set 1 | Mahébourg \n",
      "Processing Record 21 of Set 1 | Ancud \n",
      "Processing Record 22 of Set 1 | Jamestown \n",
      "Processing Record 23 of Set 1 | Angoche \n",
      "Processing Record 24 of Set 1 | Strezhevoy \n",
      "Processing Record 25 of Set 1 | Ahipara \n",
      "Processing Record 26 of Set 1 | Faanui \n",
      "Processing Record 27 of Set 1 | La Sarre \n",
      "Processing Record 28 of Set 1 | Mataura \n",
      "Processing Record 29 of Set 1 | Torbay \n",
      "Processing Record 30 of Set 1 | Half Moon Bay \n",
      "Processing Record 31 of Set 1 | Saint-Philippe \n",
      "Processing Record 32 of Set 1 | Camaná \n",
      "City not found. Skipping...\n",
      "Processing Record 33 of Set 1 | Gambēla \n",
      "Processing Record 34 of Set 1 | Auki \n",
      "Processing Record 35 of Set 1 | Coyhaique \n",
      "City not found. Skipping...\n",
      "Processing Record 36 of Set 1 | Katsuura \n",
      "City not found. Skipping...\n",
      "Processing Record 37 of Set 1 | New Norfolk \n",
      "Processing Record 38 of Set 1 | Hilo \n",
      "Processing Record 39 of Set 1 | Khatanga \n",
      "Processing Record 40 of Set 1 | Mount Isa \n",
      "Processing Record 41 of Set 1 | Port Hedland \n",
      "City not found. Skipping...\n",
      "Processing Record 42 of Set 1 | Bilma \n",
      "Processing Record 43 of Set 1 | Aswān \n",
      "Processing Record 44 of Set 1 | Thompson \n",
      "Processing Record 45 of Set 1 | Wadi Maliz \n",
      "Processing Record 46 of Set 1 | Klaksvík \n",
      "Processing Record 47 of Set 1 | George Town \n",
      "Processing Record 48 of Set 1 | Saint Paul Harbor \n",
      "Processing Record 49 of Set 1 | Hermanus \n",
      "Processing Record 50 of Set 1 | Dingle \n",
      "----------------------------------------------------------------\n",
      "Processing Record 0 of Set 2 | Pevek \n",
      "Processing Record 1 of Set 2 | Bambous Virieux \n",
      "Processing Record 2 of Set 2 | Butaritari \n",
      "Processing Record 3 of Set 2 | Kamenka \n",
      "Processing Record 4 of Set 2 | Sola \n",
      "Processing Record 5 of Set 2 | Grindavik \n",
      "Processing Record 6 of Set 2 | Port Shepstone \n",
      "City not found. Skipping...\n",
      "Processing Record 7 of Set 2 | Busselton \n",
      "Processing Record 8 of Set 2 | Lavrentiya \n",
      "Processing Record 9 of Set 2 | Yellowknife \n",
      "Processing Record 10 of Set 2 | Nicoya \n",
      "Processing Record 11 of Set 2 | Ambulu \n",
      "Processing Record 12 of Set 2 | Okha \n",
      "Processing Record 13 of Set 2 | Barrow \n",
      "Processing Record 14 of Set 2 | Pechea \n",
      "City not found. Skipping...\n",
      "Processing Record 15 of Set 2 | Ginir \n",
      "Processing Record 16 of Set 2 | Tuktoyaktuk \n",
      "City not found. Skipping...\n",
      "Processing Record 17 of Set 2 | Shimoda \n",
      "City not found. Skipping...\n",
      "Processing Record 18 of Set 2 | Jalu \n",
      "Processing Record 19 of Set 2 | Province of Mantua \n",
      "Processing Record 20 of Set 2 | Savannah Bight \n",
      "Processing Record 21 of Set 2 | Narrabri \n",
      "Processing Record 22 of Set 2 | Leningradskiy \n",
      "Processing Record 23 of Set 2 | Iqaluit \n",
      "Processing Record 24 of Set 2 | Watsa \n",
      "Processing Record 25 of Set 2 | Puerto Ayora \n",
      "Processing Record 26 of Set 2 | Pitimbu \n",
      "Processing Record 27 of Set 2 | Bredasdorp \n",
      "Processing Record 28 of Set 2 | Chapais \n",
      "Processing Record 29 of Set 2 | Provost \n",
      "Processing Record 30 of Set 2 | Vigrestad \n",
      "Processing Record 31 of Set 2 | Rock Springs \n",
      "Processing Record 32 of Set 2 | Yulara \n",
      "Processing Record 33 of Set 2 | Esperance \n",
      "Processing Record 34 of Set 2 | Bogorodskoye \n",
      "Processing Record 35 of Set 2 | Cape Town \n",
      "Processing Record 36 of Set 2 | Saint Anthony \n",
      "Processing Record 37 of Set 2 | Nikolskoye \n",
      "Processing Record 38 of Set 2 | Truth or Consequences \n",
      "Processing Record 39 of Set 2 | Bethel \n",
      "City not found. Skipping...\n",
      "Processing Record 40 of Set 2 | Hervey Bay \n",
      "Processing Record 41 of Set 2 | Hobart \n",
      "Processing Record 42 of Set 2 | Nouadhibou \n",
      "Processing Record 43 of Set 2 | Camapuã \n",
      "Processing Record 44 of Set 2 | Vao \n",
      "Processing Record 45 of Set 2 | Sinegor'ye \n",
      "Processing Record 46 of Set 2 | Sebring \n",
      "Processing Record 47 of Set 2 | Ygatimi \n",
      "Processing Record 48 of Set 2 | Hong Kong \n",
      "Processing Record 49 of Set 2 | Puerto del Rosario \n",
      "----------------------------------------------------------------\n",
      "Processing Record 0 of Set 3 | Atuona \n",
      "Processing Record 1 of Set 3 | Marystown \n",
      "Processing Record 2 of Set 3 | Fort Saint James \n",
      "Processing Record 3 of Set 3 | Saint George \n",
      "Processing Record 4 of Set 3 | Avarua \n",
      "Processing Record 5 of Set 3 | Mil'kovo \n",
      "Processing Record 6 of Set 3 | Hithadhoo \n",
      "City not found. Skipping...\n",
      "Processing Record 7 of Set 3 | Vostok \n",
      "Processing Record 8 of Set 3 | Marau \n",
      "Processing Record 9 of Set 3 | Geraldton \n",
      "Processing Record 10 of Set 3 | Kodīnar \n",
      "Processing Record 11 of Set 3 | Sinnamary \n",
      "Processing Record 12 of Set 3 | Privolzhsk \n",
      "Processing Record 13 of Set 3 | Pangnirtung \n",
      "Processing Record 14 of Set 3 | Longyearbyen \n",
      "City not found. Skipping...\n",
      "Processing Record 15 of Set 3 | Tasiilaq \n",
      "Processing Record 16 of Set 3 | Frutal \n",
      "City not found. Skipping...\n",
      "Processing Record 17 of Set 3 | Tiksi \n",
      "Processing Record 18 of Set 3 | Lüderitz \n",
      "Processing Record 19 of Set 3 | Qaanaaq \n",
      "Processing Record 20 of Set 3 | Uíge \n",
      "Processing Record 21 of Set 3 | Naze \n",
      "Processing Record 22 of Set 3 | Port Lincoln \n",
      "Processing Record 23 of Set 3 | Kargala \n",
      "Processing Record 24 of Set 3 | Prince Rupert \n",
      "Processing Record 25 of Set 3 | Port Alfred \n",
      "Processing Record 26 of Set 3 | Kaa-Khem \n",
      "Processing Record 27 of Set 3 | Marang \n",
      "Processing Record 28 of Set 3 | Ostrovnoy \n",
      "Processing Record 29 of Set 3 | Carnarvon \n",
      "Processing Record 30 of Set 3 | Greytown \n",
      "Processing Record 31 of Set 3 | Stantsionno-Oyashinskiy \n",
      "Processing Record 32 of Set 3 | Teknāf \n",
      "Processing Record 33 of Set 3 | Sault Ste. Marie \n",
      "Processing Record 34 of Set 3 | Puerto Colombia \n",
      "Processing Record 35 of Set 3 | Kruisfontein \n",
      "Processing Record 36 of Set 3 | Sørland \n",
      "Processing Record 37 of Set 3 | Bima \n",
      "Processing Record 38 of Set 3 | Rūdbār \n",
      "Processing Record 39 of Set 3 | São Filipe \n",
      "Processing Record 40 of Set 3 | Laguna \n",
      "Processing Record 41 of Set 3 | Alice Springs \n",
      "Processing Record 42 of Set 3 | Codrington \n",
      "Processing Record 43 of Set 3 | Atocha \n",
      "City not found. Skipping...\n",
      "Processing Record 44 of Set 3 | Soligalich \n",
      "Processing Record 45 of Set 3 | Kiryat Gat \n",
      "Processing Record 46 of Set 3 | Belmonte \n",
      "Processing Record 47 of Set 3 | Shakawe \n",
      "Processing Record 48 of Set 3 | Saskylakh \n",
      "Processing Record 49 of Set 3 | Ginda \n",
      "----------------------------------------------------------------\n",
      "Processing Record 0 of Set 4 | Chupa \n",
      "Processing Record 1 of Set 4 | Rio Grande \n",
      "Processing Record 2 of Set 4 | Serov \n",
      "Processing Record 3 of Set 4 | Khorol \n",
      "City not found. Skipping...\n",
      "Processing Record 4 of Set 4 | Inverell \n",
      "Processing Record 5 of Set 4 | Hambantota \n",
      "City not found. Skipping...\n",
      "Processing Record 6 of Set 4 | Mercedes \n",
      "Processing Record 7 of Set 4 | Natal \n",
      "Processing Record 8 of Set 4 | Williams Lake \n",
      "City not found. Skipping...\n",
      "Processing Record 9 of Set 4 | Dukat \n",
      "Processing Record 10 of Set 4 | Tiznit Province \n",
      "Processing Record 11 of Set 4 | Santa Maria \n",
      "Processing Record 12 of Set 4 | Vila Franca do Campo \n",
      "Processing Record 13 of Set 4 | Airai \n",
      "Processing Record 14 of Set 4 | Nanortalik \n",
      "City not found. Skipping...\n",
      "Processing Record 15 of Set 4 | Hearst \n",
      "Processing Record 16 of Set 4 | Henties Bay \n",
      "Processing Record 17 of Set 4 | Skjervøy \n",
      "Processing Record 18 of Set 4 | Tulum \n",
      "Processing Record 19 of Set 4 | Laas \n",
      "Processing Record 20 of Set 4 | Sur \n",
      "Processing Record 21 of Set 4 | Swift Current \n",
      "Processing Record 22 of Set 4 | Mogadishu \n",
      "Processing Record 23 of Set 4 | Buritis \n",
      "Processing Record 24 of Set 4 | Borogontsy \n",
      "Processing Record 25 of Set 4 | Virginia Beach \n"
     ]
    },
    {
     "name": "stdout",
     "output_type": "stream",
     "text": [
      "Processing Record 26 of Set 4 | Ambilobe \n",
      "Processing Record 27 of Set 4 | São Borja \n",
      "Processing Record 28 of Set 4 | Port Hardy \n",
      "Processing Record 29 of Set 4 | Nefteyugansk \n",
      "Processing Record 30 of Set 4 | Mandlā \n",
      "Processing Record 31 of Set 4 | Bathsheba \n",
      "Processing Record 32 of Set 4 | Mar del Plata \n",
      "Processing Record 33 of Set 4 | Rudnyy \n",
      "City not found. Skipping...\n",
      "Processing Record 34 of Set 4 | Daphne \n",
      "Processing Record 35 of Set 4 | Castro \n",
      "Processing Record 36 of Set 4 | Egvekinot \n",
      "Processing Record 37 of Set 4 | Kavaratti \n",
      "Processing Record 38 of Set 4 | Chunoyar \n",
      "Processing Record 39 of Set 4 | Inyonga \n",
      "Processing Record 40 of Set 4 | North Bend \n",
      "Processing Record 41 of Set 4 | Nhulunbuy \n",
      "Processing Record 42 of Set 4 | Monrovia \n",
      "City not found. Skipping...\n",
      "Processing Record 43 of Set 4 | Taoudenni \n",
      "Processing Record 44 of Set 4 | Vallenar \n",
      "Processing Record 45 of Set 4 | Villablino \n",
      "Processing Record 46 of Set 4 | Chernyshevskiy \n",
      "Processing Record 47 of Set 4 | Juneau \n",
      "Processing Record 48 of Set 4 | Noshiro \n",
      "Processing Record 49 of Set 4 | Upernavik \n",
      "----------------------------------------------------------------\n",
      "Processing Record 0 of Set 5 | Souillac \n",
      "Processing Record 1 of Set 5 | Easton \n",
      "Processing Record 2 of Set 5 | Makokou \n",
      "Processing Record 3 of Set 5 | Kavieng \n",
      "Processing Record 4 of Set 5 | Lincoln \n",
      "Processing Record 5 of Set 5 | Otradnoye \n",
      "Processing Record 6 of Set 5 | Pisco \n",
      "City not found. Skipping...\n",
      "Processing Record 7 of Set 5 | Dutlwe \n",
      "Processing Record 8 of Set 5 | Bilibino \n",
      "Processing Record 9 of Set 5 | Byron Bay \n",
      "Processing Record 10 of Set 5 | Sioux Lookout \n",
      "Processing Record 11 of Set 5 | Nome \n",
      "Processing Record 12 of Set 5 | Stepnyak \n",
      "Processing Record 13 of Set 5 | Mbandaka \n",
      "Processing Record 14 of Set 5 | Tuatapere \n",
      "Processing Record 15 of Set 5 | Fortuna \n",
      "Processing Record 16 of Set 5 | Santa Cruz del Sur \n",
      "Processing Record 17 of Set 5 | La Palma \n",
      "Processing Record 18 of Set 5 | Kumul \n",
      "Processing Record 19 of Set 5 | Cedar City \n",
      "Processing Record 20 of Set 5 | Beringovskiy \n",
      "Processing Record 21 of Set 5 | Morant Bay \n",
      "City not found. Skipping...\n",
      "City not found. Skipping...\n",
      "Processing Record 22 of Set 5 | Lagoa \n",
      "City not found. Skipping...\n",
      "Processing Record 23 of Set 5 | Amapá \n",
      "Processing Record 24 of Set 5 | Sojat \n",
      "Processing Record 25 of Set 5 | Lorengau \n",
      "Processing Record 26 of Set 5 | Três Lagoas \n",
      "Processing Record 27 of Set 5 | Bengkulu \n",
      "Processing Record 28 of Set 5 | Maryville \n",
      "Processing Record 29 of Set 5 | Fort Nelson \n",
      "Processing Record 30 of Set 5 | Zhaotong \n",
      "Processing Record 31 of Set 5 | Arrondissement de Fontenay-le-Comte \n",
      "Processing Record 32 of Set 5 | Ishigaki \n",
      "Processing Record 33 of Set 5 | Atikokan \n",
      "City not found. Skipping...\n",
      "Processing Record 34 of Set 5 | Celendín \n",
      "Processing Record 35 of Set 5 | Dudinka \n",
      "Processing Record 36 of Set 5 | La Santisima Trinidad \n",
      "Processing Record 37 of Set 5 | Oriximiná \n",
      "Processing Record 38 of Set 5 | Aiken \n",
      "Processing Record 39 of Set 5 | Port Elizabeth \n",
      "City not found. Skipping...\n",
      "Processing Record 40 of Set 5 | Shirokiy \n",
      "Processing Record 41 of Set 5 | Vila do Maio \n",
      "Processing Record 42 of Set 5 | Mattru \n",
      "Processing Record 43 of Set 5 | Cidreira \n",
      "Processing Record 44 of Set 5 | Fengzhen \n",
      "Processing Record 45 of Set 5 | Nyagan \n",
      "Processing Record 46 of Set 5 | La Orilla \n",
      "Processing Record 47 of Set 5 | Guiyang \n",
      "City not found. Skipping...\n",
      "Processing Record 48 of Set 5 | Oranjemund \n",
      "Processing Record 49 of Set 5 | Belaya Gora \n",
      "----------------------------------------------------------------\n",
      "Processing Record 0 of Set 6 | Kitimat \n",
      "Processing Record 1 of Set 6 | Killybegs \n",
      "Processing Record 2 of Set 6 | Kaitangata \n",
      "Processing Record 3 of Set 6 | Daru \n",
      "Processing Record 4 of Set 6 | Samarai \n",
      "Processing Record 5 of Set 6 | Buala \n",
      "Processing Record 6 of Set 6 | Owosso \n",
      "Processing Record 7 of Set 6 | São Paulo \n",
      "Processing Record 8 of Set 6 | Syracuse \n",
      "Processing Record 9 of Set 6 | Myszków \n",
      "Processing Record 10 of Set 6 | Kidal \n",
      "Processing Record 11 of Set 6 | Hasaki \n",
      "Processing Record 12 of Set 6 | Karratha \n",
      "Processing Record 13 of Set 6 | Starobaltachevo \n",
      "Processing Record 14 of Set 6 | Hay River \n",
      "Processing Record 15 of Set 6 | Contamana \n",
      "Processing Record 16 of Set 6 | Severomuysk \n",
      "City not found. Skipping...\n",
      "Processing Record 17 of Set 6 | Zogno \n",
      "Processing Record 18 of Set 6 | Wadena \n",
      "Processing Record 19 of Set 6 | Quípama \n",
      "City not found. Skipping...\n",
      "Processing Record 20 of Set 6 | Severo-Kuril'sk \n",
      "Processing Record 21 of Set 6 | Yangi Marg`ilon \n",
      "Processing Record 22 of Set 6 | Norman Wells \n",
      "Processing Record 23 of Set 6 | Corrales \n",
      "Processing Record 24 of Set 6 | Bandarbeyla \n",
      "Processing Record 25 of Set 6 | Praia da Vitória \n",
      "Processing Record 26 of Set 6 | Paamiut \n",
      "Processing Record 27 of Set 6 | Xining \n",
      "City not found. Skipping...\n",
      "City not found. Skipping...\n",
      "Processing Record 28 of Set 6 | Dikson \n",
      "Processing Record 29 of Set 6 | Wamba \n",
      "Processing Record 30 of Set 6 | Caniço \n",
      "Processing Record 31 of Set 6 | Bubaque \n",
      "Processing Record 32 of Set 6 | Yarmouth \n",
      "Processing Record 33 of Set 6 | Petropavlovsk-Kamchatskiy \n",
      "Processing Record 34 of Set 6 | Picos \n",
      "Processing Record 35 of Set 6 | Russell \n",
      "Processing Record 36 of Set 6 | Arkhangelsk \n",
      "Processing Record 37 of Set 6 | Ketchikan \n",
      "Processing Record 38 of Set 6 | Panórama \n",
      "Processing Record 39 of Set 6 | Whyalla \n",
      "Processing Record 40 of Set 6 | San Policarpo \n",
      "Processing Record 41 of Set 6 | Adrar \n",
      "Processing Record 42 of Set 6 | Aného \n",
      "Processing Record 43 of Set 6 | Carolina \n",
      "Processing Record 44 of Set 6 | Atambua \n",
      "Processing Record 45 of Set 6 | Bonthe \n",
      "Processing Record 46 of Set 6 | Olafsvik \n",
      "Processing Record 47 of Set 6 | Nantucket \n",
      "Processing Record 48 of Set 6 | Tateyama \n",
      "City not found. Skipping...\n",
      "Processing Record 49 of Set 6 | Beloha \n",
      "----------------------------------------------------------------\n",
      "Processing Record 0 of Set 7 | Oga \n",
      "Processing Record 1 of Set 7 | Témiscaming \n",
      "City not found. Skipping...\n",
      "Processing Record 2 of Set 7 | The Pas \n",
      "Processing Record 3 of Set 7 | Horsham \n",
      "Processing Record 4 of Set 7 | Mwinilunga \n",
      "Processing Record 5 of Set 7 | Arlit \n",
      "Processing Record 6 of Set 7 | Moindou \n",
      "City not found. Skipping...\n",
      "Processing Record 7 of Set 7 | Preobrazheniye \n",
      "Processing Record 8 of Set 7 | Kloulklubed \n",
      "Processing Record 9 of Set 7 | Maragogi \n",
      "Processing Record 10 of Set 7 | Broome \n",
      "Processing Record 11 of Set 7 | Hyères \n",
      "Processing Record 12 of Set 7 | Sulangan \n",
      "Processing Record 13 of Set 7 | Tabou \n",
      "Processing Record 14 of Set 7 | Itarema \n",
      "Processing Record 15 of Set 7 | Turukhansk \n",
      "Processing Record 16 of Set 7 | Beaverlodge \n",
      "Processing Record 17 of Set 7 | Jagtiāl \n",
      "Processing Record 18 of Set 7 | Nago \n",
      "Processing Record 19 of Set 7 | Havre-St-Pierre \n",
      "Processing Record 20 of Set 7 | Carahue \n",
      "City not found. Skipping...\n",
      "Processing Record 21 of Set 7 | Progreso \n",
      "Processing Record 22 of Set 7 | Champerico \n",
      "Processing Record 23 of Set 7 | Kropotkin \n",
      "Processing Record 24 of Set 7 | Hamilton \n",
      "Processing Record 25 of Set 7 | Gull Lake \n",
      "Processing Record 26 of Set 7 | Numan \n",
      "Processing Record 27 of Set 7 | Gijang \n",
      "Processing Record 28 of Set 7 | Presidente Olegário \n",
      "Processing Record 29 of Set 7 | Griffith \n",
      "Processing Record 30 of Set 7 | Solnechnyy \n",
      "Processing Record 31 of Set 7 | Yabēlo \n",
      "Processing Record 32 of Set 7 | Ilulissat \n",
      "Processing Record 33 of Set 7 | Katherine \n",
      "Processing Record 34 of Set 7 | Rurrenabaque \n",
      "Processing Record 35 of Set 7 | Jumla \n",
      "City not found. Skipping...\n",
      "Processing Record 36 of Set 7 | Chunskiy \n",
      "Processing Record 37 of Set 7 | Saint-Pierre \n",
      "Processing Record 38 of Set 7 | Pacific Grove \n",
      "Processing Record 39 of Set 7 | Kahului \n",
      "Processing Record 40 of Set 7 | Ranong \n",
      "Processing Record 41 of Set 7 | Mosetse \n",
      "Processing Record 42 of Set 7 | Sitka \n",
      "Processing Record 43 of Set 7 | Hellvik \n",
      "Processing Record 44 of Set 7 | Sinjār \n",
      "Processing Record 45 of Set 7 | Bako \n",
      "Processing Record 46 of Set 7 | Shache \n",
      "Processing Record 47 of Set 7 | Dalvik \n",
      "Processing Record 48 of Set 7 | Kieta \n",
      "Processing Record 49 of Set 7 | Ribeira Grande \n",
      "----------------------------------------------------------------\n",
      "Processing Record 0 of Set 8 | Sivaki \n",
      "Processing Record 1 of Set 8 | Longkou \n"
     ]
    },
    {
     "name": "stdout",
     "output_type": "stream",
     "text": [
      "Processing Record 2 of Set 8 | Price \n",
      "Processing Record 3 of Set 8 | Oktyabr'skiy \n",
      "Processing Record 4 of Set 8 | College \n",
      "Processing Record 5 of Set 8 | Hualmay \n",
      "Processing Record 6 of Set 8 | Vestmannaeyjar \n",
      "Processing Record 7 of Set 8 | Bhag \n",
      "Processing Record 8 of Set 8 | San Cristobal \n",
      "Processing Record 9 of Set 8 | Ayan \n",
      "Processing Record 10 of Set 8 | Ust-Nera \n",
      "Processing Record 11 of Set 8 | Mayo \n",
      "City not found. Skipping...\n",
      "Processing Record 12 of Set 8 | Kulevcha \n",
      "Processing Record 13 of Set 8 | Ko Samui \n",
      "Processing Record 14 of Set 8 | Placetas \n",
      "Processing Record 15 of Set 8 | Muzhi \n",
      "Processing Record 16 of Set 8 | Zamora \n",
      "Processing Record 17 of Set 8 | Inndyr \n",
      "Processing Record 18 of Set 8 | Barabai \n",
      "Processing Record 19 of Set 8 | Tazmalt \n",
      "Processing Record 20 of Set 8 | Lismore \n",
      "City not found. Skipping...\n",
      "Processing Record 21 of Set 8 | Owando \n",
      "City not found. Skipping...\n",
      "Processing Record 22 of Set 8 | Finschhafen \n",
      "Processing Record 23 of Set 8 | Nieves \n",
      "Processing Record 24 of Set 8 | Necochea \n",
      "City not found. Skipping...\n",
      "Processing Record 25 of Set 8 | Zelenoborsk \n",
      "Processing Record 26 of Set 8 | Dzerzhinskoye \n",
      "Processing Record 27 of Set 8 | Lompoc \n",
      "Processing Record 28 of Set 8 | Okhotsk \n",
      "Processing Record 29 of Set 8 | Charagua \n",
      "Processing Record 30 of Set 8 | Tarusa \n",
      "Processing Record 31 of Set 8 | Verāval \n",
      "Processing Record 32 of Set 8 | Ponta Delgada \n",
      "Processing Record 33 of Set 8 | Dickinson \n",
      "Processing Record 34 of Set 8 | Isangel \n",
      "Processing Record 35 of Set 8 | Estación Coahuila \n",
      "Processing Record 36 of Set 8 | Poso \n",
      "Processing Record 37 of Set 8 | Barsovo \n",
      "Processing Record 38 of Set 8 | Fare \n",
      "Processing Record 39 of Set 8 | Wyndham \n",
      "Processing Record 40 of Set 8 | Constitución \n",
      "Processing Record 41 of Set 8 | Houma \n",
      "Processing Record 42 of Set 8 | Clarence Town \n",
      "Processing Record 43 of Set 8 | Dingalan \n",
      "Processing Record 44 of Set 8 | San Vicente \n",
      "Processing Record 45 of Set 8 | Provideniya \n",
      "City not found. Skipping...\n",
      "Processing Record 46 of Set 8 | Vernon \n",
      "Processing Record 47 of Set 8 | Kumsi \n",
      "Processing Record 48 of Set 8 | Bodden Town \n",
      "Processing Record 49 of Set 8 | Arrondissement de Mende \n",
      "----------------------------------------------------------------\n",
      "Processing Record 0 of Set 9 | Te Anau \n",
      "Processing Record 1 of Set 9 | Launceston \n",
      "Processing Record 2 of Set 9 | Teya \n",
      "Processing Record 3 of Set 9 | Wagar \n",
      "Processing Record 4 of Set 9 | Tilichiki \n",
      "Processing Record 5 of Set 9 | Shahpur Chakar \n",
      "Processing Record 6 of Set 9 | Mahon \n",
      "Processing Record 7 of Set 9 | Mossamedes \n",
      "Processing Record 8 of Set 9 | Oddur \n",
      "Processing Record 9 of Set 9 | Nurota \n",
      "Processing Record 10 of Set 9 | Methóni \n",
      "Processing Record 11 of Set 9 | Utraula \n",
      "Processing Record 12 of Set 9 | Acapulco de Juárez \n",
      "Processing Record 13 of Set 9 | Bani Walid \n",
      "Processing Record 14 of Set 9 | Omsukchan \n",
      "Processing Record 15 of Set 9 | Salalah \n",
      "Processing Record 16 of Set 9 | Verkh-Suetka \n",
      "Processing Record 17 of Set 9 | Qiongshan \n",
      "Processing Record 18 of Set 9 | Władysławowo \n",
      "Processing Record 19 of Set 9 | Srednekolymsk \n",
      "Processing Record 20 of Set 9 | Chicama \n",
      "Processing Record 21 of Set 9 | Puerto Baquerizo Moreno \n",
      "Processing Record 22 of Set 9 | Hangu \n",
      "Processing Record 23 of Set 9 | Kluczbork \n",
      "Processing Record 24 of Set 9 | Mehndāwal \n",
      "Processing Record 25 of Set 9 | Yerbogachën \n",
      "Processing Record 26 of Set 9 | Wanaka \n",
      "Processing Record 27 of Set 9 | Brezno \n",
      "Processing Record 28 of Set 9 | Pimentel \n",
      "City not found. Skipping...\n",
      "Processing Record 29 of Set 9 | Skibbereen \n",
      "Processing Record 30 of Set 9 | Kokopo \n",
      "City not found. Skipping...\n",
      "Processing Record 31 of Set 9 | Zihuatanejo \n",
      "Processing Record 32 of Set 9 | Chara \n",
      "Processing Record 33 of Set 9 | Campbell River \n",
      "City not found. Skipping...\n",
      "Processing Record 34 of Set 9 | Shahreza \n",
      "Processing Record 35 of Set 9 | Monroe \n",
      "Processing Record 36 of Set 9 | Linjiang \n",
      "Processing Record 37 of Set 9 | Cherskiy \n",
      "Processing Record 38 of Set 9 | Novikovo \n",
      "Processing Record 39 of Set 9 | Benghazi \n",
      "Processing Record 40 of Set 9 | Amarwāra \n",
      "Processing Record 41 of Set 9 | Tashtyp \n",
      "Processing Record 42 of Set 9 | Suntar \n",
      "Processing Record 43 of Set 9 | Businga \n",
      "Processing Record 44 of Set 9 | Antalaha \n",
      "Processing Record 45 of Set 9 | Kambove \n",
      "Processing Record 46 of Set 9 | Gamba \n",
      "Processing Record 47 of Set 9 | Xichang \n",
      "Processing Record 48 of Set 9 | Yar-Sale \n",
      "City not found. Skipping...\n",
      "City not found. Skipping...\n",
      "Processing Record 49 of Set 9 | Lagos \n",
      "----------------------------------------------------------------\n",
      "Processing Record 0 of Set 10 | Aklavik \n",
      "Processing Record 1 of Set 10 | Menongue \n",
      "Processing Record 2 of Set 10 | Araçoiaba da Serra \n",
      "Processing Record 3 of Set 10 | Sandy Bay \n",
      "Processing Record 4 of Set 10 | Lakes Entrance \n",
      "Processing Record 5 of Set 10 | St. George's \n",
      "City not found. Skipping...\n",
      "Processing Record 6 of Set 10 | Mindelo \n",
      "Processing Record 7 of Set 10 | Rognac \n",
      "Processing Record 8 of Set 10 | Kysyl-Syr \n",
      "Processing Record 9 of Set 10 | Yüksekova \n",
      "Processing Record 10 of Set 10 | Crixás \n",
      "Processing Record 11 of Set 10 | Arrondissement de Vichy \n",
      "Processing Record 12 of Set 10 | Idrinskoye \n",
      "Processing Record 13 of Set 10 | Antofagasta \n",
      "Processing Record 14 of Set 10 | Shahrud \n",
      "Processing Record 15 of Set 10 | Domna \n",
      "Processing Record 16 of Set 10 | Udachny \n",
      "Processing Record 17 of Set 10 | Danilovka \n",
      "Processing Record 18 of Set 10 | Ventspils \n",
      "Processing Record 19 of Set 10 | Kharp \n",
      "Processing Record 20 of Set 10 | Banda Aceh \n",
      "Processing Record 21 of Set 10 | Broken Hill \n",
      "Processing Record 22 of Set 10 | Mudon \n",
      "Processing Record 23 of Set 10 | Coquimbo \n",
      "Processing Record 24 of Set 10 | Sulina \n",
      "Processing Record 25 of Set 10 | Riyadh \n",
      "Processing Record 26 of Set 10 | Ouango \n",
      "Processing Record 27 of Set 10 | Brae \n",
      "Processing Record 28 of Set 10 | Departamento de Maldonado \n",
      "Processing Record 29 of Set 10 | Ayagoz \n",
      "Processing Record 30 of Set 10 | Talcahuano \n",
      "Processing Record 31 of Set 10 | Kudat \n",
      "Processing Record 32 of Set 10 | Kalmunai \n",
      "Processing Record 33 of Set 10 | Baykit \n",
      "Processing Record 34 of Set 10 | Muros \n",
      "Processing Record 35 of Set 10 | Mulegé \n",
      "Processing Record 36 of Set 10 | Vila Velha \n",
      "Processing Record 37 of Set 10 | Calvinia \n",
      "Processing Record 38 of Set 10 | Cabo San Lucas \n",
      "Processing Record 39 of Set 10 | Hukuntsi \n",
      "Processing Record 40 of Set 10 | Sawtell \n",
      "Processing Record 41 of Set 10 | Gravdal \n",
      "Processing Record 42 of Set 10 | Beira \n",
      "Processing Record 43 of Set 10 | Mareeba \n",
      "Processing Record 44 of Set 10 | Eenhana \n",
      "Processing Record 45 of Set 10 | Sucre \n",
      "Processing Record 46 of Set 10 | Oranjestad \n",
      "Processing Record 47 of Set 10 | Sangar \n",
      "Processing Record 48 of Set 10 | Yenagoa \n",
      "Processing Record 49 of Set 10 | Eyl \n",
      "----------------------------------------------------------------\n",
      "Processing Record 0 of Set 11 | Iguaí \n",
      "Processing Record 1 of Set 11 | Ulefoss \n",
      "Processing Record 2 of Set 11 | Zhigansk \n",
      "Processing Record 3 of Set 11 | Trairi \n",
      "Processing Record 4 of Set 11 | San Juan \n",
      "Processing Record 5 of Set 11 | Alofi \n",
      "Processing Record 6 of Set 11 | Poum \n",
      "Processing Record 7 of Set 11 | Marsh Harbour \n",
      "Processing Record 8 of Set 11 | Dergachi \n",
      "Processing Record 9 of Set 11 | Kendari \n",
      "Processing Record 10 of Set 11 | Elūr \n",
      "Processing Record 11 of Set 11 | Valdivia \n",
      "Processing Record 12 of Set 11 | Vuktyl \n",
      "Processing Record 13 of Set 11 | Labuhan \n",
      "Processing Record 14 of Set 11 | Ola \n",
      "Processing Record 15 of Set 11 | Saint-Joseph \n",
      "Processing Record 16 of Set 11 | San Antonio \n",
      "City not found. Skipping...\n",
      "Processing Record 17 of Set 11 | Palmer \n",
      "Processing Record 18 of Set 11 | Pando \n",
      "City not found. Skipping...\n",
      "Processing Record 19 of Set 11 | Aden \n",
      "Processing Record 20 of Set 11 | Chifeng \n",
      "City not found. Skipping...\n",
      "Processing Record 21 of Set 11 | Meadow Lake \n",
      "Processing Record 22 of Set 11 | Iranshahr \n",
      "Processing Record 23 of Set 11 | Speightstown \n",
      "Processing Record 24 of Set 11 | Churapcha \n",
      "Processing Record 25 of Set 11 | Saint-Augustin \n",
      "Processing Record 26 of Set 11 | Güzelyurt \n",
      "Processing Record 27 of Set 11 | Lewiston \n",
      "Processing Record 28 of Set 11 | Plainview \n",
      "Processing Record 29 of Set 11 | Santiago de Chuco \n",
      "Processing Record 30 of Set 11 | Heishan \n",
      "Processing Record 31 of Set 11 | Seoul \n"
     ]
    },
    {
     "name": "stdout",
     "output_type": "stream",
     "text": [
      "Processing Record 32 of Set 11 | Raudeberg \n",
      "Processing Record 33 of Set 11 | Homer \n",
      "Processing Record 34 of Set 11 | Shenjiamen \n",
      "Processing Record 35 of Set 11 | Zlobin \n",
      "Processing Record 36 of Set 11 | Touros \n",
      "Processing Record 37 of Set 11 | Mudgee \n",
      "Processing Record 38 of Set 11 | Mallaig \n",
      "Processing Record 39 of Set 11 | Mackay \n",
      "Processing Record 40 of Set 11 | Thanatpin \n",
      "----------------------------------------------------------------\n",
      "Data Retrieval Complete\n",
      "----------------------------------------------------------------\n"
     ]
    }
   ],
   "source": [
    "print(\"Beginning Data Retrieval\")\n",
    "print(\"-\"*64)\n",
    "for city in cities:      \n",
    "    query_url = f\"{url}appid={weather_api_key}&q={city}&units=imperial\"\n",
    "    weather_response = requests.get(query_url)\n",
    "    weather_json = weather_response.json()\n",
    "    #print(query_url+city)\n",
    "    \n",
    "    try:\n",
    "         \n",
    "        city_id = weather_json[\"id\"]    \n",
    "        cities_num.append(city_id)\n",
    "\n",
    "        city_name = weather_json[\"name\"]\n",
    "        cities_name.append(city_name)\n",
    "\n",
    "        lat.append(weather_json[\"coord\"][\"lat\"])\n",
    "\n",
    "        lng.append(weather_json[\"coord\"][\"lon\"])        \n",
    "\n",
    "        temp.append(weather_json[\"main\"][\"temp\"])\n",
    "\n",
    "        humidity.append(weather_json[\"main\"][\"humidity\"])\n",
    "\n",
    "        cloudy.append(weather_json[\"clouds\"][\"all\"])\n",
    "\n",
    "        wind_speed.append(weather_json[\"wind\"][\"speed\"])\n",
    "\n",
    "        country.append(weather_json[\"sys\"][\"country\"])\n",
    "\n",
    "        date.append(weather_json[\"dt\"])\n",
    "\n",
    "        if record >49:\n",
    "            record =0\n",
    "            set +=1\n",
    "            city_count +=1\n",
    "            print(\"-\"*64)\n",
    "\n",
    "        elif set>1:\n",
    "            city_count +=1\n",
    "            print(f\"Processing Record {record} of Set {set} | {city_name} \")\n",
    "            record +=1\n",
    "\n",
    "        else:\n",
    "            record +=1\n",
    "            city_count +=1\n",
    "            print(f\"Processing Record {record} of Set {set} | {city_name} \")\n",
    "\n",
    "\n",
    "\n",
    "\n",
    "    except:\n",
    "        \n",
    "        #print(weather_json[\"message\"])\n",
    "        print(f\"City not found. Skipping...\")\n",
    "        pass\n",
    "    \n",
    "print(\"-\"*64)\n",
    "print(\"Data Retrieval Complete\")\n",
    "print(\"-\"*64)\n",
    "\n"
   ]
  },
  {
   "cell_type": "code",
   "execution_count": null,
   "metadata": {
    "scrolled": true
   },
   "outputs": [],
   "source": [
    "    "
   ]
  },
  {
   "cell_type": "markdown",
   "metadata": {},
   "source": [
    "### Convert Raw Data to DataFrame\n",
    "* Export the city data into a .csv.\n",
    "* Display the DataFrame"
   ]
  },
  {
   "cell_type": "code",
   "execution_count": 6,
   "metadata": {},
   "outputs": [
    {
     "data": {
      "text/html": [
       "<div>\n",
       "<style scoped>\n",
       "    .dataframe tbody tr th:only-of-type {\n",
       "        vertical-align: middle;\n",
       "    }\n",
       "\n",
       "    .dataframe tbody tr th {\n",
       "        vertical-align: top;\n",
       "    }\n",
       "\n",
       "    .dataframe thead th {\n",
       "        text-align: right;\n",
       "    }\n",
       "</style>\n",
       "<table border=\"1\" class=\"dataframe\">\n",
       "  <thead>\n",
       "    <tr style=\"text-align: right;\">\n",
       "      <th></th>\n",
       "      <th>City</th>\n",
       "      <th>Lat</th>\n",
       "      <th>Lng</th>\n",
       "      <th>Max Temp</th>\n",
       "      <th>Humidity</th>\n",
       "      <th>Cloudiness</th>\n",
       "      <th>Wind Speed</th>\n",
       "      <th>Country</th>\n",
       "      <th>Date</th>\n",
       "    </tr>\n",
       "  </thead>\n",
       "  <tbody>\n",
       "    <tr>\n",
       "      <th>0</th>\n",
       "      <td>Port Macquarie</td>\n",
       "      <td>-31.4333</td>\n",
       "      <td>152.9167</td>\n",
       "      <td>53.56</td>\n",
       "      <td>46</td>\n",
       "      <td>0</td>\n",
       "      <td>4.59</td>\n",
       "      <td>AU</td>\n",
       "      <td>1630192375</td>\n",
       "    </tr>\n",
       "    <tr>\n",
       "      <th>1</th>\n",
       "      <td>Punta Arenas</td>\n",
       "      <td>-53.1500</td>\n",
       "      <td>-70.9167</td>\n",
       "      <td>39.31</td>\n",
       "      <td>87</td>\n",
       "      <td>75</td>\n",
       "      <td>10.36</td>\n",
       "      <td>CL</td>\n",
       "      <td>1630192376</td>\n",
       "    </tr>\n",
       "    <tr>\n",
       "      <th>2</th>\n",
       "      <td>Rikitea</td>\n",
       "      <td>-23.1203</td>\n",
       "      <td>-134.9692</td>\n",
       "      <td>73.74</td>\n",
       "      <td>72</td>\n",
       "      <td>0</td>\n",
       "      <td>19.86</td>\n",
       "      <td>PF</td>\n",
       "      <td>1630192376</td>\n",
       "    </tr>\n",
       "    <tr>\n",
       "      <th>3</th>\n",
       "      <td>Chokurdakh</td>\n",
       "      <td>70.6333</td>\n",
       "      <td>147.9167</td>\n",
       "      <td>36.03</td>\n",
       "      <td>96</td>\n",
       "      <td>100</td>\n",
       "      <td>7.61</td>\n",
       "      <td>RU</td>\n",
       "      <td>1630192377</td>\n",
       "    </tr>\n",
       "    <tr>\n",
       "      <th>4</th>\n",
       "      <td>Kapaa</td>\n",
       "      <td>22.0752</td>\n",
       "      <td>-159.3190</td>\n",
       "      <td>82.67</td>\n",
       "      <td>64</td>\n",
       "      <td>1</td>\n",
       "      <td>5.01</td>\n",
       "      <td>US</td>\n",
       "      <td>1630192160</td>\n",
       "    </tr>\n",
       "    <tr>\n",
       "      <th>...</th>\n",
       "      <td>...</td>\n",
       "      <td>...</td>\n",
       "      <td>...</td>\n",
       "      <td>...</td>\n",
       "      <td>...</td>\n",
       "      <td>...</td>\n",
       "      <td>...</td>\n",
       "      <td>...</td>\n",
       "      <td>...</td>\n",
       "    </tr>\n",
       "    <tr>\n",
       "      <th>546</th>\n",
       "      <td>Touros</td>\n",
       "      <td>-5.1989</td>\n",
       "      <td>-35.4608</td>\n",
       "      <td>79.70</td>\n",
       "      <td>81</td>\n",
       "      <td>98</td>\n",
       "      <td>16.67</td>\n",
       "      <td>BR</td>\n",
       "      <td>1630192377</td>\n",
       "    </tr>\n",
       "    <tr>\n",
       "      <th>547</th>\n",
       "      <td>Mudgee</td>\n",
       "      <td>-32.5943</td>\n",
       "      <td>149.5871</td>\n",
       "      <td>46.45</td>\n",
       "      <td>76</td>\n",
       "      <td>40</td>\n",
       "      <td>4.61</td>\n",
       "      <td>AU</td>\n",
       "      <td>1630192592</td>\n",
       "    </tr>\n",
       "    <tr>\n",
       "      <th>548</th>\n",
       "      <td>Mallaig</td>\n",
       "      <td>54.2169</td>\n",
       "      <td>-111.3685</td>\n",
       "      <td>68.68</td>\n",
       "      <td>50</td>\n",
       "      <td>75</td>\n",
       "      <td>6.60</td>\n",
       "      <td>CA</td>\n",
       "      <td>1630192593</td>\n",
       "    </tr>\n",
       "    <tr>\n",
       "      <th>549</th>\n",
       "      <td>Mackay</td>\n",
       "      <td>-21.1500</td>\n",
       "      <td>149.2000</td>\n",
       "      <td>76.05</td>\n",
       "      <td>78</td>\n",
       "      <td>30</td>\n",
       "      <td>1.45</td>\n",
       "      <td>AU</td>\n",
       "      <td>1630192593</td>\n",
       "    </tr>\n",
       "    <tr>\n",
       "      <th>550</th>\n",
       "      <td>Thanatpin</td>\n",
       "      <td>17.2119</td>\n",
       "      <td>96.3033</td>\n",
       "      <td>82.58</td>\n",
       "      <td>91</td>\n",
       "      <td>100</td>\n",
       "      <td>4.97</td>\n",
       "      <td>MM</td>\n",
       "      <td>1630192594</td>\n",
       "    </tr>\n",
       "  </tbody>\n",
       "</table>\n",
       "<p>551 rows × 9 columns</p>\n",
       "</div>"
      ],
      "text/plain": [
       "               City      Lat       Lng  Max Temp  Humidity  Cloudiness  \\\n",
       "0    Port Macquarie -31.4333  152.9167     53.56        46           0   \n",
       "1      Punta Arenas -53.1500  -70.9167     39.31        87          75   \n",
       "2           Rikitea -23.1203 -134.9692     73.74        72           0   \n",
       "3        Chokurdakh  70.6333  147.9167     36.03        96         100   \n",
       "4             Kapaa  22.0752 -159.3190     82.67        64           1   \n",
       "..              ...      ...       ...       ...       ...         ...   \n",
       "546          Touros  -5.1989  -35.4608     79.70        81          98   \n",
       "547          Mudgee -32.5943  149.5871     46.45        76          40   \n",
       "548         Mallaig  54.2169 -111.3685     68.68        50          75   \n",
       "549          Mackay -21.1500  149.2000     76.05        78          30   \n",
       "550       Thanatpin  17.2119   96.3033     82.58        91         100   \n",
       "\n",
       "     Wind Speed Country        Date  \n",
       "0          4.59      AU  1630192375  \n",
       "1         10.36      CL  1630192376  \n",
       "2         19.86      PF  1630192376  \n",
       "3          7.61      RU  1630192377  \n",
       "4          5.01      US  1630192160  \n",
       "..          ...     ...         ...  \n",
       "546       16.67      BR  1630192377  \n",
       "547        4.61      AU  1630192592  \n",
       "548        6.60      CA  1630192593  \n",
       "549        1.45      AU  1630192593  \n",
       "550        4.97      MM  1630192594  \n",
       "\n",
       "[551 rows x 9 columns]"
      ]
     },
     "execution_count": 6,
     "metadata": {},
     "output_type": "execute_result"
    }
   ],
   "source": [
    "weather_dict = {\n",
    "    \"City\": cities_name,        \n",
    "    \"Lat\": lat,\n",
    "    \"Lng\": lng,\n",
    "    \"Max Temp\": temp,\n",
    "    \"Humidity\": humidity,\n",
    "    \"Cloudiness\":cloudy,\n",
    "    \"Wind Speed\":wind_speed,\n",
    "    \"Country\":country,\n",
    "    \"Date\":date\n",
    "}\n",
    "weather_data = pd.DataFrame(weather_dict)\n",
    "weather_data.to_csv(output_data_file)\n",
    "weather_data"
   ]
  },
  {
   "cell_type": "code",
   "execution_count": 7,
   "metadata": {},
   "outputs": [
    {
     "data": {
      "text/html": [
       "<div>\n",
       "<style scoped>\n",
       "    .dataframe tbody tr th:only-of-type {\n",
       "        vertical-align: middle;\n",
       "    }\n",
       "\n",
       "    .dataframe tbody tr th {\n",
       "        vertical-align: top;\n",
       "    }\n",
       "\n",
       "    .dataframe thead th {\n",
       "        text-align: right;\n",
       "    }\n",
       "</style>\n",
       "<table border=\"1\" class=\"dataframe\">\n",
       "  <thead>\n",
       "    <tr style=\"text-align: right;\">\n",
       "      <th></th>\n",
       "      <th>Lat</th>\n",
       "      <th>Lng</th>\n",
       "      <th>Max Temp</th>\n",
       "      <th>Humidity</th>\n",
       "      <th>Cloudiness</th>\n",
       "      <th>Wind Speed</th>\n",
       "      <th>Date</th>\n",
       "    </tr>\n",
       "  </thead>\n",
       "  <tbody>\n",
       "    <tr>\n",
       "      <th>count</th>\n",
       "      <td>551.000000</td>\n",
       "      <td>551.000000</td>\n",
       "      <td>551.000000</td>\n",
       "      <td>551.000000</td>\n",
       "      <td>551.000000</td>\n",
       "      <td>551.000000</td>\n",
       "      <td>5.510000e+02</td>\n",
       "    </tr>\n",
       "    <tr>\n",
       "      <th>mean</th>\n",
       "      <td>20.814806</td>\n",
       "      <td>16.924274</td>\n",
       "      <td>65.767132</td>\n",
       "      <td>72.484574</td>\n",
       "      <td>56.764065</td>\n",
       "      <td>7.297568</td>\n",
       "      <td>1.630192e+09</td>\n",
       "    </tr>\n",
       "    <tr>\n",
       "      <th>std</th>\n",
       "      <td>33.964448</td>\n",
       "      <td>92.688787</td>\n",
       "      <td>14.814238</td>\n",
       "      <td>20.677507</td>\n",
       "      <td>39.414057</td>\n",
       "      <td>5.096919</td>\n",
       "      <td>9.106570e+01</td>\n",
       "    </tr>\n",
       "    <tr>\n",
       "      <th>min</th>\n",
       "      <td>-54.800000</td>\n",
       "      <td>-179.166700</td>\n",
       "      <td>30.220000</td>\n",
       "      <td>8.000000</td>\n",
       "      <td>0.000000</td>\n",
       "      <td>0.000000</td>\n",
       "      <td>1.630192e+09</td>\n",
       "    </tr>\n",
       "    <tr>\n",
       "      <th>25%</th>\n",
       "      <td>-8.405850</td>\n",
       "      <td>-68.525450</td>\n",
       "      <td>54.005000</td>\n",
       "      <td>65.000000</td>\n",
       "      <td>13.000000</td>\n",
       "      <td>3.520000</td>\n",
       "      <td>1.630192e+09</td>\n",
       "    </tr>\n",
       "    <tr>\n",
       "      <th>50%</th>\n",
       "      <td>26.883300</td>\n",
       "      <td>19.324600</td>\n",
       "      <td>66.830000</td>\n",
       "      <td>77.000000</td>\n",
       "      <td>69.000000</td>\n",
       "      <td>6.110000</td>\n",
       "      <td>1.630192e+09</td>\n",
       "    </tr>\n",
       "    <tr>\n",
       "      <th>75%</th>\n",
       "      <td>50.465450</td>\n",
       "      <td>101.051050</td>\n",
       "      <td>77.920000</td>\n",
       "      <td>87.000000</td>\n",
       "      <td>98.000000</td>\n",
       "      <td>10.090000</td>\n",
       "      <td>1.630193e+09</td>\n",
       "    </tr>\n",
       "    <tr>\n",
       "      <th>max</th>\n",
       "      <td>78.218600</td>\n",
       "      <td>179.316700</td>\n",
       "      <td>109.180000</td>\n",
       "      <td>100.000000</td>\n",
       "      <td>100.000000</td>\n",
       "      <td>32.100000</td>\n",
       "      <td>1.630193e+09</td>\n",
       "    </tr>\n",
       "  </tbody>\n",
       "</table>\n",
       "</div>"
      ],
      "text/plain": [
       "              Lat         Lng    Max Temp    Humidity  Cloudiness  Wind Speed  \\\n",
       "count  551.000000  551.000000  551.000000  551.000000  551.000000  551.000000   \n",
       "mean    20.814806   16.924274   65.767132   72.484574   56.764065    7.297568   \n",
       "std     33.964448   92.688787   14.814238   20.677507   39.414057    5.096919   \n",
       "min    -54.800000 -179.166700   30.220000    8.000000    0.000000    0.000000   \n",
       "25%     -8.405850  -68.525450   54.005000   65.000000   13.000000    3.520000   \n",
       "50%     26.883300   19.324600   66.830000   77.000000   69.000000    6.110000   \n",
       "75%     50.465450  101.051050   77.920000   87.000000   98.000000   10.090000   \n",
       "max     78.218600  179.316700  109.180000  100.000000  100.000000   32.100000   \n",
       "\n",
       "               Date  \n",
       "count  5.510000e+02  \n",
       "mean   1.630192e+09  \n",
       "std    9.106570e+01  \n",
       "min    1.630192e+09  \n",
       "25%    1.630192e+09  \n",
       "50%    1.630192e+09  \n",
       "75%    1.630193e+09  \n",
       "max    1.630193e+09  "
      ]
     },
     "execution_count": 7,
     "metadata": {},
     "output_type": "execute_result"
    }
   ],
   "source": [
    "weather_data.describe()"
   ]
  },
  {
   "cell_type": "markdown",
   "metadata": {},
   "source": [
    "## Inspect the data and remove the cities where the humidity > 100%.\n",
    "----\n",
    "Skip this step if there are no cities that have humidity > 100%. "
   ]
  },
  {
   "cell_type": "code",
   "execution_count": 8,
   "metadata": {},
   "outputs": [
    {
     "data": {
      "text/html": [
       "<div>\n",
       "<style scoped>\n",
       "    .dataframe tbody tr th:only-of-type {\n",
       "        vertical-align: middle;\n",
       "    }\n",
       "\n",
       "    .dataframe tbody tr th {\n",
       "        vertical-align: top;\n",
       "    }\n",
       "\n",
       "    .dataframe thead th {\n",
       "        text-align: right;\n",
       "    }\n",
       "</style>\n",
       "<table border=\"1\" class=\"dataframe\">\n",
       "  <thead>\n",
       "    <tr style=\"text-align: right;\">\n",
       "      <th></th>\n",
       "      <th>City</th>\n",
       "      <th>Lat</th>\n",
       "      <th>Lng</th>\n",
       "      <th>Max Temp</th>\n",
       "      <th>Humidity</th>\n",
       "      <th>Cloudiness</th>\n",
       "      <th>Wind Speed</th>\n",
       "      <th>Country</th>\n",
       "      <th>Date</th>\n",
       "    </tr>\n",
       "  </thead>\n",
       "  <tbody>\n",
       "  </tbody>\n",
       "</table>\n",
       "</div>"
      ],
      "text/plain": [
       "Empty DataFrame\n",
       "Columns: [City, Lat, Lng, Max Temp, Humidity, Cloudiness, Wind Speed, Country, Date]\n",
       "Index: []"
      ]
     },
     "execution_count": 8,
     "metadata": {},
     "output_type": "execute_result"
    }
   ],
   "source": [
    "weather_data.loc[weather_data[\"Humidity\"] >100,:]"
   ]
  },
  {
   "cell_type": "code",
   "execution_count": 9,
   "metadata": {},
   "outputs": [],
   "source": [
    "#  Get the indices of cities that have humidity over 100%.\n"
   ]
  },
  {
   "cell_type": "code",
   "execution_count": 10,
   "metadata": {},
   "outputs": [],
   "source": [
    "# Make a new DataFrame equal to the city data to drop all humidity outliers by index.\n",
    "# Passing \"inplace=False\" will make a copy of the city_data DataFrame, which we call \"clean_city_data\".\n"
   ]
  },
  {
   "cell_type": "code",
   "execution_count": null,
   "metadata": {},
   "outputs": [],
   "source": [
    "\n"
   ]
  },
  {
   "cell_type": "markdown",
   "metadata": {},
   "source": [
    "## Plotting the Data\n",
    "* Use proper labeling of the plots using plot titles (including date of analysis) and axes labels.\n",
    "* Save the plotted figures as .pngs."
   ]
  },
  {
   "cell_type": "markdown",
   "metadata": {},
   "source": [
    "## Latitude vs. Temperature Plot"
   ]
  },
  {
   "cell_type": "code",
   "execution_count": 11,
   "metadata": {
    "scrolled": true
   },
   "outputs": [
    {
     "data": {
      "image/png": "[encoded data removed]",
      "text/plain": [
       "<Figure size 432x288 with 1 Axes>"
      ]
     },
     "metadata": {
      "needs_background": "light"
     },
     "output_type": "display_data"
    }
   ],
   "source": [
    "# Build a scatter plot for each data type\n",
    "plt.scatter(weather_data[\"Lat\"], weather_data[\"Max Temp\"], marker=\"o\")\n",
    "#from datetime import date\n",
    "#today =date.today()\n",
    "# Incorporate the other graph properties\n",
    "plt.title(f\"City Latitude vs. Max Temperature (8/28/2021)\")\n",
    "plt.ylabel(\"Temperature (F)\")\n",
    "plt.xlabel(\"Latitude\")\n",
    "plt.grid(True)\n",
    "\n",
    "# Save the figure\n",
    "plt.savefig(\"Temperature.png\")\n",
    "\n",
    "# Show plot\n",
    "plt.show()"
   ]
  },
  {
   "cell_type": "markdown",
   "metadata": {},
   "source": [
    "### The above plot helps us to understand that the temperature gets higher nearer to the equator and drops further away."
   ]
  },
  {
   "cell_type": "markdown",
   "metadata": {},
   "source": [
    "## Latitude vs. Humidity Plot"
   ]
  },
  {
   "cell_type": "code",
   "execution_count": 13,
   "metadata": {},
   "outputs": [
    {
     "data": {
      "image/png": "[encoded data removed]",
      "text/plain": [
       "<Figure size 432x288 with 1 Axes>"
      ]
     },
     "metadata": {
      "needs_background": "light"
     },
     "output_type": "display_data"
    }
   ],
   "source": [
    "# Build a scatter plot for each data type\n",
    "plt.scatter(weather_data[\"Lat\"], weather_data[\"Humidity\"], marker=\"o\")\n",
    "#today =date.today()\n",
    "# Incorporate the other graph properties\n",
    "plt.title(f\"City Latitude vs. Humidity (8/28/2021)\")\n",
    "plt.ylabel(\"Humidity (%)\")\n",
    "plt.xlabel(\"Latitude\")\n",
    "plt.grid(True)\n",
    "\n",
    "# Save the figure\n",
    "plt.savefig(\"Humidity.png\")\n",
    "\n",
    "# Show plot\n",
    "plt.show()"
   ]
  },
  {
   "cell_type": "markdown",
   "metadata": {},
   "source": [
    "### Humidity(%) remains high nearer the equator whereas it is evenly distributed towards the poles."
   ]
  },
  {
   "cell_type": "markdown",
   "metadata": {},
   "source": [
    "## Latitude vs. Cloudiness Plot"
   ]
  },
  {
   "cell_type": "code",
   "execution_count": 14,
   "metadata": {},
   "outputs": [
    {
     "data": {
      "image/png": "[encoded data removed]",
      "text/plain": [
       "<Figure size 432x288 with 1 Axes>"
      ]
     },
     "metadata": {
      "needs_background": "light"
     },
     "output_type": "display_data"
    }
   ],
   "source": [
    "# Build a scatter plot for each data type\n",
    "plt.scatter(weather_data[\"Lat\"], weather_data[\"Cloudiness\"], marker=\"o\")\n",
    "# Incorporate the other graph properties\n",
    "plt.title(f\"City Latitude vs. Cloudiness (8/28/2021)\")\n",
    "plt.ylabel(\"Cloudiness (%)\")\n",
    "plt.xlabel(\"Latitude\")\n",
    "plt.grid(True)\n",
    "\n",
    "# Save the figure\n",
    "plt.savefig(\"Cloudiness.png\")\n",
    "\n",
    "# Show plot\n",
    "plt.show()"
   ]
  },
  {
   "cell_type": "markdown",
   "metadata": {},
   "source": [
    "### The scatter plot confirms that cloudiness is not related to the latitude"
   ]
  },
  {
   "cell_type": "markdown",
   "metadata": {},
   "source": [
    "## Latitude vs. Wind Speed Plot"
   ]
  },
  {
   "cell_type": "code",
   "execution_count": 15,
   "metadata": {},
   "outputs": [
    {
     "data": {
      "image/png": "[encoded data removed]",
      "text/plain": [
       "<Figure size 432x288 with 1 Axes>"
      ]
     },
     "metadata": {
      "needs_background": "light"
     },
     "output_type": "display_data"
    }
   ],
   "source": [
    "# Build a scatter plot for each data type\n",
    "plt.scatter(weather_data[\"Lat\"], weather_data[\"Wind Speed\"], marker=\"o\")\n",
    "# Incorporate the other graph properties\n",
    "plt.title(f\"City Latitude vs. Wind Speed (8/28/2021)\")\n",
    "plt.ylabel(\"Wind Speed (mph)\")\n",
    "plt.xlabel(\"Latitude\")\n",
    "plt.grid(True)\n",
    "\n",
    "# Save the figure\n",
    "plt.savefig(\"WindSpeed.png\")\n",
    "\n",
    "# Show plot\n",
    "plt.show()"
   ]
  },
  {
   "cell_type": "markdown",
   "metadata": {},
   "source": [
    "### The scatter plot confirms that wind speed is distributed evenly."
   ]
  },
  {
   "cell_type": "markdown",
   "metadata": {},
   "source": [
    "## Linear Regression"
   ]
  },
  {
   "cell_type": "code",
   "execution_count": null,
   "metadata": {},
   "outputs": [],
   "source": []
  },
  {
   "cell_type": "markdown",
   "metadata": {},
   "source": [
    "####  Northern Hemisphere - Max Temp vs. Latitude Linear Regression"
   ]
  },
  {
   "cell_type": "code",
   "execution_count": 16,
   "metadata": {},
   "outputs": [],
   "source": [
    "hem_n_df = weather_data.loc[weather_data['Lat'] >= 0,:]\n",
    "x_values_n = hem_n_df[\"Lat\"]\n",
    "y_temp_n = hem_n_df['Max Temp']\n",
    " \n",
    "# Perform a linear regression on Max Temperature vs. latitude\n",
    "(slope_temp_n, intercept_temp_n, rvalue_temp_n, pvalue, stderr) = stats.linregress(x_values_n, y_temp_n)\n",
    "\n",
    "# Get regression values\n",
    "regress_values_tempn = x_values_n * slope_temp_n + intercept_temp_n\n",
    "#print(regress_values_tempn)\n",
    "line_eq_n = \"y = \" + str(round(slope_temp_n,2)) + \"x +\" + str(round(intercept_temp_n,2))"
   ]
  },
  {
   "cell_type": "code",
   "execution_count": 17,
   "metadata": {},
   "outputs": [
    {
     "name": "stdout",
     "output_type": "stream",
     "text": [
      "The r value is: -0.7532828891693544\n"
     ]
    },
    {
     "data": {
      "image/png": "[encoded data removed]",
      "text/plain": [
       "<Figure size 432x288 with 1 Axes>"
      ]
     },
     "metadata": {
      "needs_background": "light"
     },
     "output_type": "display_data"
    }
   ],
   "source": [
    "plt.scatter(x_values_n,y_temp_n)\n",
    "plt.plot(x_values_n,regress_values_tempn,\"r--\")\n",
    "\n",
    "# Label plot and annotate the line equation\n",
    "plt.xlabel('Latitude')\n",
    "plt.ylabel('Max Temp')\n",
    "plt.annotate(line_eq_n,(30,65),fontsize=15,color=\"red\")\n",
    "\n",
    "# Print r value\n",
    "print(f\"The r value is: {rvalue_temp_n}\")\n",
    "\n",
    "# Save the figure\n",
    "plt.savefig(\"temperature_N_hemisphere.png\")\n",
    "\n",
    "# Show plot\n",
    "plt.show()"
   ]
  },
  {
   "cell_type": "markdown",
   "metadata": {},
   "source": [
    "####  Southern Hemisphere - Max Temp vs. Latitude Linear Regression"
   ]
  },
  {
   "cell_type": "code",
   "execution_count": 18,
   "metadata": {},
   "outputs": [],
   "source": [
    "hem_s_df = weather_data.loc[weather_data['Lat'] < 0,:]\n",
    "x_values_s = hem_s_df[\"Lat\"]\n",
    "y_temp_s = hem_s_df['Max Temp']\n",
    "# Perform a linear regression on Max Temperature vs. latitude\n",
    "(slope_temp_s, intercept_temp_s, rvalue_temp_s, pvalue, stderr) = stats.linregress(x_values_s, y_temp_s)\n",
    "\n",
    "# Get regression values\n",
    "regress_values_temps = x_values_s * slope_temp_s + intercept_temp_s\n",
    "#print(regress_values_temps)\n",
    "line_eq_s = \"y = \" + str(round(slope_temp_s,2)) + \"x +\" + str(round(intercept_temp_s,2))"
   ]
  },
  {
   "cell_type": "code",
   "execution_count": 19,
   "metadata": {},
   "outputs": [
    {
     "name": "stdout",
     "output_type": "stream",
     "text": [
      "The r value is: 0.7852724061647582\n"
     ]
    },
    {
     "data": {
      "image/png": "[encoded data removed]",
      "text/plain": [
       "<Figure size 432x288 with 1 Axes>"
      ]
     },
     "metadata": {
      "needs_background": "light"
     },
     "output_type": "display_data"
    }
   ],
   "source": [
    "plt.scatter(x_values_s,y_temp_s)\n",
    "plt.plot(x_values_s,regress_values_temps,\"r-\")\n",
    "\n",
    "# Label plot and annotate the line equation\n",
    "plt.xlabel('Latitude')\n",
    "plt.ylabel('Max Temp')\n",
    "plt.annotate(line_eq_s,(-40,45),fontsize=15,color=\"red\")\n",
    "\n",
    "# Print r value\n",
    "print(f\"The r value is: {rvalue_temp_s}\")\n",
    "\n",
    "# Save the figure\n",
    "plt.savefig(\"temperature_S_hemisphere.png\")\n",
    "\n",
    "# Show plot\n",
    "plt.show()"
   ]
  },
  {
   "cell_type": "markdown",
   "metadata": {},
   "source": [
    "### It is observed that in S.Hemisphere there is strong positive correlation between the latitude and temperature, where as its strong negative correlation in the N.Hemisphere."
   ]
  },
  {
   "cell_type": "markdown",
   "metadata": {},
   "source": [
    "####  Northern Hemisphere - Humidity (%) vs. Latitude Linear Regression"
   ]
  },
  {
   "cell_type": "code",
   "execution_count": 20,
   "metadata": {},
   "outputs": [],
   "source": [
    "#hem_n_df = weather_data.loc[weather_data['Lat'] >= 0,:]\n",
    "#x_values_n = hem_n_df[\"Lat\"]\n",
    "y_humid_n = hem_n_df['Humidity']\n",
    " \n",
    "# Perform a linear regression on Max Temperature vs. latitude\n",
    "(slope_humid_n, intercept_humid_n, rvalue_humid_n, pvalue, stderr) = stats.linregress(x_values_n, y_humid_n)\n",
    "\n",
    "# Get regression values\n",
    "regress_values_humidn = x_values_n * slope_humid_n + intercept_humid_n\n",
    "#print(regress_values_humidn)\n",
    "line_eq_n = \"y = \" + str(round(slope_humid_n,2)) + \"x +\" + str(round(intercept_humid_n,2))"
   ]
  },
  {
   "cell_type": "code",
   "execution_count": 21,
   "metadata": {},
   "outputs": [
    {
     "name": "stdout",
     "output_type": "stream",
     "text": [
      "The r value is: 0.007236508685676074\n"
     ]
    },
    {
     "data": {
      "image/png": "[encoded data removed]",
      "text/plain": [
       "<Figure size 432x288 with 1 Axes>"
      ]
     },
     "metadata": {
      "needs_background": "light"
     },
     "output_type": "display_data"
    }
   ],
   "source": [
    "plt.scatter(x_values_n,y_humid_n)\n",
    "plt.plot(x_values_n,regress_values_humidn,\"r--\")\n",
    "\n",
    "# Label plot and annotate the line equation\n",
    "plt.xlabel('Latitude')\n",
    "plt.ylabel('Humidity')\n",
    "plt.annotate(line_eq_n,(30,75),fontsize=15,color=\"red\")\n",
    "\n",
    "# Print r value\n",
    "print(f\"The r value is: {rvalue_humid_n}\")\n",
    "\n",
    "# Save the figure\n",
    "plt.savefig(\"humidity_N_hemisphere.png\")\n",
    "\n",
    "# Show plot\n",
    "plt.show()"
   ]
  },
  {
   "cell_type": "markdown",
   "metadata": {},
   "source": [
    "####  Southern Hemisphere - Humidity (%) vs. Latitude Linear Regression"
   ]
  },
  {
   "cell_type": "code",
   "execution_count": 22,
   "metadata": {},
   "outputs": [],
   "source": [
    "#hem_s_df = weather_data.loc[weather_data['Lat'] < 0,:]\n",
    "#x_values_s = hem_s_df[\"Lat\"]\n",
    "y_humid_s = hem_s_df['Humidity']\n",
    "# Perform a linear regression on Max Temperature vs. latitude\n",
    "(slope_humid_s, intercept_humid_s, rvalue_humid_s, pvalue, stderr) = stats.linregress(x_values_s, y_humid_s)\n",
    "\n",
    "# Get regression values\n",
    "regress_values_humids = x_values_s * slope_humid_s + intercept_humid_s\n",
    "#print(regress_values_humids)\n",
    "line_eq_s = \"y = \" + str(round(slope_humid_s,2)) + \"x +\" + str(round(intercept_humid_s,2))"
   ]
  },
  {
   "cell_type": "code",
   "execution_count": 23,
   "metadata": {},
   "outputs": [
    {
     "name": "stdout",
     "output_type": "stream",
     "text": [
      "The r value is: -0.05389627748955445\n"
     ]
    },
    {
     "data": {
      "image/png": "[encoded data removed]",
      "text/plain": [
       "<Figure size 432x288 with 1 Axes>"
      ]
     },
     "metadata": {
      "needs_background": "light"
     },
     "output_type": "display_data"
    }
   ],
   "source": [
    "plt.scatter(x_values_s,y_humid_s)\n",
    "plt.plot(x_values_s,regress_values_humids,\"r-\")\n",
    "\n",
    "# Label plot and annotate the line equation\n",
    "plt.xlabel('Latitude')\n",
    "plt.ylabel('Humidity')\n",
    "plt.annotate(line_eq_s,(-30,50),fontsize=15,color=\"red\")\n",
    "\n",
    "# Print r value\n",
    "print(f\"The r value is: {rvalue_humid_s}\")\n",
    "\n",
    "# Save the figure\n",
    "plt.savefig(\"humdity_S_hemisphere.png\")\n",
    "\n",
    "# Show plot\n",
    "plt.show()"
   ]
  },
  {
   "cell_type": "markdown",
   "metadata": {},
   "source": [
    "### As mentioned above, the humidity is independent and doesn't show any relation with the latitude."
   ]
  },
  {
   "cell_type": "markdown",
   "metadata": {},
   "source": [
    "####  Northern Hemisphere - Cloudiness (%) vs. Latitude Linear Regression"
   ]
  },
  {
   "cell_type": "code",
   "execution_count": 24,
   "metadata": {},
   "outputs": [],
   "source": [
    "#hem_n_df = weather_data.loc[weather_data['Lat'] >= 0,:]\n",
    "#x_values_n = hem_n_df[\"Lat\"]\n",
    "y_cloud_n = hem_n_df['Cloudiness']\n",
    " \n",
    "# Perform a linear regression on Max Temperature vs. latitude\n",
    "(slope_cloud_n, intercept_cloud_n, rvalue_cloud_n, pvalue, stderr) = stats.linregress(x_values_n, y_cloud_n)\n",
    "\n",
    "# Get regression values\n",
    "regress_values_cloudn = x_values_n * slope_cloud_n + intercept_cloud_n\n",
    "#print(regress_values_cloudn)\n",
    "line_eq_n = \"y = \" + str(round(slope_cloud_n,2)) + \"x +\" + str(round(intercept_cloud_n,2))"
   ]
  },
  {
   "cell_type": "code",
   "execution_count": 25,
   "metadata": {},
   "outputs": [
    {
     "name": "stdout",
     "output_type": "stream",
     "text": [
      "The r value is: 0.07287238429519725\n"
     ]
    },
    {
     "data": {
      "image/png": "[encoded data removed]",
      "text/plain": [
       "<Figure size 432x288 with 1 Axes>"
      ]
     },
     "metadata": {
      "needs_background": "light"
     },
     "output_type": "display_data"
    }
   ],
   "source": [
    "plt.scatter(x_values_n,y_cloud_n)\n",
    "plt.plot(x_values_n,regress_values_cloudn,\"r--\")\n",
    "\n",
    "# Label plot and annotate the line equation\n",
    "plt.xlabel('Latitude')\n",
    "plt.ylabel('Cloudiness')\n",
    "plt.annotate(line_eq_n,(30,75),fontsize=15,color=\"red\")\n",
    "\n",
    "# Print r value\n",
    "print(f\"The r value is: {rvalue_cloud_n}\")\n",
    "\n",
    "# Save the figure\n",
    "plt.savefig(\"cloudiness_N_hemisphere.png\")\n",
    "\n",
    "# Show plot\n",
    "plt.show()"
   ]
  },
  {
   "cell_type": "markdown",
   "metadata": {},
   "source": [
    "####  Southern Hemisphere - Cloudiness (%) vs. Latitude Linear Regression"
   ]
  },
  {
   "cell_type": "code",
   "execution_count": 26,
   "metadata": {},
   "outputs": [],
   "source": [
    "#hem_s_df = weather_data.loc[weather_data['Lat'] < 0,:]\n",
    "#x_values_s = hem_s_df[\"Lat\"]\n",
    "y_cloud_s = hem_s_df['Cloudiness']\n",
    "# Perform a linear regression on Max Temperature vs. latitude\n",
    "(slope_cloud_s, intercept_cloud_s, rvalue_cloud_s, pvalue, stderr) = stats.linregress(x_values_s, y_cloud_s)\n",
    "\n",
    "# Get regression values\n",
    "regress_values_clouds = x_values_s * slope_cloud_s + intercept_cloud_s\n",
    "#print(regress_values_clouds)\n",
    "line_eq_s = \"y = \" + str(round(slope_cloud_s,2)) + \"x +\" + str(round(intercept_cloud_s,2))\n"
   ]
  },
  {
   "cell_type": "code",
   "execution_count": 27,
   "metadata": {},
   "outputs": [
    {
     "name": "stdout",
     "output_type": "stream",
     "text": [
      "The r value is: 0.019103613924941778\n"
     ]
    },
    {
     "data": {
      "image/png": "[encoded data removed]",
      "text/plain": [
       "<Figure size 432x288 with 1 Axes>"
      ]
     },
     "metadata": {
      "needs_background": "light"
     },
     "output_type": "display_data"
    }
   ],
   "source": [
    "plt.scatter(x_values_s,y_cloud_s)\n",
    "plt.plot(x_values_s,regress_values_clouds,\"r-\")\n",
    "\n",
    "# Label plot and annotate the line equation\n",
    "plt.xlabel('Latitude')\n",
    "plt.ylabel('Cloudiness')\n",
    "plt.annotate(line_eq_s,(-30,25),fontsize=15,color=\"red\")\n",
    "\n",
    "# Print r value\n",
    "print(f\"The r value is: {rvalue_cloud_s}\")\n",
    "\n",
    "# Save the figure\n",
    "plt.savefig(\"cloudiness_S_hemisphere.png\")\n",
    "\n",
    "# Show plot\n",
    "plt.show()"
   ]
  },
  {
   "cell_type": "markdown",
   "metadata": {},
   "source": [
    "### From the r-value derived we could confirm that there is very weak correlation between Cloudiness and latitude."
   ]
  },
  {
   "cell_type": "raw",
   "metadata": {},
   "source": []
  },
  {
   "cell_type": "markdown",
   "metadata": {},
   "source": [
    "####  Northern Hemisphere - Wind Speed (mph) vs. Latitude Linear Regression"
   ]
  },
  {
   "cell_type": "code",
   "execution_count": 28,
   "metadata": {},
   "outputs": [],
   "source": [
    "#hem_n_df = weather_data.loc[weather_data['Lat'] >= 0,:]\n",
    "#x_values_n = hem_n_df[\"Lat\"]\n",
    "y_wind_n = hem_n_df['Wind Speed']\n",
    " \n",
    "# Perform a linear regression on Max Temperature vs. latitude\n",
    "(slope_wind_n, intercept_wind_n, rvalue_wind_n, pvalue, stderr) = stats.linregress(x_values_n, y_wind_n)\n",
    "\n",
    "# Get regression values\n",
    "regress_values_windn = x_values_n * slope_wind_n + intercept_wind_n\n",
    "#print(regress_values_windn)\n",
    "line_eq_n = \"y = \" + str(round(slope_wind_n,2)) + \"x +\" + str(round(intercept_wind_n,2))\n"
   ]
  },
  {
   "cell_type": "code",
   "execution_count": 29,
   "metadata": {},
   "outputs": [
    {
     "name": "stdout",
     "output_type": "stream",
     "text": [
      "The r value is: -0.08608471034583745\n"
     ]
    },
    {
     "data": {
      "image/png": "[encoded data removed]",
      "text/plain": [
       "<Figure size 432x288 with 1 Axes>"
      ]
     },
     "metadata": {
      "needs_background": "light"
     },
     "output_type": "display_data"
    }
   ],
   "source": [
    "plt.scatter(x_values_n,y_wind_n)\n",
    "plt.plot(x_values_n,regress_values_windn,\"r--\")\n",
    "\n",
    "# Label plot and annotate the line equation\n",
    "plt.xlabel('Latitude')\n",
    "plt.ylabel('Wind Speed')\n",
    "plt.annotate(line_eq_n,(30,7),fontsize=15,color=\"red\")\n",
    "\n",
    "# Print r value\n",
    "print(f\"The r value is: {rvalue_wind_n}\")\n",
    "\n",
    "# Save the figure\n",
    "plt.savefig(\"wind_N_hemisphere.png\")\n",
    "\n",
    "# Show plot\n",
    "plt.show()"
   ]
  },
  {
   "cell_type": "markdown",
   "metadata": {},
   "source": [
    "####  Southern Hemisphere - Wind Speed (mph) vs. Latitude Linear Regression"
   ]
  },
  {
   "cell_type": "code",
   "execution_count": 30,
   "metadata": {},
   "outputs": [],
   "source": [
    "#hem_s_df = weather_data.loc[weather_data['Lat'] < 0,:]\n",
    "#x_values_s = hem_s_df[\"Lat\"]\n",
    "y_wind_s = hem_s_df['Wind Speed']\n",
    "# Perform a linear regression on Max Temperature vs. latitude\n",
    "(slope_wind_s, intercept_wind_s, rvalue_wind_s, pvalue, stderr) = stats.linregress(x_values_s, y_wind_s)\n",
    "\n",
    "# Get regression values\n",
    "regress_values_winds = x_values_s * slope_wind_s + intercept_wind_s\n",
    "#print(regress_values_winds)\n",
    "line_eq_s = \"y = \" + str(round(slope_wind_s,2)) + \"x +\" + str(round(intercept_wind_s,2))"
   ]
  },
  {
   "cell_type": "code",
   "execution_count": 31,
   "metadata": {},
   "outputs": [
    {
     "name": "stdout",
     "output_type": "stream",
     "text": [
      "The r value is: 0.017264202760105957\n"
     ]
    },
    {
     "data": {
      "image/png": "[encoded data removed]",
      "text/plain": [
       "<Figure size 432x288 with 1 Axes>"
      ]
     },
     "metadata": {
      "needs_background": "light"
     },
     "output_type": "display_data"
    }
   ],
   "source": [
    "plt.scatter(x_values_s,y_wind_s)\n",
    "plt.plot(x_values_s,regress_values_winds,\"r-\")\n",
    "\n",
    "# Label plot and annotate the line equation\n",
    "plt.xlabel('Latitude')\n",
    "plt.ylabel('Wind Speed')\n",
    "plt.annotate(line_eq_s,(-40,3),fontsize=15,color=\"red\")\n",
    "\n",
    "# Print r value\n",
    "print(f\"The r value is: {rvalue_wind_s}\")\n",
    "\n",
    "# Save the figure\n",
    "plt.savefig(\"wind_S_hemisphere.png\")\n",
    "\n",
    "# Show plot\n",
    "plt.show()"
   ]
  },
  {
   "cell_type": "markdown",
   "metadata": {},
   "source": [
    "### The scatter plot and the r-value implies that there is very weak/no correlation between latitude and wind speed."
   ]
  },
  {
   "cell_type": "code",
   "execution_count": null,
   "metadata": {},
   "outputs": [],
   "source": []
  }
 ],
 "metadata": {
  "anaconda-cloud": {},
  "kernel_info": {
   "name": "python3"
  },
  "kernelspec": {
   "display_name": "Python 3",
   "language": "python",
   "name": "python3"
  },
  "language_info": {
   "codemirror_mode": {
    "name": "ipython",
    "version": 3
   },
   "file_extension": ".py",
   "mimetype": "text/x-python",
   "name": "python",
   "nbconvert_exporter": "python",
   "pygments_lexer": "ipython3",
   "version": "3.7.11"
  },
  "latex_envs": {
   "LaTeX_envs_menu_present": true,
   "autoclose": false,
   "autocomplete": true,
   "bibliofile": "biblio.bib",
   "cite_by": "apalike",
   "current_citInitial": 1,
   "eqLabelWithNumbers": true,
   "eqNumInitial": 1,
   "hotkeys": {
    "equation": "Ctrl-E",
    "itemize": "Ctrl-I"
   },
   "labels_anchors": false,
   "latex_user_defs": false,
   "report_style_numbering": false,
   "user_envs_cfg": false
  },
  "nteract": {
   "version": "0.12.3"
  }
 },
 "nbformat": 4,
 "nbformat_minor": 2
}
