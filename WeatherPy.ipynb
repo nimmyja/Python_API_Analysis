{
 "cells": [
  {
   "cell_type": "markdown",
   "metadata": {},
   "source": [
    "# WeatherPy\n",
    "----\n",
    "\n",
    "#### Note\n",
    "* Instructions have been included for each segment. You do not have to follow them exactly, but they are included to help you think through the steps."
   ]
  },
  {
   "cell_type": "code",
   "execution_count": 16,
   "metadata": {
    "scrolled": true
   },
   "outputs": [],
   "source": [
    "# Dependencies and Setup\n",
    "import matplotlib.pyplot as plt\n",
    "import pandas as pd\n",
    "import numpy as np\n",
    "import requests\n",
    "import time\n",
    "from datetime import date\n",
    "from scipy import stats\n",
    "from scipy.stats import linregress\n",
    "\n",
    "\n",
    "# Import API key\n",
    "from api_keys import weather_api_key\n",
    "\n",
    "# Incorporated citipy to determine city based on latitude and longitude\n",
    "from citipy import citipy\n",
    "\n",
    "# Output File (CSV)\n",
    "output_data_file = \"output_data/cities.csv\"\n",
    "\n",
    "# Range of latitudes and longitudes\n",
    "lat_range = (-90, 90)\n",
    "lng_range = (-180, 180)\n"
   ]
  },
  {
   "cell_type": "markdown",
   "metadata": {},
   "source": [
    "## Generate Cities List"
   ]
  },
  {
   "cell_type": "code",
   "execution_count": 17,
   "metadata": {},
   "outputs": [
    {
     "name": "stdout",
     "output_type": "stream",
     "text": [
      "625\n"
     ]
    }
   ],
   "source": [
    "# List for holding lat_lngs and cities\n",
    "lat_lngs = []\n",
    "cities = []\n",
    "\n",
    "# Create a set of random lat and lng combinations\n",
    "lats = np.random.uniform(lat_range[0], lat_range[1], size=1500)\n",
    "lngs = np.random.uniform(lng_range[0], lng_range[1], size=1500)\n",
    "lat_lngs = zip(lats, lngs)\n",
    "\n",
    "# Identify nearest city for each lat, lng combination\n",
    "for lat_lng in lat_lngs:\n",
    "    city = citipy.nearest_city(lat_lng[0], lat_lng[1]).city_name\n",
    "    \n",
    "    # If the city is unique, then add it to a our cities list\n",
    "    if city not in cities:\n",
    "        cities.append(city)\n",
    "        \n",
    "\n",
    "\n",
    "# Print the city count to confirm sufficient count\n",
    "print(len(cities))"
   ]
  },
  {
   "cell_type": "markdown",
   "metadata": {},
   "source": [
    "### Perform API Calls\n",
    "* Perform a weather check on each city using a series of successive API calls.\n",
    "* Include a print log of each city as it'sbeing processed (with the city number and city name).\n"
   ]
  },
  {
   "cell_type": "code",
   "execution_count": 8,
   "metadata": {},
   "outputs": [],
   "source": [
    "cities_num = []\n",
    "cities_name = []\n",
    "lat= []\n",
    "lng= []\n",
    "temp= []\n",
    "humidity= []\n",
    "cloudy= []\n",
    "wind_speed= []\n",
    "country= []\n",
    "date= []\n",
    "record = 0\n",
    "set = 1\n",
    "city_count = 0\n",
    "url = \"http://api.openweathermap.org/data/2.5/weather?\"\n",
    "#query_url = f\"{url}appid={weather_api_key}&q=\"\n",
    "#&units=imperial\n"
   ]
  },
  {
   "cell_type": "code",
   "execution_count": 9,
   "metadata": {},
   "outputs": [
    {
     "name": "stdout",
     "output_type": "stream",
     "text": [
      "Beginning Data Retrieval\n",
      "----------------------------------------------------------------\n",
      "Processing Record 1 of Set 1 | Hermanus \n",
      "Processing Record 2 of Set 1 | Mount Gambier \n",
      "City not found. Skipping...\n",
      "Processing Record 3 of Set 1 | Smithers \n",
      "Processing Record 4 of Set 1 | Padang \n",
      "Processing Record 5 of Set 1 | Tuktoyaktuk \n",
      "Processing Record 6 of Set 1 | Afuá \n",
      "City not found. Skipping...\n",
      "Processing Record 7 of Set 1 | Lüderitz \n",
      "Processing Record 8 of Set 1 | Mossamedes \n",
      "Processing Record 9 of Set 1 | Broken Hill \n",
      "Processing Record 10 of Set 1 | Rikitea \n",
      "Processing Record 11 of Set 1 | Puerto Ayora \n",
      "Processing Record 12 of Set 1 | Grindavik \n",
      "Processing Record 13 of Set 1 | Coquimbo \n",
      "Processing Record 14 of Set 1 | Chokurdakh \n",
      "Processing Record 15 of Set 1 | Chadiza \n",
      "Processing Record 16 of Set 1 | Souillac \n",
      "Processing Record 17 of Set 1 | Nikolskoye \n",
      "Processing Record 18 of Set 1 | Dikson \n",
      "Processing Record 19 of Set 1 | Khatanga \n",
      "Processing Record 20 of Set 1 | Warrington \n",
      "Processing Record 21 of Set 1 | Chibombo \n",
      "Processing Record 22 of Set 1 | San Patricio \n",
      "City not found. Skipping...\n",
      "Processing Record 23 of Set 1 | Sept-Îles \n",
      "Processing Record 24 of Set 1 | Arraial do Cabo \n",
      "Processing Record 25 of Set 1 | Ushuaia \n",
      "Processing Record 26 of Set 1 | Port Alfred \n",
      "Processing Record 27 of Set 1 | Tura \n",
      "Processing Record 28 of Set 1 | Barrow \n",
      "Processing Record 29 of Set 1 | Punta Arenas \n",
      "Processing Record 30 of Set 1 | Ostrovnoy \n",
      "Processing Record 31 of Set 1 | Ca Mau \n",
      "Processing Record 32 of Set 1 | Yangi Marg`ilon \n",
      "Processing Record 33 of Set 1 | Khāsh \n",
      "Processing Record 34 of Set 1 | Sitka \n",
      "Processing Record 35 of Set 1 | Jamestown \n",
      "Processing Record 36 of Set 1 | Hithadhoo \n",
      "Processing Record 37 of Set 1 | Pevek \n",
      "Processing Record 38 of Set 1 | East London \n",
      "Processing Record 39 of Set 1 | Mahébourg \n",
      "Processing Record 40 of Set 1 | Payo \n",
      "Processing Record 41 of Set 1 | Esperance \n",
      "Processing Record 42 of Set 1 | Norman Wells \n",
      "Processing Record 43 of Set 1 | Goderich \n",
      "Processing Record 44 of Set 1 | Albany \n",
      "Processing Record 45 of Set 1 | Butaritari \n",
      "Processing Record 46 of Set 1 | Casablanca \n",
      "Processing Record 47 of Set 1 | Castro \n",
      "Processing Record 48 of Set 1 | Cape Town \n",
      "Processing Record 49 of Set 1 | Hobart \n",
      "Processing Record 50 of Set 1 | Nuevo Progreso \n",
      "City not found. Skipping...\n",
      "----------------------------------------------------------------\n",
      "Processing Record 0 of Set 2 | Acapulco de Juárez \n",
      "Processing Record 1 of Set 2 | Viedma \n",
      "Processing Record 2 of Set 2 | Lavrentiya \n",
      "Processing Record 3 of Set 2 | Imbituba \n",
      "City not found. Skipping...\n",
      "Processing Record 4 of Set 2 | Anloga \n",
      "Processing Record 5 of Set 2 | Sur \n",
      "Processing Record 6 of Set 2 | Mataura \n",
      "City not found. Skipping...\n",
      "Processing Record 7 of Set 2 | Busselton \n",
      "City not found. Skipping...\n",
      "Processing Record 8 of Set 2 | Cabo San Lucas \n",
      "Processing Record 9 of Set 2 | Lukovetskiy \n",
      "Processing Record 10 of Set 2 | Qasigiannguit \n",
      "Processing Record 11 of Set 2 | Mesyagutovo \n",
      "Processing Record 12 of Set 2 | Khovd \n",
      "Processing Record 13 of Set 2 | Bomi \n",
      "Processing Record 14 of Set 2 | Atuona \n",
      "City not found. Skipping...\n",
      "Processing Record 15 of Set 2 | Mareeba \n",
      "Processing Record 16 of Set 2 | Boca do Acre \n",
      "Processing Record 17 of Set 2 | Llanes \n",
      "Processing Record 18 of Set 2 | Ribeira Grande \n",
      "Processing Record 19 of Set 2 | Kushmurun \n",
      "Processing Record 20 of Set 2 | Along \n",
      "Processing Record 21 of Set 2 | Leh \n",
      "Processing Record 22 of Set 2 | Qaanaaq \n",
      "Processing Record 23 of Set 2 | Olafsvik \n",
      "Processing Record 24 of Set 2 | Port Elizabeth \n",
      "Processing Record 25 of Set 2 | Longyearbyen \n",
      "Processing Record 26 of Set 2 | San Rafael \n",
      "Processing Record 27 of Set 2 | Yellowknife \n",
      "Processing Record 28 of Set 2 | Tiksi \n",
      "Processing Record 29 of Set 2 | Samarkand \n",
      "Processing Record 30 of Set 2 | Termoli \n",
      "Processing Record 31 of Set 2 | Dzerzhinskoye \n",
      "City not found. Skipping...\n",
      "Processing Record 32 of Set 2 | Thinadhoo \n",
      "Processing Record 33 of Set 2 | Agüimes \n",
      "Processing Record 34 of Set 2 | Yulara \n",
      "Processing Record 35 of Set 2 | Port Blair \n",
      "Processing Record 36 of Set 2 | Airai \n",
      "Processing Record 37 of Set 2 | Bluff \n",
      "Processing Record 38 of Set 2 | Hasaki \n",
      "Processing Record 39 of Set 2 | Lucapa \n",
      "Processing Record 40 of Set 2 | Orthez \n",
      "Processing Record 41 of Set 2 | Salalah \n",
      "Processing Record 42 of Set 2 | Kununurra \n",
      "Processing Record 43 of Set 2 | Kavaratti \n",
      "Processing Record 44 of Set 2 | North Bend \n",
      "City not found. Skipping...\n",
      "Processing Record 45 of Set 2 | Saint-Philippe \n",
      "Processing Record 46 of Set 2 | Porto-Novo \n",
      "Processing Record 47 of Set 2 | Caravelas \n",
      "Processing Record 48 of Set 2 | Susaki \n",
      "Processing Record 49 of Set 2 | Vaini \n",
      "City not found. Skipping...\n",
      "----------------------------------------------------------------\n",
      "Processing Record 0 of Set 3 | Balakhninskiy \n",
      "City not found. Skipping...\n",
      "Processing Record 1 of Set 3 | Loíza \n",
      "Processing Record 2 of Set 3 | Los Llanos de Aridane \n",
      "Processing Record 3 of Set 3 | George Town \n",
      "Processing Record 4 of Set 3 | New Norfolk \n",
      "Processing Record 5 of Set 3 | Tucumcari \n",
      "Processing Record 6 of Set 3 | Westport \n",
      "Processing Record 7 of Set 3 | Waingapu \n",
      "Processing Record 8 of Set 3 | Japura \n",
      "City not found. Skipping...\n",
      "Processing Record 9 of Set 3 | Dana Point \n",
      "Processing Record 10 of Set 3 | Buala \n",
      "City not found. Skipping...\n",
      "Processing Record 11 of Set 3 | Avarua \n",
      "Processing Record 12 of Set 3 | Mount Isa \n",
      "Processing Record 13 of Set 3 | Bonthe \n",
      "Processing Record 14 of Set 3 | Araouane \n",
      "Processing Record 15 of Set 3 | Leningradskiy \n",
      "Processing Record 16 of Set 3 | Nouadhibou \n",
      "Processing Record 17 of Set 3 | Manga \n",
      "Processing Record 18 of Set 3 | Saskylakh \n",
      "Processing Record 19 of Set 3 | Bangui \n",
      "Processing Record 20 of Set 3 | São Miguel do Araguaia \n",
      "Processing Record 21 of Set 3 | Iqaluit \n",
      "Processing Record 22 of Set 3 | Wau \n",
      "Processing Record 23 of Set 3 | Kaitangata \n",
      "Processing Record 24 of Set 3 | Moindou \n",
      "Processing Record 25 of Set 3 | Cidreira \n",
      "Processing Record 26 of Set 3 | Port Hardy \n",
      "Processing Record 27 of Set 3 | Bethel \n",
      "Processing Record 28 of Set 3 | Carnarvon \n",
      "Processing Record 29 of Set 3 | Kapaa \n",
      "Processing Record 30 of Set 3 | Chicama \n",
      "Processing Record 31 of Set 3 | Tottori-shi \n",
      "Processing Record 32 of Set 3 | Palmer \n",
      "Processing Record 33 of Set 3 | Guerrero Negro \n",
      "Processing Record 34 of Set 3 | Natal \n",
      "Processing Record 35 of Set 3 | Sisimiut \n",
      "Processing Record 36 of Set 3 | Saint Paul Harbor \n",
      "Processing Record 37 of Set 3 | Ndago \n",
      "Processing Record 38 of Set 3 | Lompoc \n",
      "Processing Record 39 of Set 3 | Yuxia \n",
      "City not found. Skipping...\n",
      "Processing Record 40 of Set 3 | Portland \n",
      "Processing Record 41 of Set 3 | San Ramon \n",
      "Processing Record 42 of Set 3 | Praxédis Guerrero \n",
      "Processing Record 43 of Set 3 | Nome \n",
      "Processing Record 44 of Set 3 | Maykor \n",
      "Processing Record 45 of Set 3 | Wembley \n",
      "Processing Record 46 of Set 3 | Kangaba \n",
      "Processing Record 47 of Set 3 | Las Rosas \n",
      "City not found. Skipping...\n",
      "Processing Record 48 of Set 3 | Tisul' \n",
      "Processing Record 49 of Set 3 | Muros \n",
      "----------------------------------------------------------------\n",
      "Processing Record 0 of Set 4 | Coyhaique \n",
      "City not found. Skipping...\n",
      "Processing Record 1 of Set 4 | Lorengau \n",
      "Processing Record 2 of Set 4 | Bredasdorp \n",
      "Processing Record 3 of Set 4 | Shakiso \n",
      "Processing Record 4 of Set 4 | Najrān \n",
      "Processing Record 5 of Set 4 | Camacha \n",
      "Processing Record 6 of Set 4 | Faanui \n",
      "Processing Record 7 of Set 4 | Millinocket \n",
      "Processing Record 8 of Set 4 | Navahrudak \n",
      "Processing Record 9 of Set 4 | Oistins \n",
      "Processing Record 10 of Set 4 | Warri \n",
      "City not found. Skipping...\n",
      "City not found. Skipping...\n",
      "Processing Record 11 of Set 4 | Cururupu \n",
      "City not found. Skipping...\n",
      "Processing Record 12 of Set 4 | Kaeo \n",
      "Processing Record 13 of Set 4 | Talara \n",
      "City not found. Skipping...\n",
      "Processing Record 14 of Set 4 | Adrar \n",
      "Processing Record 15 of Set 4 | Prome \n",
      "Processing Record 16 of Set 4 | Khandyga \n",
      "City not found. Skipping...\n",
      "Processing Record 17 of Set 4 | Constitución \n",
      "Processing Record 18 of Set 4 | Nanma \n",
      "Processing Record 19 of Set 4 | Liwale \n",
      "Processing Record 20 of Set 4 | Mar del Plata \n",
      "Processing Record 21 of Set 4 | Kalmunai \n",
      "Processing Record 22 of Set 4 | Tiruchchendur \n"
     ]
    },
    {
     "name": "stdout",
     "output_type": "stream",
     "text": [
      "Processing Record 23 of Set 4 | Narsaq \n",
      "Processing Record 24 of Set 4 | Lagoa \n",
      "Processing Record 25 of Set 4 | Coihueco \n",
      "Processing Record 26 of Set 4 | Virginia Beach \n",
      "Processing Record 27 of Set 4 | Severo-Kuril'sk \n",
      "Processing Record 28 of Set 4 | Morón \n",
      "Processing Record 29 of Set 4 | Benguela \n",
      "Processing Record 30 of Set 4 | Esso \n",
      "City not found. Skipping...\n",
      "Processing Record 31 of Set 4 | Byron Bay \n",
      "Processing Record 32 of Set 4 | Tabas \n",
      "Processing Record 33 of Set 4 | Karratha \n",
      "Processing Record 34 of Set 4 | Eldorado \n",
      "Processing Record 35 of Set 4 | Alofi \n",
      "City not found. Skipping...\n",
      "Processing Record 36 of Set 4 | Seversk \n",
      "Processing Record 37 of Set 4 | Hilo \n",
      "Processing Record 38 of Set 4 | Pathein \n",
      "City not found. Skipping...\n",
      "Processing Record 39 of Set 4 | Nemuro \n",
      "Processing Record 40 of Set 4 | Pudozh \n",
      "City not found. Skipping...\n",
      "Processing Record 41 of Set 4 | Mahabalipuram \n",
      "Processing Record 42 of Set 4 | Karlskrona \n",
      "Processing Record 43 of Set 4 | Matagami \n",
      "Processing Record 44 of Set 4 | Simití \n",
      "Processing Record 45 of Set 4 | Bridlington \n",
      "Processing Record 46 of Set 4 | Klaksvík \n",
      "Processing Record 47 of Set 4 | Ancud \n",
      "Processing Record 48 of Set 4 | La Ronge \n",
      "Processing Record 49 of Set 4 | Paamiut \n",
      "----------------------------------------------------------------\n",
      "Processing Record 0 of Set 5 | Coahuayana Viejo \n",
      "Processing Record 1 of Set 5 | Vyshhorod \n",
      "City not found. Skipping...\n",
      "Processing Record 2 of Set 5 | Port Augusta \n",
      "Processing Record 3 of Set 5 | Iskateley \n",
      "City not found. Skipping...\n",
      "Processing Record 4 of Set 5 | Gunjur \n",
      "City not found. Skipping...\n",
      "Processing Record 5 of Set 5 | Bengkulu \n",
      "Processing Record 6 of Set 5 | San Cristobal \n",
      "Processing Record 7 of Set 5 | Katsuura \n",
      "City not found. Skipping...\n",
      "Processing Record 8 of Set 5 | Bow Island \n",
      "City not found. Skipping...\n",
      "Processing Record 9 of Set 5 | Nyurba \n",
      "Processing Record 10 of Set 5 | Chui \n",
      "Processing Record 11 of Set 5 | Stornoway \n",
      "Processing Record 12 of Set 5 | Half Moon Bay \n",
      "Processing Record 13 of Set 5 | Norrtälje \n",
      "Processing Record 14 of Set 5 | Provideniya \n",
      "Processing Record 15 of Set 5 | São Filipe \n",
      "Processing Record 16 of Set 5 | Torbay \n",
      "Processing Record 17 of Set 5 | Vila Velha \n",
      "Processing Record 18 of Set 5 | Killybegs \n",
      "Processing Record 19 of Set 5 | Sheridan \n",
      "Processing Record 20 of Set 5 | Welahan \n",
      "Processing Record 21 of Set 5 | Bairiki Village \n",
      "Processing Record 22 of Set 5 | Río Gallegos \n",
      "Processing Record 23 of Set 5 | Geraldton \n",
      "Processing Record 24 of Set 5 | Vikeså \n",
      "Processing Record 25 of Set 5 | Carballo \n",
      "Processing Record 26 of Set 5 | Ponta do Sol \n",
      "Processing Record 27 of Set 5 | Kavieng \n",
      "Processing Record 28 of Set 5 | Tabou \n",
      "City not found. Skipping...\n",
      "Processing Record 29 of Set 5 | Mabaruma \n",
      "Processing Record 30 of Set 5 | Vardø \n",
      "Processing Record 31 of Set 5 | Manzhouli \n",
      "Processing Record 32 of Set 5 | Bratsk \n",
      "Processing Record 33 of Set 5 | Bara \n",
      "Processing Record 34 of Set 5 | Berlevåg \n",
      "Processing Record 35 of Set 5 | Arman' \n",
      "Processing Record 36 of Set 5 | Sungai Penuh \n",
      "Processing Record 37 of Set 5 | Assiut \n",
      "Processing Record 38 of Set 5 | Moose Factory \n",
      "Processing Record 39 of Set 5 | Uray \n",
      "Processing Record 40 of Set 5 | Asău \n",
      "Processing Record 41 of Set 5 | Broome \n",
      "Processing Record 42 of Set 5 | Lebu \n",
      "Processing Record 43 of Set 5 | Shimokizukuri \n",
      "Processing Record 44 of Set 5 | Latacunga \n",
      "Processing Record 45 of Set 5 | Darnah \n",
      "Processing Record 46 of Set 5 | Savonlinna \n",
      "Processing Record 47 of Set 5 | Marabba \n",
      "Processing Record 48 of Set 5 | Kutum \n",
      "Processing Record 49 of Set 5 | Awjilah \n",
      "----------------------------------------------------------------\n",
      "Processing Record 0 of Set 6 | Thompson \n",
      "Processing Record 1 of Set 6 | Laguna \n",
      "Processing Record 2 of Set 6 | Srednekolymsk \n",
      "Processing Record 3 of Set 6 | Banda Aceh \n",
      "Processing Record 4 of Set 6 | Ajdabiya \n",
      "Processing Record 5 of Set 6 | Pangnirtung \n",
      "Processing Record 6 of Set 6 | Helong \n",
      "Processing Record 7 of Set 6 | Iracoubo \n",
      "Processing Record 8 of Set 6 | Qui Nhon \n",
      "Processing Record 9 of Set 6 | Faya \n",
      "Processing Record 10 of Set 6 | Ahar \n",
      "City not found. Skipping...\n",
      "City not found. Skipping...\n",
      "Processing Record 11 of Set 6 | Anadyr \n",
      "Processing Record 12 of Set 6 | Wonthaggi \n",
      "Processing Record 13 of Set 6 | Avera \n",
      "Processing Record 14 of Set 6 | Vila Franca do Campo \n",
      "Processing Record 15 of Set 6 | Qaqortoq \n",
      "Processing Record 16 of Set 6 | Boende \n",
      "Processing Record 17 of Set 6 | Trairi \n",
      "Processing Record 18 of Set 6 | Gălăuţaş \n",
      "City not found. Skipping...\n",
      "Processing Record 19 of Set 6 | Tapes \n",
      "Processing Record 20 of Set 6 | Mukhen \n",
      "Processing Record 21 of Set 6 | Codrington \n",
      "Processing Record 22 of Set 6 | Kruisfontein \n",
      "Processing Record 23 of Set 6 | Say \n",
      "Processing Record 24 of Set 6 | Mariánské Lázně \n",
      "Processing Record 25 of Set 6 | Jumla \n",
      "Processing Record 26 of Set 6 | Pitimbu \n",
      "Processing Record 27 of Set 6 | Camocim \n",
      "Processing Record 28 of Set 6 | Upernavik \n",
      "Processing Record 29 of Set 6 | Egvekinot \n",
      "Processing Record 30 of Set 6 | Chabahar \n",
      "Processing Record 31 of Set 6 | Tarakan \n",
      "Processing Record 32 of Set 6 | Saint-Augustin \n",
      "Processing Record 33 of Set 6 | Vestmanna \n",
      "Processing Record 34 of Set 6 | Pringsewu \n",
      "Processing Record 35 of Set 6 | Naze \n",
      "Processing Record 36 of Set 6 | Zapolyarnyy \n",
      "City not found. Skipping...\n",
      "Processing Record 37 of Set 6 | Dombarovskiy \n",
      "Processing Record 38 of Set 6 | Thayetmyo \n",
      "Processing Record 39 of Set 6 | Rāmānuj Ganj \n",
      "Processing Record 40 of Set 6 | Coolum Beach \n",
      "Processing Record 41 of Set 6 | Mulegé \n",
      "Processing Record 42 of Set 6 | Nichinan \n",
      "Processing Record 43 of Set 6 | Novouzensk \n",
      "Processing Record 44 of Set 6 | São Paulo de Olivença \n",
      "Processing Record 45 of Set 6 | Pahrump \n",
      "Processing Record 46 of Set 6 | Belen \n",
      "Processing Record 47 of Set 6 | Derzhavīnsk \n",
      "Processing Record 48 of Set 6 | Lipin Bor \n",
      "Processing Record 49 of Set 6 | Cobija \n",
      "----------------------------------------------------------------\n",
      "Processing Record 0 of Set 7 | Tual \n",
      "City not found. Skipping...\n",
      "Processing Record 1 of Set 7 | Grand Bank \n",
      "Processing Record 2 of Set 7 | Buzuluk \n",
      "Processing Record 3 of Set 7 | Shevchenkove \n",
      "Processing Record 4 of Set 7 | Namatanai \n",
      "Processing Record 5 of Set 7 | Bathsheba \n",
      "Processing Record 6 of Set 7 | Roald \n",
      "City not found. Skipping...\n",
      "Processing Record 7 of Set 7 | Chandler \n",
      "Processing Record 8 of Set 7 | Murgab \n",
      "Processing Record 9 of Set 7 | Nouakchott \n",
      "Processing Record 10 of Set 7 | Isangel \n",
      "Processing Record 11 of Set 7 | Provost \n",
      "City not found. Skipping...\n",
      "City not found. Skipping...\n",
      "Processing Record 12 of Set 7 | Djibo \n",
      "Processing Record 13 of Set 7 | Fendou \n",
      "Processing Record 14 of Set 7 | Mtama \n",
      "City not found. Skipping...\n",
      "Processing Record 15 of Set 7 | Touros \n",
      "Processing Record 16 of Set 7 | Samarai \n",
      "Processing Record 17 of Set 7 | Tigil' \n",
      "Processing Record 18 of Set 7 | Ixtapa \n",
      "Processing Record 19 of Set 7 | Jieshi \n",
      "City not found. Skipping...\n",
      "Processing Record 20 of Set 7 | Birjand \n",
      "Processing Record 21 of Set 7 | Tay Ninh \n",
      "Processing Record 22 of Set 7 | Bulungu \n",
      "Processing Record 23 of Set 7 | Flin Flon \n",
      "Processing Record 24 of Set 7 | Phalombe \n",
      "Processing Record 25 of Set 7 | Sharan \n",
      "Processing Record 26 of Set 7 | Jiaozuo \n",
      "Processing Record 27 of Set 7 | Gdynia \n",
      "Processing Record 28 of Set 7 | Zverinogolovskoye \n",
      "Processing Record 29 of Set 7 | Chokwé \n",
      "Processing Record 30 of Set 7 | Panguna \n",
      "Processing Record 31 of Set 7 | Bud \n",
      "Processing Record 32 of Set 7 | Nelidovo \n",
      "Processing Record 33 of Set 7 | Sayansk \n",
      "Processing Record 34 of Set 7 | Yar-Sale \n",
      "Processing Record 35 of Set 7 | Hofn \n",
      "Processing Record 36 of Set 7 | Boa Vista \n",
      "Processing Record 37 of Set 7 | Boali \n",
      "Processing Record 38 of Set 7 | Oltu \n",
      "Processing Record 39 of Set 7 | Staraya Akkermanovka \n",
      "Processing Record 40 of Set 7 | Krāslava \n",
      "Processing Record 41 of Set 7 | Luganville \n",
      "Processing Record 42 of Set 7 | Kahului \n",
      "Processing Record 43 of Set 7 | Taoudenni \n",
      "Processing Record 44 of Set 7 | Maubin \n",
      "Processing Record 45 of Set 7 | Tianpeng \n",
      "Processing Record 46 of Set 7 | Constantine \n",
      "Processing Record 47 of Set 7 | Nahrin \n",
      "Processing Record 48 of Set 7 | San Quintín \n",
      "Processing Record 49 of Set 7 | Lovington \n",
      "----------------------------------------------------------------\n"
     ]
    },
    {
     "name": "stdout",
     "output_type": "stream",
     "text": [
      "Processing Record 0 of Set 8 | Agirish \n",
      "Processing Record 1 of Set 8 | Lata \n",
      "Processing Record 2 of Set 8 | Howell \n",
      "Processing Record 3 of Set 8 | Koratagere \n",
      "Processing Record 4 of Set 8 | Saint George \n",
      "Processing Record 5 of Set 8 | Lamu \n",
      "Processing Record 6 of Set 8 | Keuruu \n",
      "City not found. Skipping...\n",
      "Processing Record 7 of Set 8 | Sirte \n",
      "Processing Record 8 of Set 8 | Ordynskoye \n",
      "Processing Record 9 of Set 8 | Sal Rei \n",
      "Processing Record 10 of Set 8 | Pisco \n",
      "Processing Record 11 of Set 8 | Makīnsk \n",
      "Processing Record 12 of Set 8 | Waipawa \n",
      "Processing Record 13 of Set 8 | Hwange \n",
      "Processing Record 14 of Set 8 | Vanimo \n",
      "Processing Record 15 of Set 8 | Salinópolis \n",
      "Processing Record 16 of Set 8 | Windhoek \n",
      "Processing Record 17 of Set 8 | Iwaki \n",
      "Processing Record 18 of Set 8 | Meulaboh \n",
      "Processing Record 19 of Set 8 | Palmerston North \n",
      "Processing Record 20 of Set 8 | Jacareacanga \n",
      "Processing Record 21 of Set 8 | Saint Anthony \n",
      "City not found. Skipping...\n",
      "Processing Record 22 of Set 8 | Qaryat Sulūq \n",
      "Processing Record 23 of Set 8 | Aklavik \n",
      "Processing Record 24 of Set 8 | Koumac \n",
      "Processing Record 25 of Set 8 | Ashington \n",
      "Processing Record 26 of Set 8 | Mozarlândia \n",
      "Processing Record 27 of Set 8 | Patna \n",
      "Processing Record 28 of Set 8 | Rocha \n",
      "City not found. Skipping...\n",
      "Processing Record 29 of Set 8 | Mēga \n",
      "Processing Record 30 of Set 8 | Dunedin \n",
      "Processing Record 31 of Set 8 | Ciudad del Carmen \n",
      "Processing Record 32 of Set 8 | San Fernando \n",
      "Processing Record 33 of Set 8 | Corner Brook \n",
      "Processing Record 34 of Set 8 | Arroio Grande \n",
      "Processing Record 35 of Set 8 | College \n",
      "Processing Record 36 of Set 8 | Poronaysk \n",
      "Processing Record 37 of Set 8 | Vilyuysk \n",
      "Processing Record 38 of Set 8 | Watsa \n",
      "Processing Record 39 of Set 8 | Phonhong \n",
      "Processing Record 40 of Set 8 | La Unión \n",
      "City not found. Skipping...\n",
      "Processing Record 41 of Set 8 | Visby \n",
      "Processing Record 42 of Set 8 | Flinders \n",
      "Processing Record 43 of Set 8 | Takapau \n",
      "Processing Record 44 of Set 8 | Yārāda \n",
      "Processing Record 45 of Set 8 | Kunshan \n",
      "Processing Record 46 of Set 8 | Petropavlovsk-Kamchatskiy \n",
      "Processing Record 47 of Set 8 | Tucson \n",
      "Processing Record 48 of Set 8 | Barentu \n",
      "Processing Record 49 of Set 8 | Kalabo \n",
      "----------------------------------------------------------------\n",
      "Processing Record 0 of Set 9 | El Copé \n",
      "Processing Record 1 of Set 9 | Tuatapere \n",
      "Processing Record 2 of Set 9 | Gobabis \n",
      "Processing Record 3 of Set 9 | Richards Bay \n",
      "Processing Record 4 of Set 9 | Fairbanks \n",
      "Processing Record 5 of Set 9 | Quryq \n",
      "Processing Record 6 of Set 9 | Quang Ngai \n",
      "Processing Record 7 of Set 9 | Jalu \n",
      "Processing Record 8 of Set 9 | Blagoyevo \n",
      "Processing Record 9 of Set 9 | Sterling \n",
      "Processing Record 10 of Set 9 | Fougamou \n",
      "Processing Record 11 of Set 9 | Kalmar \n",
      "Processing Record 12 of Set 9 | Cockburn Town \n",
      "Processing Record 13 of Set 9 | Victor Harbor \n",
      "Processing Record 14 of Set 9 | Sola \n",
      "Processing Record 15 of Set 9 | Hīt \n",
      "Processing Record 16 of Set 9 | Sakakah \n",
      "Processing Record 17 of Set 9 | Pekalongan \n",
      "Processing Record 18 of Set 9 | Jiexiu \n",
      "Processing Record 19 of Set 9 | Cam Ranh \n",
      "Processing Record 20 of Set 9 | Calama \n",
      "Processing Record 21 of Set 9 | Dicabisagan \n",
      "Processing Record 22 of Set 9 | Cajati \n",
      "Processing Record 23 of Set 9 | Beringovskiy \n",
      "Processing Record 24 of Set 9 | Seoul \n",
      "Processing Record 25 of Set 9 | Honiara \n",
      "Processing Record 26 of Set 9 | Daşoguz \n",
      "Processing Record 27 of Set 9 | Council Bluffs \n",
      "Processing Record 28 of Set 9 | Camaçari \n",
      "Processing Record 29 of Set 9 | Posse \n",
      "Processing Record 30 of Set 9 | Cap-aux-Meules \n",
      "Processing Record 31 of Set 9 | Asti \n",
      "Processing Record 32 of Set 9 | Englehart \n",
      "Processing Record 33 of Set 9 | Doka \n",
      "Processing Record 34 of Set 9 | Serebryansk \n",
      "Processing Record 35 of Set 9 | Vestmannaeyjar \n",
      "Processing Record 36 of Set 9 | Solnechnyy \n",
      "Processing Record 37 of Set 9 | Necochea \n",
      "Processing Record 38 of Set 9 | Taywarah \n",
      "Processing Record 39 of Set 9 | Gorzów Wielkopolski \n",
      "Processing Record 40 of Set 9 | Buraidah \n",
      "Processing Record 41 of Set 9 | Hermiston \n",
      "Processing Record 42 of Set 9 | Tocopilla \n",
      "Processing Record 43 of Set 9 | Riyadh \n",
      "Processing Record 44 of Set 9 | Atambua \n",
      "Processing Record 45 of Set 9 | Ust'-Omchug \n",
      "Processing Record 46 of Set 9 | Pamplona \n",
      "City not found. Skipping...\n",
      "Processing Record 47 of Set 9 | Rosignol \n",
      "Processing Record 48 of Set 9 | Otradnoye \n",
      "Processing Record 49 of Set 9 | Aksarka \n",
      "----------------------------------------------------------------\n",
      "Processing Record 0 of Set 10 | Husavik \n",
      "Processing Record 1 of Set 10 | Harper \n",
      "Processing Record 2 of Set 10 | Beloha \n",
      "Processing Record 3 of Set 10 | Porto Murtinho \n",
      "Processing Record 4 of Set 10 | Poum \n",
      "Processing Record 5 of Set 10 | Mikrokambos \n",
      "Processing Record 6 of Set 10 | Novobirilyussy \n",
      "Processing Record 7 of Set 10 | Yeppoon \n",
      "Processing Record 8 of Set 10 | Lloydminster \n",
      "Processing Record 9 of Set 10 | Cherskiy \n",
      "City not found. Skipping...\n",
      "Processing Record 10 of Set 10 | Dudinka \n",
      "Processing Record 11 of Set 10 | Dauphin \n",
      "Processing Record 12 of Set 10 | Sangar \n",
      "Processing Record 13 of Set 10 | Kudahuvadhoo \n",
      "Processing Record 14 of Set 10 | Pritzwalk \n",
      "Processing Record 15 of Set 10 | Sars \n",
      "City not found. Skipping...\n",
      "City not found. Skipping...\n",
      "Processing Record 16 of Set 10 | Abu Samrah \n",
      "Processing Record 17 of Set 10 | Sistranda \n",
      "Processing Record 18 of Set 10 | Baghdad \n",
      "Processing Record 19 of Set 10 | Mvuma \n",
      "Processing Record 20 of Set 10 | Changuinola \n",
      "Processing Record 21 of Set 10 | Olinda \n",
      "Processing Record 22 of Set 10 | Mata \n",
      "Processing Record 23 of Set 10 | Havre-St-Pierre \n",
      "Processing Record 24 of Set 10 | Soavinandriana \n",
      "Processing Record 25 of Set 10 | Kloulklubed \n",
      "Processing Record 26 of Set 10 | Deputatsky \n",
      "Processing Record 27 of Set 10 | The Valley \n",
      "City not found. Skipping...\n",
      "Processing Record 28 of Set 10 | Baykit \n",
      "Processing Record 29 of Set 10 | Saint-Pierre \n",
      "Processing Record 30 of Set 10 | Talisay City \n",
      "Processing Record 31 of Set 10 | Ola \n",
      "Processing Record 32 of Set 10 | Tromsø \n",
      "Processing Record 33 of Set 10 | Antofagasta \n",
      "Processing Record 34 of Set 10 | Port Lincoln \n",
      "Processing Record 35 of Set 10 | Bishoftu \n",
      "Processing Record 36 of Set 10 | Ambon City \n",
      "Processing Record 37 of Set 10 | Kathmandu \n",
      "Processing Record 38 of Set 10 | Nioro \n",
      "Processing Record 39 of Set 10 | Fortuna \n",
      "Processing Record 40 of Set 10 | Olean \n",
      "Processing Record 41 of Set 10 | El Campo \n",
      "Processing Record 42 of Set 10 | Severnyy \n",
      "Processing Record 43 of Set 10 | Wajir \n",
      "Processing Record 44 of Set 10 | Bay-Khaak \n",
      "Processing Record 45 of Set 10 | Bambanglipuro \n",
      "Processing Record 46 of Set 10 | Tezu \n",
      "City not found. Skipping...\n",
      "Processing Record 47 of Set 10 | Hamilton \n",
      "Processing Record 48 of Set 10 | Itarantim \n",
      "Processing Record 49 of Set 10 | Tutóia \n",
      "----------------------------------------------------------------\n",
      "Processing Record 0 of Set 11 | Pizarro \n",
      "Processing Record 1 of Set 11 | Shitanjing \n",
      "Processing Record 2 of Set 11 | Oktyabr'skoye \n",
      "Processing Record 3 of Set 11 | Griffith \n",
      "Processing Record 4 of Set 11 | Sambava \n",
      "Processing Record 5 of Set 11 | Terney \n",
      "Processing Record 6 of Set 11 | Saldanha \n",
      "Processing Record 7 of Set 11 | Zhangaözen \n",
      "Processing Record 8 of Set 11 | Boden \n",
      "Processing Record 9 of Set 11 | Itaituba \n",
      "Processing Record 10 of Set 11 | Pontianak \n",
      "Processing Record 11 of Set 11 | Davila \n",
      "Processing Record 12 of Set 11 | Azare \n",
      "Processing Record 13 of Set 11 | Wewak \n",
      "Processing Record 14 of Set 11 | Maiduguri \n",
      "Processing Record 15 of Set 11 | La Santisima Trinidad \n",
      "Processing Record 16 of Set 11 | Middelkerke \n",
      "Processing Record 17 of Set 11 | Alice Springs \n",
      "Processing Record 18 of Set 11 | Hong Kong \n",
      "Processing Record 19 of Set 11 | San Blas \n",
      "Processing Record 20 of Set 11 | Pangkalanbuun \n",
      "Processing Record 21 of Set 11 | Antalaha \n",
      "Processing Record 22 of Set 11 | Seddon \n",
      "Processing Record 23 of Set 11 | Okhotsk \n",
      "Processing Record 24 of Set 11 | Mildura \n",
      "Processing Record 25 of Set 11 | Chernolesskoye \n",
      "City not found. Skipping...\n",
      "Processing Record 26 of Set 11 | Poso \n",
      "Processing Record 27 of Set 11 | Jilib \n",
      "Processing Record 28 of Set 11 | Manaure \n",
      "Processing Record 29 of Set 11 | Fare \n",
      "Processing Record 30 of Set 11 | Shenandoah \n"
     ]
    },
    {
     "name": "stdout",
     "output_type": "stream",
     "text": [
      "Processing Record 31 of Set 11 | Clyde River \n",
      "Processing Record 32 of Set 11 | Narón \n",
      "Processing Record 33 of Set 11 | Grand Gaube \n",
      "----------------------------------------------------------------\n",
      "Data Retrieval Complete\n",
      "----------------------------------------------------------------\n"
     ]
    }
   ],
   "source": [
    "print(\"Beginning Data Retrieval\")\n",
    "print(\"-\"*64)\n",
    "for city in cities:      \n",
    "    query_url = f\"{url}appid={weather_api_key}&q={city}&units=imperial\"\n",
    "    weather_response = requests.get(query_url)\n",
    "    weather_json = weather_response.json()\n",
    "    #print(query_url+city)\n",
    "    \n",
    "    try:\n",
    "         \n",
    "        city_id = weather_json[\"id\"]    \n",
    "        cities_num.append(city_id)\n",
    "\n",
    "        city_name = weather_json[\"name\"]\n",
    "        cities_name.append(city_name)\n",
    "\n",
    "        lat.append(weather_json[\"coord\"][\"lat\"])\n",
    "\n",
    "        lng.append(weather_json[\"coord\"][\"lon\"])        \n",
    "\n",
    "        temp.append(weather_json[\"main\"][\"temp\"])\n",
    "\n",
    "        humidity.append(weather_json[\"main\"][\"humidity\"])\n",
    "\n",
    "        cloudy.append(weather_json[\"clouds\"][\"all\"])\n",
    "\n",
    "        wind_speed.append(weather_json[\"wind\"][\"speed\"])\n",
    "\n",
    "        country.append(weather_json[\"sys\"][\"country\"])\n",
    "\n",
    "        date.append(weather_json[\"dt\"])\n",
    "\n",
    "        if record >49:\n",
    "            record =0\n",
    "            set +=1\n",
    "            city_count +=1\n",
    "            print(\"-\"*64)\n",
    "\n",
    "        elif set>1:\n",
    "            city_count +=1\n",
    "            print(f\"Processing Record {record} of Set {set} | {city_name} \")\n",
    "            record +=1\n",
    "\n",
    "        else:\n",
    "            record +=1\n",
    "            city_count +=1\n",
    "            print(f\"Processing Record {record} of Set {set} | {city_name} \")\n",
    "\n",
    "\n",
    "\n",
    "\n",
    "    except:\n",
    "        \n",
    "        #print(weather_json[\"message\"])\n",
    "        print(f\"City not found. Skipping...\")\n",
    "        pass\n",
    "    \n",
    "print(\"-\"*64)\n",
    "print(\"Data Retrieval Complete\")\n",
    "print(\"-\"*64)\n",
    "\n"
   ]
  },
  {
   "cell_type": "code",
   "execution_count": 10,
   "metadata": {},
   "outputs": [
    {
     "name": "stdout",
     "output_type": "stream",
     "text": [
      "544\n",
      "544\n",
      "544\n",
      "544\n",
      "544\n",
      "544\n",
      "544\n",
      "544\n",
      "544\n"
     ]
    }
   ],
   "source": [
    "print(len(lng))\n",
    "print(len(lat))\n",
    "print(city_count)\n",
    "print(len(temp))\n",
    "print(len(humidity))\n",
    "print(len(cloudy))\n",
    "print(len(wind_speed))\n",
    "print(len(country))\n",
    "print(len(date))    "
   ]
  },
  {
   "cell_type": "code",
   "execution_count": null,
   "metadata": {
    "scrolled": true
   },
   "outputs": [],
   "source": [
    "    "
   ]
  },
  {
   "cell_type": "markdown",
   "metadata": {},
   "source": [
    "### Convert Raw Data to DataFrame\n",
    "* Export the city data into a .csv.\n",
    "* Display the DataFrame"
   ]
  },
  {
   "cell_type": "code",
   "execution_count": 11,
   "metadata": {},
   "outputs": [
    {
     "data": {
      "text/html": [
       "<div>\n",
       "<style scoped>\n",
       "    .dataframe tbody tr th:only-of-type {\n",
       "        vertical-align: middle;\n",
       "    }\n",
       "\n",
       "    .dataframe tbody tr th {\n",
       "        vertical-align: top;\n",
       "    }\n",
       "\n",
       "    .dataframe thead th {\n",
       "        text-align: right;\n",
       "    }\n",
       "</style>\n",
       "<table border=\"1\" class=\"dataframe\">\n",
       "  <thead>\n",
       "    <tr style=\"text-align: right;\">\n",
       "      <th></th>\n",
       "      <th>City</th>\n",
       "      <th>Country</th>\n",
       "      <th>Date</th>\n",
       "      <th>Lat</th>\n",
       "      <th>Lng</th>\n",
       "      <th>Max Temp</th>\n",
       "      <th>Humidity</th>\n",
       "      <th>Cloudiness</th>\n",
       "      <th>Wind Speed</th>\n",
       "    </tr>\n",
       "  </thead>\n",
       "  <tbody>\n",
       "    <tr>\n",
       "      <th>0</th>\n",
       "      <td>Hermanus</td>\n",
       "      <td>ZA</td>\n",
       "      <td>1630104637</td>\n",
       "      <td>-34.4187</td>\n",
       "      <td>19.2345</td>\n",
       "      <td>41.81</td>\n",
       "      <td>75</td>\n",
       "      <td>82</td>\n",
       "      <td>11.63</td>\n",
       "    </tr>\n",
       "    <tr>\n",
       "      <th>1</th>\n",
       "      <td>Mount Gambier</td>\n",
       "      <td>AU</td>\n",
       "      <td>1630104638</td>\n",
       "      <td>-37.8333</td>\n",
       "      <td>140.7667</td>\n",
       "      <td>48.11</td>\n",
       "      <td>61</td>\n",
       "      <td>40</td>\n",
       "      <td>17.27</td>\n",
       "    </tr>\n",
       "    <tr>\n",
       "      <th>2</th>\n",
       "      <td>Smithers</td>\n",
       "      <td>CA</td>\n",
       "      <td>1630104639</td>\n",
       "      <td>54.7804</td>\n",
       "      <td>-127.1743</td>\n",
       "      <td>66.52</td>\n",
       "      <td>52</td>\n",
       "      <td>40</td>\n",
       "      <td>4.61</td>\n",
       "    </tr>\n",
       "    <tr>\n",
       "      <th>3</th>\n",
       "      <td>Padang</td>\n",
       "      <td>ID</td>\n",
       "      <td>1630104553</td>\n",
       "      <td>-0.9492</td>\n",
       "      <td>100.3543</td>\n",
       "      <td>76.35</td>\n",
       "      <td>88</td>\n",
       "      <td>72</td>\n",
       "      <td>4.05</td>\n",
       "    </tr>\n",
       "    <tr>\n",
       "      <th>4</th>\n",
       "      <td>Tuktoyaktuk</td>\n",
       "      <td>CA</td>\n",
       "      <td>1630104553</td>\n",
       "      <td>69.4541</td>\n",
       "      <td>-133.0374</td>\n",
       "      <td>51.80</td>\n",
       "      <td>87</td>\n",
       "      <td>75</td>\n",
       "      <td>6.91</td>\n",
       "    </tr>\n",
       "    <tr>\n",
       "      <th>...</th>\n",
       "      <td>...</td>\n",
       "      <td>...</td>\n",
       "      <td>...</td>\n",
       "      <td>...</td>\n",
       "      <td>...</td>\n",
       "      <td>...</td>\n",
       "      <td>...</td>\n",
       "      <td>...</td>\n",
       "      <td>...</td>\n",
       "    </tr>\n",
       "    <tr>\n",
       "      <th>539</th>\n",
       "      <td>Fare</td>\n",
       "      <td>PF</td>\n",
       "      <td>1630104848</td>\n",
       "      <td>-16.7000</td>\n",
       "      <td>-151.0167</td>\n",
       "      <td>78.42</td>\n",
       "      <td>76</td>\n",
       "      <td>30</td>\n",
       "      <td>12.50</td>\n",
       "    </tr>\n",
       "    <tr>\n",
       "      <th>540</th>\n",
       "      <td>Shenandoah</td>\n",
       "      <td>US</td>\n",
       "      <td>1630104727</td>\n",
       "      <td>30.4013</td>\n",
       "      <td>-91.0009</td>\n",
       "      <td>79.18</td>\n",
       "      <td>91</td>\n",
       "      <td>87</td>\n",
       "      <td>1.01</td>\n",
       "    </tr>\n",
       "    <tr>\n",
       "      <th>541</th>\n",
       "      <td>Clyde River</td>\n",
       "      <td>CA</td>\n",
       "      <td>1630104849</td>\n",
       "      <td>70.4692</td>\n",
       "      <td>-68.5914</td>\n",
       "      <td>39.43</td>\n",
       "      <td>93</td>\n",
       "      <td>75</td>\n",
       "      <td>6.91</td>\n",
       "    </tr>\n",
       "    <tr>\n",
       "      <th>542</th>\n",
       "      <td>Narón</td>\n",
       "      <td>ES</td>\n",
       "      <td>1630104849</td>\n",
       "      <td>43.5167</td>\n",
       "      <td>-8.1528</td>\n",
       "      <td>61.61</td>\n",
       "      <td>88</td>\n",
       "      <td>0</td>\n",
       "      <td>1.90</td>\n",
       "    </tr>\n",
       "    <tr>\n",
       "      <th>543</th>\n",
       "      <td>Grand Gaube</td>\n",
       "      <td>MU</td>\n",
       "      <td>1630104850</td>\n",
       "      <td>-20.0064</td>\n",
       "      <td>57.6608</td>\n",
       "      <td>71.38</td>\n",
       "      <td>84</td>\n",
       "      <td>87</td>\n",
       "      <td>13.00</td>\n",
       "    </tr>\n",
       "  </tbody>\n",
       "</table>\n",
       "<p>544 rows × 9 columns</p>\n",
       "</div>"
      ],
      "text/plain": [
       "              City Country        Date      Lat       Lng  Max Temp  Humidity  \\\n",
       "0         Hermanus      ZA  1630104637 -34.4187   19.2345     41.81        75   \n",
       "1    Mount Gambier      AU  1630104638 -37.8333  140.7667     48.11        61   \n",
       "2         Smithers      CA  1630104639  54.7804 -127.1743     66.52        52   \n",
       "3           Padang      ID  1630104553  -0.9492  100.3543     76.35        88   \n",
       "4      Tuktoyaktuk      CA  1630104553  69.4541 -133.0374     51.80        87   \n",
       "..             ...     ...         ...      ...       ...       ...       ...   \n",
       "539           Fare      PF  1630104848 -16.7000 -151.0167     78.42        76   \n",
       "540     Shenandoah      US  1630104727  30.4013  -91.0009     79.18        91   \n",
       "541    Clyde River      CA  1630104849  70.4692  -68.5914     39.43        93   \n",
       "542          Narón      ES  1630104849  43.5167   -8.1528     61.61        88   \n",
       "543    Grand Gaube      MU  1630104850 -20.0064   57.6608     71.38        84   \n",
       "\n",
       "     Cloudiness  Wind Speed  \n",
       "0            82       11.63  \n",
       "1            40       17.27  \n",
       "2            40        4.61  \n",
       "3            72        4.05  \n",
       "4            75        6.91  \n",
       "..          ...         ...  \n",
       "539          30       12.50  \n",
       "540          87        1.01  \n",
       "541          75        6.91  \n",
       "542           0        1.90  \n",
       "543          87       13.00  \n",
       "\n",
       "[544 rows x 9 columns]"
      ]
     },
     "execution_count": 11,
     "metadata": {},
     "output_type": "execute_result"
    }
   ],
   "source": [
    "weather_dict = {\n",
    "    \"City\": cities_name,\n",
    "    \"Country\":country,\n",
    "    \"Date\":date,\n",
    "    \"Lat\": lat,\n",
    "    \"Lng\": lng,\n",
    "    \"Max Temp\": temp,\n",
    "    \"Humidity\": humidity,\n",
    "    \"Cloudiness\":cloudy,\n",
    "    \"Wind Speed\":wind_speed    \n",
    "}\n",
    "weather_data = pd.DataFrame(weather_dict)\n",
    "weather_data.to_csv(output_data_file)\n",
    "weather_data"
   ]
  },
  {
   "cell_type": "code",
   "execution_count": 12,
   "metadata": {},
   "outputs": [
    {
     "data": {
      "text/html": [
       "<div>\n",
       "<style scoped>\n",
       "    .dataframe tbody tr th:only-of-type {\n",
       "        vertical-align: middle;\n",
       "    }\n",
       "\n",
       "    .dataframe tbody tr th {\n",
       "        vertical-align: top;\n",
       "    }\n",
       "\n",
       "    .dataframe thead th {\n",
       "        text-align: right;\n",
       "    }\n",
       "</style>\n",
       "<table border=\"1\" class=\"dataframe\">\n",
       "  <thead>\n",
       "    <tr style=\"text-align: right;\">\n",
       "      <th></th>\n",
       "      <th>Date</th>\n",
       "      <th>Lat</th>\n",
       "      <th>Lng</th>\n",
       "      <th>Max Temp</th>\n",
       "      <th>Humidity</th>\n",
       "      <th>Cloudiness</th>\n",
       "      <th>Wind Speed</th>\n",
       "    </tr>\n",
       "  </thead>\n",
       "  <tbody>\n",
       "    <tr>\n",
       "      <th>count</th>\n",
       "      <td>5.440000e+02</td>\n",
       "      <td>544.000000</td>\n",
       "      <td>544.000000</td>\n",
       "      <td>544.000000</td>\n",
       "      <td>544.000000</td>\n",
       "      <td>544.000000</td>\n",
       "      <td>544.000000</td>\n",
       "    </tr>\n",
       "    <tr>\n",
       "      <th>mean</th>\n",
       "      <td>1.630105e+09</td>\n",
       "      <td>20.017132</td>\n",
       "      <td>20.999526</td>\n",
       "      <td>66.420018</td>\n",
       "      <td>73.375000</td>\n",
       "      <td>56.852941</td>\n",
       "      <td>7.737261</td>\n",
       "    </tr>\n",
       "    <tr>\n",
       "      <th>std</th>\n",
       "      <td>8.152336e+01</td>\n",
       "      <td>33.507667</td>\n",
       "      <td>89.826654</td>\n",
       "      <td>14.673939</td>\n",
       "      <td>21.089282</td>\n",
       "      <td>38.071084</td>\n",
       "      <td>5.529567</td>\n",
       "    </tr>\n",
       "    <tr>\n",
       "      <th>min</th>\n",
       "      <td>1.630104e+09</td>\n",
       "      <td>-54.800000</td>\n",
       "      <td>-179.166700</td>\n",
       "      <td>35.470000</td>\n",
       "      <td>9.000000</td>\n",
       "      <td>0.000000</td>\n",
       "      <td>0.000000</td>\n",
       "    </tr>\n",
       "    <tr>\n",
       "      <th>25%</th>\n",
       "      <td>1.630105e+09</td>\n",
       "      <td>-6.822150</td>\n",
       "      <td>-57.606325</td>\n",
       "      <td>54.735000</td>\n",
       "      <td>62.750000</td>\n",
       "      <td>20.000000</td>\n",
       "      <td>3.440000</td>\n",
       "    </tr>\n",
       "    <tr>\n",
       "      <th>50%</th>\n",
       "      <td>1.630105e+09</td>\n",
       "      <td>23.028800</td>\n",
       "      <td>24.715700</td>\n",
       "      <td>68.405000</td>\n",
       "      <td>79.000000</td>\n",
       "      <td>68.000000</td>\n",
       "      <td>6.210000</td>\n",
       "    </tr>\n",
       "    <tr>\n",
       "      <th>75%</th>\n",
       "      <td>1.630105e+09</td>\n",
       "      <td>49.779350</td>\n",
       "      <td>100.340125</td>\n",
       "      <td>77.600000</td>\n",
       "      <td>89.000000</td>\n",
       "      <td>95.000000</td>\n",
       "      <td>10.977500</td>\n",
       "    </tr>\n",
       "    <tr>\n",
       "      <th>max</th>\n",
       "      <td>1.630105e+09</td>\n",
       "      <td>78.218600</td>\n",
       "      <td>179.316700</td>\n",
       "      <td>110.750000</td>\n",
       "      <td>100.000000</td>\n",
       "      <td>100.000000</td>\n",
       "      <td>31.360000</td>\n",
       "    </tr>\n",
       "  </tbody>\n",
       "</table>\n",
       "</div>"
      ],
      "text/plain": [
       "               Date         Lat         Lng    Max Temp    Humidity  \\\n",
       "count  5.440000e+02  544.000000  544.000000  544.000000  544.000000   \n",
       "mean   1.630105e+09   20.017132   20.999526   66.420018   73.375000   \n",
       "std    8.152336e+01   33.507667   89.826654   14.673939   21.089282   \n",
       "min    1.630104e+09  -54.800000 -179.166700   35.470000    9.000000   \n",
       "25%    1.630105e+09   -6.822150  -57.606325   54.735000   62.750000   \n",
       "50%    1.630105e+09   23.028800   24.715700   68.405000   79.000000   \n",
       "75%    1.630105e+09   49.779350  100.340125   77.600000   89.000000   \n",
       "max    1.630105e+09   78.218600  179.316700  110.750000  100.000000   \n",
       "\n",
       "       Cloudiness  Wind Speed  \n",
       "count  544.000000  544.000000  \n",
       "mean    56.852941    7.737261  \n",
       "std     38.071084    5.529567  \n",
       "min      0.000000    0.000000  \n",
       "25%     20.000000    3.440000  \n",
       "50%     68.000000    6.210000  \n",
       "75%     95.000000   10.977500  \n",
       "max    100.000000   31.360000  "
      ]
     },
     "execution_count": 12,
     "metadata": {},
     "output_type": "execute_result"
    }
   ],
   "source": [
    "weather_data.describe()"
   ]
  },
  {
   "cell_type": "markdown",
   "metadata": {},
   "source": [
    "## Inspect the data and remove the cities where the humidity > 100%.\n",
    "----\n",
    "Skip this step if there are no cities that have humidity > 100%. "
   ]
  },
  {
   "cell_type": "code",
   "execution_count": 13,
   "metadata": {},
   "outputs": [
    {
     "data": {
      "text/html": [
       "<div>\n",
       "<style scoped>\n",
       "    .dataframe tbody tr th:only-of-type {\n",
       "        vertical-align: middle;\n",
       "    }\n",
       "\n",
       "    .dataframe tbody tr th {\n",
       "        vertical-align: top;\n",
       "    }\n",
       "\n",
       "    .dataframe thead th {\n",
       "        text-align: right;\n",
       "    }\n",
       "</style>\n",
       "<table border=\"1\" class=\"dataframe\">\n",
       "  <thead>\n",
       "    <tr style=\"text-align: right;\">\n",
       "      <th></th>\n",
       "      <th>City</th>\n",
       "      <th>Country</th>\n",
       "      <th>Date</th>\n",
       "      <th>Lat</th>\n",
       "      <th>Lng</th>\n",
       "      <th>Max Temp</th>\n",
       "      <th>Humidity</th>\n",
       "      <th>Cloudiness</th>\n",
       "      <th>Wind Speed</th>\n",
       "    </tr>\n",
       "  </thead>\n",
       "  <tbody>\n",
       "  </tbody>\n",
       "</table>\n",
       "</div>"
      ],
      "text/plain": [
       "Empty DataFrame\n",
       "Columns: [City, Country, Date, Lat, Lng, Max Temp, Humidity, Cloudiness, Wind Speed]\n",
       "Index: []"
      ]
     },
     "execution_count": 13,
     "metadata": {},
     "output_type": "execute_result"
    }
   ],
   "source": [
    "weather_data.loc[weather_data[\"Humidity\"] >100,:]"
   ]
  },
  {
   "cell_type": "code",
   "execution_count": null,
   "metadata": {},
   "outputs": [],
   "source": [
    "#  Get the indices of cities that have humidity over 100%.\n"
   ]
  },
  {
   "cell_type": "code",
   "execution_count": null,
   "metadata": {},
   "outputs": [],
   "source": [
    "# Make a new DataFrame equal to the city data to drop all humidity outliers by index.\n",
    "# Passing \"inplace=False\" will make a copy of the city_data DataFrame, which we call \"clean_city_data\".\n"
   ]
  },
  {
   "cell_type": "code",
   "execution_count": null,
   "metadata": {},
   "outputs": [],
   "source": [
    "\n"
   ]
  },
  {
   "cell_type": "markdown",
   "metadata": {},
   "source": [
    "## Plotting the Data\n",
    "* Use proper labeling of the plots using plot titles (including date of analysis) and axes labels.\n",
    "* Save the plotted figures as .pngs."
   ]
  },
  {
   "cell_type": "markdown",
   "metadata": {},
   "source": [
    "## Latitude vs. Temperature Plot"
   ]
  },
  {
   "cell_type": "code",
   "execution_count": 18,
   "metadata": {
    "scrolled": true
   },
   "outputs": [
    {
     "data": {
      "image/png": "[encoded data removed]",
      "text/plain": [
       "<Figure size 432x288 with 1 Axes>"
      ]
     },
     "metadata": {
      "needs_background": "light"
     },
     "output_type": "display_data"
    }
   ],
   "source": [
    "# Build a scatter plot for each data type\n",
    "plt.scatter(weather_data[\"Lat\"], weather_data[\"Max Temp\"], marker=\"o\")\n",
    "today =date.today()\n",
    "# Incorporate the other graph properties\n",
    "plt.title(f\"City Latitude vs. Max Temperature ({today})\")\n",
    "plt.ylabel(\"Temperature (Celsius)\")\n",
    "plt.xlabel(\"Latitude\")\n",
    "plt.grid(True)\n",
    "\n",
    "# Save the figure\n",
    "plt.savefig(\"Temperature.png\")\n",
    "\n",
    "# Show plot\n",
    "plt.show()"
   ]
  },
  {
   "cell_type": "markdown",
   "metadata": {},
   "source": [
    "## Latitude vs. Humidity Plot"
   ]
  },
  {
   "cell_type": "code",
   "execution_count": 19,
   "metadata": {},
   "outputs": [
    {
     "data": {
      "image/png": "[encoded data removed]",
      "text/plain": [
       "<Figure size 432x288 with 1 Axes>"
      ]
     },
     "metadata": {
      "needs_background": "light"
     },
     "output_type": "display_data"
    }
   ],
   "source": [
    "# Build a scatter plot for each data type\n",
    "plt.scatter(weather_data[\"Lat\"], weather_data[\"Humidity\"], marker=\"o\")\n",
    "today =date.today()\n",
    "# Incorporate the other graph properties\n",
    "plt.title(f\"City Latitude vs. Humidity ({today})\")\n",
    "plt.ylabel(\"Humidity (%)\")\n",
    "plt.xlabel(\"Latitude\")\n",
    "plt.grid(True)\n",
    "\n",
    "# Save the figure\n",
    "plt.savefig(\"Humidity.png\")\n",
    "\n",
    "# Show plot\n",
    "plt.show()"
   ]
  },
  {
   "cell_type": "markdown",
   "metadata": {},
   "source": [
    "## Latitude vs. Cloudiness Plot"
   ]
  },
  {
   "cell_type": "code",
   "execution_count": 20,
   "metadata": {},
   "outputs": [
    {
     "data": {
      "image/png": "[encoded data removed]",
      "text/plain": [
       "<Figure size 432x288 with 1 Axes>"
      ]
     },
     "metadata": {
      "needs_background": "light"
     },
     "output_type": "display_data"
    }
   ],
   "source": [
    "# Build a scatter plot for each data type\n",
    "plt.scatter(weather_data[\"Lat\"], weather_data[\"Cloudiness\"], marker=\"o\")\n",
    "today =date.today()\n",
    "# Incorporate the other graph properties\n",
    "plt.title(f\"City Latitude vs. Cloudiness ({today})\")\n",
    "plt.ylabel(\"Cloudiness (%)\")\n",
    "plt.xlabel(\"Latitude\")\n",
    "plt.grid(True)\n",
    "\n",
    "# Save the figure\n",
    "plt.savefig(\"Cloudiness.png\")\n",
    "\n",
    "# Show plot\n",
    "plt.show()"
   ]
  },
  {
   "cell_type": "markdown",
   "metadata": {},
   "source": [
    "## Latitude vs. Wind Speed Plot"
   ]
  },
  {
   "cell_type": "code",
   "execution_count": 21,
   "metadata": {},
   "outputs": [
    {
     "data": {
      "image/png": "[encoded data removed]",
      "text/plain": [
       "<Figure size 432x288 with 1 Axes>"
      ]
     },
     "metadata": {
      "needs_background": "light"
     },
     "output_type": "display_data"
    }
   ],
   "source": [
    "# Build a scatter plot for each data type\n",
    "plt.scatter(weather_data[\"Lat\"], weather_data[\"Wind Speed\"], marker=\"o\")\n",
    "today =date.today()\n",
    "# Incorporate the other graph properties\n",
    "plt.title(f\"City Latitude vs. Wind Speed ({today})\")\n",
    "plt.ylabel(\"Wind Speed (mph)\")\n",
    "plt.xlabel(\"Latitude\")\n",
    "plt.grid(True)\n",
    "\n",
    "# Save the figure\n",
    "plt.savefig(\"WindSpeed.png\")\n",
    "\n",
    "# Show plot\n",
    "plt.show()"
   ]
  },
  {
   "cell_type": "markdown",
   "metadata": {},
   "source": [
    "## Linear Regression"
   ]
  },
  {
   "cell_type": "code",
   "execution_count": null,
   "metadata": {},
   "outputs": [],
   "source": []
  },
  {
   "cell_type": "markdown",
   "metadata": {},
   "source": [
    "####  Northern Hemisphere - Max Temp vs. Latitude Linear Regression"
   ]
  },
  {
   "cell_type": "code",
   "execution_count": 22,
   "metadata": {},
   "outputs": [],
   "source": [
    "hem_n_df = weather_data.loc[weather_data['Lat'] >= 0,:]\n",
    "x_values_n = hem_n_df[\"Lat\"]\n",
    "y_temp_n = hem_n_df['Max Temp']\n",
    " \n",
    "# Perform a linear regression on Max Temperature vs. latitude\n",
    "(slope_temp_n, intercept_temp_n, rvalue_temp_n, pvalue, stderr) = stats.linregress(x_values_n, y_temp_n)\n",
    "\n",
    "# Get regression values\n",
    "regress_values_tempn = x_values_n * slope_temp_n + intercept_temp_n\n",
    "#print(regress_values_tempn)\n",
    "line_eq_n = \"y = \" + str(round(slope_temp_n,2)) + \"x +\" + str(round(intercept_temp_n,2))"
   ]
  },
  {
   "cell_type": "code",
   "execution_count": 23,
   "metadata": {},
   "outputs": [
    {
     "name": "stdout",
     "output_type": "stream",
     "text": [
      "The r value is: -0.7479240122371423\n"
     ]
    },
    {
     "data": {
      "image/png": "[encoded data removed]",
      "text/plain": [
       "<Figure size 432x288 with 1 Axes>"
      ]
     },
     "metadata": {
      "needs_background": "light"
     },
     "output_type": "display_data"
    }
   ],
   "source": [
    "plt.scatter(x_values_n,y_temp_n)\n",
    "plt.plot(x_values_n,regress_values_tempn,\"r-\")\n",
    "\n",
    "# Label plot and annotate the line equation\n",
    "plt.xlabel('Latitude')\n",
    "plt.ylabel('Temperature (F)')\n",
    "plt.annotate(line_eq_n,(20,275),fontsize=15,color=\"red\")\n",
    "\n",
    "# Print r value\n",
    "print(f\"The r value is: {rvalue_temp_n}\")\n",
    "\n",
    "# Show plot\n",
    "plt.show()"
   ]
  },
  {
   "cell_type": "markdown",
   "metadata": {},
   "source": [
    "####  Southern Hemisphere - Max Temp vs. Latitude Linear Regression"
   ]
  },
  {
   "cell_type": "code",
   "execution_count": 24,
   "metadata": {},
   "outputs": [],
   "source": [
    "hem_s_df = weather_data.loc[weather_data['Lat'] < 0,:]\n",
    "x_values_s = hem_s_df[\"Lat\"]\n",
    "y_temp_s = hem_s_df['Max Temp']\n",
    "# Perform a linear regression on Max Temperature vs. latitude\n",
    "(slope_temp_s, intercept_temp_s, rvalue_temp_s, pvalue, stderr) = stats.linregress(x_values_s, y_temp_s)\n",
    "\n",
    "# Get regression values\n",
    "regress_values_temps = x_values_s * slope_temp_s + intercept_temp_s\n",
    "#print(regress_values_temps)\n",
    "line_eq_s = \"y = \" + str(round(slope_temp_s,2)) + \"x +\" + str(round(intercept_temp_s,2))"
   ]
  },
  {
   "cell_type": "code",
   "execution_count": 25,
   "metadata": {},
   "outputs": [
    {
     "name": "stdout",
     "output_type": "stream",
     "text": [
      "The r value is: 0.8318275446576147\n"
     ]
    },
    {
     "data": {
      "image/png": "[encoded data removed]",
      "text/plain": [
       "<Figure size 432x288 with 1 Axes>"
      ]
     },
     "metadata": {
      "needs_background": "light"
     },
     "output_type": "display_data"
    }
   ],
   "source": [
    "plt.scatter(x_values_s,y_temp_s)\n",
    "plt.plot(x_values_s,regress_values_temps,\"r-\")\n",
    "\n",
    "# Label plot and annotate the line equation\n",
    "plt.xlabel('Latitude')\n",
    "plt.ylabel('Temperature (F)')\n",
    "plt.annotate(line_eq_s,(-30,275),fontsize=15,color=\"red\")\n",
    "\n",
    "# Print r value\n",
    "print(f\"The r value is: {rvalue_temp_s}\")\n",
    "\n",
    "# Show plot\n",
    "plt.show()"
   ]
  },
  {
   "cell_type": "markdown",
   "metadata": {},
   "source": [
    "####  Northern Hemisphere - Humidity (%) vs. Latitude Linear Regression"
   ]
  },
  {
   "cell_type": "code",
   "execution_count": 26,
   "metadata": {},
   "outputs": [],
   "source": [
    "#hem_n_df = weather_data.loc[weather_data['Lat'] >= 0,:]\n",
    "#x_values_n = hem_n_df[\"Lat\"]\n",
    "y_humid_n = hem_n_df['Humidity']\n",
    " \n",
    "# Perform a linear regression on Max Temperature vs. latitude\n",
    "(slope_humid_n, intercept_humid_n, rvalue_humid_n, pvalue, stderr) = stats.linregress(x_values_n, y_humid_n)\n",
    "\n",
    "# Get regression values\n",
    "regress_values_humidn = x_values_n * slope_humid_n + intercept_humid_n\n",
    "#print(regress_values_humidn)\n",
    "line_eq_n = \"y = \" + str(round(slope_humid_n,2)) + \"x +\" + str(round(intercept_humid_n,2))"
   ]
  },
  {
   "cell_type": "code",
   "execution_count": 27,
   "metadata": {},
   "outputs": [
    {
     "name": "stdout",
     "output_type": "stream",
     "text": [
      "The r value is: 0.07417925028790383\n"
     ]
    },
    {
     "data": {
      "image/png": "[encoded data removed]",
      "text/plain": [
       "<Figure size 432x288 with 1 Axes>"
      ]
     },
     "metadata": {
      "needs_background": "light"
     },
     "output_type": "display_data"
    }
   ],
   "source": [
    "plt.scatter(x_values_n,y_humid_n)\n",
    "plt.plot(x_values_n,regress_values_humidn,\"r--\")\n",
    "\n",
    "# Label plot and annotate the line equation\n",
    "plt.xlabel('Latitude')\n",
    "plt.ylabel('Humidity')\n",
    "plt.annotate(line_eq_n,(20,75),fontsize=15,color=\"red\")\n",
    "\n",
    "# Print r value\n",
    "print(f\"The r value is: {rvalue_humid_n}\")\n",
    "# Show plot\n",
    "plt.show()"
   ]
  },
  {
   "cell_type": "markdown",
   "metadata": {},
   "source": [
    "####  Southern Hemisphere - Humidity (%) vs. Latitude Linear Regression"
   ]
  },
  {
   "cell_type": "code",
   "execution_count": 28,
   "metadata": {},
   "outputs": [],
   "source": [
    "#hem_s_df = weather_data.loc[weather_data['Lat'] < 0,:]\n",
    "#x_values_s = hem_s_df[\"Lat\"]\n",
    "y_humid_s = hem_s_df['Humidity']\n",
    "# Perform a linear regression on Max Temperature vs. latitude\n",
    "(slope_humid_s, intercept_humid_s, rvalue_humid_s, pvalue, stderr) = stats.linregress(x_values_s, y_humid_s)\n",
    "\n",
    "# Get regression values\n",
    "regress_values_humids = x_values_s * slope_humid_s + intercept_humid_s\n",
    "#print(regress_values_humids)\n",
    "line_eq_s = \"y = \" + str(round(slope_humid_s,2)) + \"x +\" + str(round(intercept_humid_s,2))"
   ]
  },
  {
   "cell_type": "code",
   "execution_count": 29,
   "metadata": {},
   "outputs": [
    {
     "name": "stdout",
     "output_type": "stream",
     "text": [
      "The r value is: -0.016660771702435143\n"
     ]
    },
    {
     "data": {
      "image/png": "[encoded data removed]",
      "text/plain": [
       "<Figure size 432x288 with 1 Axes>"
      ]
     },
     "metadata": {
      "needs_background": "light"
     },
     "output_type": "display_data"
    }
   ],
   "source": [
    "plt.scatter(x_values_s,y_humid_s)\n",
    "plt.plot(x_values_s,regress_values_humids,\"r-\")\n",
    "\n",
    "# Label plot and annotate the line equation\n",
    "plt.xlabel('Latitude')\n",
    "plt.ylabel('Humidity')\n",
    "plt.annotate(line_eq_s,(-30,50),fontsize=15,color=\"red\")\n",
    "\n",
    "# Print r value\n",
    "print(f\"The r value is: {rvalue_humid_s}\")\n",
    "\n",
    "# Show plot\n",
    "plt.show()"
   ]
  },
  {
   "cell_type": "markdown",
   "metadata": {},
   "source": [
    "####  Northern Hemisphere - Cloudiness (%) vs. Latitude Linear Regression"
   ]
  },
  {
   "cell_type": "code",
   "execution_count": 30,
   "metadata": {},
   "outputs": [],
   "source": [
    "#hem_n_df = weather_data.loc[weather_data['Lat'] >= 0,:]\n",
    "#x_values_n = hem_n_df[\"Lat\"]\n",
    "y_cloud_n = hem_n_df['Cloudiness']\n",
    " \n",
    "# Perform a linear regression on Max Temperature vs. latitude\n",
    "(slope_cloud_n, intercept_cloud_n, rvalue_cloud_n, pvalue, stderr) = stats.linregress(x_values_n, y_cloud_n)\n",
    "\n",
    "# Get regression values\n",
    "regress_values_cloudn = x_values_n * slope_cloud_n + intercept_cloud_n\n",
    "#print(regress_values_cloudn)\n",
    "line_eq_n = \"y = \" + str(round(slope_cloud_n,2)) + \"x +\" + str(round(intercept_cloud_n,2))"
   ]
  },
  {
   "cell_type": "code",
   "execution_count": 31,
   "metadata": {},
   "outputs": [
    {
     "name": "stdout",
     "output_type": "stream",
     "text": [
      "The r value is: 0.014242132625525778\n"
     ]
    },
    {
     "data": {
      "image/png": "[encoded data removed]",
      "text/plain": [
       "<Figure size 432x288 with 1 Axes>"
      ]
     },
     "metadata": {
      "needs_background": "light"
     },
     "output_type": "display_data"
    }
   ],
   "source": [
    "plt.scatter(x_values_n,y_cloud_n)\n",
    "plt.plot(x_values_n,regress_values_cloudn,\"r--\")\n",
    "\n",
    "# Label plot and annotate the line equation\n",
    "plt.xlabel('Latitude')\n",
    "plt.ylabel('Cloudiness')\n",
    "plt.annotate(line_eq_n,(20,75),fontsize=15,color=\"red\")\n",
    "\n",
    "# Print r value\n",
    "print(f\"The r value is: {rvalue_cloud_n}\")\n",
    "# Show plot\n",
    "plt.show()"
   ]
  },
  {
   "cell_type": "markdown",
   "metadata": {},
   "source": [
    "####  Southern Hemisphere - Cloudiness (%) vs. Latitude Linear Regression"
   ]
  },
  {
   "cell_type": "code",
   "execution_count": 32,
   "metadata": {},
   "outputs": [],
   "source": [
    "#hem_s_df = weather_data.loc[weather_data['Lat'] < 0,:]\n",
    "#x_values_s = hem_s_df[\"Lat\"]\n",
    "y_cloud_s = hem_s_df['Cloudiness']\n",
    "# Perform a linear regression on Max Temperature vs. latitude\n",
    "(slope_cloud_s, intercept_cloud_s, rvalue_cloud_s, pvalue, stderr) = stats.linregress(x_values_s, y_cloud_s)\n",
    "\n",
    "# Get regression values\n",
    "regress_values_clouds = x_values_s * slope_cloud_s + intercept_cloud_s\n",
    "#print(regress_values_clouds)\n",
    "line_eq_s = \"y = \" + str(round(slope_cloud_s,2)) + \"x +\" + str(round(intercept_cloud_s,2))\n"
   ]
  },
  {
   "cell_type": "code",
   "execution_count": 33,
   "metadata": {},
   "outputs": [
    {
     "name": "stdout",
     "output_type": "stream",
     "text": [
      "The r value is: -0.11878572191508811\n"
     ]
    },
    {
     "data": {
      "image/png": "[encoded data removed]",
      "text/plain": [
       "<Figure size 432x288 with 1 Axes>"
      ]
     },
     "metadata": {
      "needs_background": "light"
     },
     "output_type": "display_data"
    }
   ],
   "source": [
    "plt.scatter(x_values_s,y_cloud_s)\n",
    "plt.plot(x_values_s,regress_values_clouds,\"r-\")\n",
    "\n",
    "# Label plot and annotate the line equation\n",
    "plt.xlabel('Latitude')\n",
    "plt.ylabel('Cloudiness')\n",
    "plt.annotate(line_eq_s,(-30,25),fontsize=15,color=\"red\")\n",
    "\n",
    "# Print r value\n",
    "print(f\"The r value is: {rvalue_cloud_s}\")\n",
    "\n",
    "# Show plot\n",
    "plt.show()"
   ]
  },
  {
   "cell_type": "markdown",
   "metadata": {},
   "source": [
    "####  Northern Hemisphere - Wind Speed (mph) vs. Latitude Linear Regression"
   ]
  },
  {
   "cell_type": "code",
   "execution_count": 34,
   "metadata": {},
   "outputs": [],
   "source": [
    "#hem_n_df = weather_data.loc[weather_data['Lat'] >= 0,:]\n",
    "#x_values_n = hem_n_df[\"Lat\"]\n",
    "y_wind_n = hem_n_df['Wind Speed']\n",
    " \n",
    "# Perform a linear regression on Max Temperature vs. latitude\n",
    "(slope_wind_n, intercept_wind_n, rvalue_wind_n, pvalue, stderr) = stats.linregress(x_values_n, y_wind_n)\n",
    "\n",
    "# Get regression values\n",
    "regress_values_windn = x_values_n * slope_wind_n + intercept_wind_n\n",
    "#print(regress_values_windn)\n",
    "line_eq_n = \"y = \" + str(round(slope_wind_n,2)) + \"x +\" + str(round(intercept_wind_n,2))\n"
   ]
  },
  {
   "cell_type": "code",
   "execution_count": 35,
   "metadata": {},
   "outputs": [
    {
     "name": "stdout",
     "output_type": "stream",
     "text": [
      "The r value is: 0.1436515642611411\n"
     ]
    },
    {
     "data": {
      "image/png": "[encoded data removed]",
      "text/plain": [
       "<Figure size 432x288 with 1 Axes>"
      ]
     },
     "metadata": {
      "needs_background": "light"
     },
     "output_type": "display_data"
    }
   ],
   "source": [
    "plt.scatter(x_values_n,y_wind_n)\n",
    "plt.plot(x_values_n,regress_values_windn,\"r--\")\n",
    "\n",
    "# Label plot and annotate the line equation\n",
    "plt.xlabel('Latitude')\n",
    "plt.ylabel('Wind Speed')\n",
    "plt.annotate(line_eq_n,(20,7),fontsize=15,color=\"red\")\n",
    "\n",
    "# Print r value\n",
    "print(f\"The r value is: {rvalue_wind_n}\")\n",
    "# Show plot\n",
    "plt.show()"
   ]
  },
  {
   "cell_type": "markdown",
   "metadata": {},
   "source": [
    "####  Southern Hemisphere - Wind Speed (mph) vs. Latitude Linear Regression"
   ]
  },
  {
   "cell_type": "code",
   "execution_count": 36,
   "metadata": {},
   "outputs": [],
   "source": [
    "#hem_s_df = weather_data.loc[weather_data['Lat'] < 0,:]\n",
    "#x_values_s = hem_s_df[\"Lat\"]\n",
    "y_wind_s = hem_s_df['Wind Speed']\n",
    "# Perform a linear regression on Max Temperature vs. latitude\n",
    "(slope_wind_s, intercept_wind_s, rvalue_wind_s, pvalue, stderr) = stats.linregress(x_values_s, y_wind_s)\n",
    "\n",
    "# Get regression values\n",
    "regress_values_winds = x_values_s * slope_wind_s + intercept_wind_s\n",
    "#print(regress_values_winds)\n",
    "line_eq_s = \"y = \" + str(round(slope_wind_s,2)) + \"x +\" + str(round(intercept_wind_s,2))"
   ]
  },
  {
   "cell_type": "code",
   "execution_count": 37,
   "metadata": {},
   "outputs": [
    {
     "name": "stdout",
     "output_type": "stream",
     "text": [
      "The r value is: -0.1329661623396749\n"
     ]
    },
    {
     "data": {
      "image/png": "[encoded data removed]",
      "text/plain": [
       "<Figure size 432x288 with 1 Axes>"
      ]
     },
     "metadata": {
      "needs_background": "light"
     },
     "output_type": "display_data"
    }
   ],
   "source": [
    "plt.scatter(x_values_s,y_wind_s)\n",
    "plt.plot(x_values_s,regress_values_winds,\"r-\")\n",
    "\n",
    "# Label plot and annotate the line equation\n",
    "plt.xlabel('Latitude')\n",
    "plt.ylabel('Wind Speed')\n",
    "plt.annotate(line_eq_s,(-50,3),fontsize=15,color=\"red\")\n",
    "\n",
    "# Print r value\n",
    "print(f\"The r value is: {rvalue_wind_s}\")\n",
    "\n",
    "# Show plot\n",
    "plt.show()"
   ]
  },
  {
   "cell_type": "code",
   "execution_count": null,
   "metadata": {},
   "outputs": [],
   "source": []
  }
 ],
 "metadata": {
  "anaconda-cloud": {},
  "kernel_info": {
   "name": "python3"
  },
  "kernelspec": {
   "display_name": "Python 3",
   "language": "python",
   "name": "python3"
  },
  "language_info": {
   "codemirror_mode": {
    "name": "ipython",
    "version": 3
   },
   "file_extension": ".py",
   "mimetype": "text/x-python",
   "name": "python",
   "nbconvert_exporter": "python",
   "pygments_lexer": "ipython3",
   "version": "3.7.11"
  },
  "latex_envs": {
   "LaTeX_envs_menu_present": true,
   "autoclose": false,
   "autocomplete": true,
   "bibliofile": "biblio.bib",
   "cite_by": "apalike",
   "current_citInitial": 1,
   "eqLabelWithNumbers": true,
   "eqNumInitial": 1,
   "hotkeys": {
    "equation": "Ctrl-E",
    "itemize": "Ctrl-I"
   },
   "labels_anchors": false,
   "latex_user_defs": false,
   "report_style_numbering": false,
   "user_envs_cfg": false
  },
  "nteract": {
   "version": "0.12.3"
  }
 },
 "nbformat": 4,
 "nbformat_minor": 2
}
