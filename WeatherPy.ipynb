{
 "cells": [
  {
   "cell_type": "markdown",
   "metadata": {},
   "source": [
    "# WeatherPy\n",
    "----\n",
    "\n",
    "#### Note\n",
    "* Instructions have been included for each segment. You do not have to follow them exactly, but they are included to help you think through the steps."
   ]
  },
  {
   "cell_type": "code",
   "execution_count": 16,
   "metadata": {
    "scrolled": true
   },
   "outputs": [],
   "source": [
    "# Dependencies and Setup\n",
    "import matplotlib.pyplot as plt\n",
    "import pandas as pd\n",
    "import numpy as np\n",
    "import requests\n",
    "import time\n",
    "from datetime import date\n",
    "from scipy import stats\n",
    "from scipy.stats import linregress\n",
    "\n",
    "\n",
    "# Import API key\n",
    "from api_keys import weather_api_key\n",
    "\n",
    "# Incorporated citipy to determine city based on latitude and longitude\n",
    "from citipy import citipy\n",
    "\n",
    "# Output File (CSV)\n",
    "output_data_file = \"output_data/cities.csv\"\n",
    "\n",
    "# Range of latitudes and longitudes\n",
    "lat_range = (-90, 90)\n",
    "lng_range = (-180, 180)\n"
   ]
  },
  {
   "cell_type": "markdown",
   "metadata": {},
   "source": [
    "## Generate Cities List"
   ]
  },
  {
   "cell_type": "code",
   "execution_count": 2,
   "metadata": {},
   "outputs": [
    {
     "name": "stdout",
     "output_type": "stream",
     "text": [
      "607\n"
     ]
    }
   ],
   "source": [
    "# List for holding lat_lngs and cities\n",
    "lat_lngs = []\n",
    "cities = []\n",
    "\n",
    "# Create a set of random lat and lng combinations\n",
    "lats = np.random.uniform(lat_range[0], lat_range[1], size=1500)\n",
    "lngs = np.random.uniform(lng_range[0], lng_range[1], size=1500)\n",
    "lat_lngs = zip(lats, lngs)\n",
    "\n",
    "# Identify nearest city for each lat, lng combination\n",
    "for lat_lng in lat_lngs:\n",
    "    city = citipy.nearest_city(lat_lng[0], lat_lng[1]).city_name\n",
    "    \n",
    "    # If the city is unique, then add it to a our cities list\n",
    "    if city not in cities:\n",
    "        cities.append(city)\n",
    "        \n",
    "\n",
    "\n",
    "# Print the city count to confirm sufficient count\n",
    "print(len(cities))"
   ]
  },
  {
   "cell_type": "markdown",
   "metadata": {},
   "source": [
    "### Perform API Calls\n",
    "* Perform a weather check on each city using a series of successive API calls.\n",
    "* Include a print log of each city as it'sbeing processed (with the city number and city name).\n"
   ]
  },
  {
   "cell_type": "code",
   "execution_count": 3,
   "metadata": {},
   "outputs": [],
   "source": [
    "cities_num = []\n",
    "cities_name = []\n",
    "lat= []\n",
    "lng= []\n",
    "temp= []\n",
    "humidity= []\n",
    "cloudy= []\n",
    "wind_speed= []\n",
    "country= []\n",
    "date= []\n",
    "record = 0\n",
    "set = 1\n",
    "city_count = 0\n",
    "url = \"http://api.openweathermap.org/data/2.5/weather?\"\n",
    "query_url = f\"{url}appid={weather_api_key}&q=\"   \n"
   ]
  },
  {
   "cell_type": "code",
   "execution_count": 4,
   "metadata": {},
   "outputs": [
    {
     "name": "stdout",
     "output_type": "stream",
     "text": [
      "Beginning Data Retrieval\n",
      "----------------------------------------------------------------\n",
      "Processing Record 1 of Set 1 | Tuktoyaktuk \n",
      "Processing Record 2 of Set 1 | Bluff \n",
      "Processing Record 3 of Set 1 | Rikitea \n",
      "Processing Record 4 of Set 1 | Poum \n",
      "Processing Record 5 of Set 1 | Strezhevoy \n",
      "Processing Record 6 of Set 1 | Tucumã \n",
      "Processing Record 7 of Set 1 | Ushuaia \n",
      "Processing Record 8 of Set 1 | Albany \n",
      "City not found. Skipping...\n",
      "Processing Record 9 of Set 1 | Atuona \n",
      "Processing Record 10 of Set 1 | Khatanga \n",
      "Processing Record 11 of Set 1 | Klaksvík \n",
      "Processing Record 12 of Set 1 | Yellowknife \n",
      "Processing Record 13 of Set 1 | Dunedin \n",
      "Processing Record 14 of Set 1 | North Myrtle Beach \n",
      "Processing Record 15 of Set 1 | Erenhot \n",
      "Processing Record 16 of Set 1 | Kaeo \n",
      "Processing Record 17 of Set 1 | Mataura \n",
      "Processing Record 18 of Set 1 | Tel Aviv-Yafo \n",
      "Processing Record 19 of Set 1 | Saint-Philippe \n",
      "Processing Record 20 of Set 1 | Bengkulu \n",
      "Processing Record 21 of Set 1 | Lata \n",
      "Processing Record 22 of Set 1 | Cidreira \n",
      "Processing Record 23 of Set 1 | Mar del Plata \n",
      "Processing Record 24 of Set 1 | Mayskiy \n",
      "Processing Record 25 of Set 1 | Kaitangata \n",
      "Processing Record 26 of Set 1 | Souillac \n",
      "Processing Record 27 of Set 1 | Port Alfred \n",
      "Processing Record 28 of Set 1 | Busselton \n",
      "Processing Record 29 of Set 1 | Manoel Urbano \n",
      "Processing Record 30 of Set 1 | Tateyama \n",
      "Processing Record 31 of Set 1 | High Level \n",
      "Processing Record 32 of Set 1 | Hobart \n",
      "Processing Record 33 of Set 1 | Kapaa \n",
      "Processing Record 34 of Set 1 | Toora-Khem \n",
      "Processing Record 35 of Set 1 | Saint Paul Harbor \n",
      "Processing Record 36 of Set 1 | Caucayá \n",
      "Processing Record 37 of Set 1 | Punta Arenas \n",
      "Processing Record 38 of Set 1 | Carnarvon \n",
      "Processing Record 39 of Set 1 | Ames \n",
      "Processing Record 40 of Set 1 | De Aar \n",
      "Processing Record 41 of Set 1 | Dikson \n",
      "Processing Record 42 of Set 1 | Lorengau \n",
      "Processing Record 43 of Set 1 | Lüderitz \n",
      "Processing Record 44 of Set 1 | Lerwick \n",
      "Processing Record 45 of Set 1 | Erzin \n",
      "Processing Record 46 of Set 1 | Kudahuvadhoo \n",
      "Processing Record 47 of Set 1 | Murray Bridge \n",
      "Processing Record 48 of Set 1 | Bredasdorp \n",
      "Processing Record 49 of Set 1 | Mana \n",
      "Processing Record 50 of Set 1 | Talaya \n",
      "----------------------------------------------------------------\n",
      "City not found. Skipping...\n",
      "Processing Record 0 of Set 2 | São Filipe \n",
      "Processing Record 1 of Set 2 | Batticaloa \n",
      "Processing Record 2 of Set 2 | Qaanaaq \n",
      "City not found. Skipping...\n",
      "Processing Record 3 of Set 2 | Hobyo \n",
      "Processing Record 4 of Set 2 | Sioux Lookout \n",
      "Processing Record 5 of Set 2 | Cabo San Lucas \n",
      "Processing Record 6 of Set 2 | Beroroha \n",
      "Processing Record 7 of Set 2 | Fortuna \n",
      "Processing Record 8 of Set 2 | Kiama \n",
      "Processing Record 9 of Set 2 | Longyearbyen \n",
      "Processing Record 10 of Set 2 | Koratla \n",
      "Processing Record 11 of Set 2 | Alekseyevsk \n",
      "City not found. Skipping...\n",
      "Processing Record 12 of Set 2 | Igarka \n",
      "Processing Record 13 of Set 2 | Vaini \n",
      "Processing Record 14 of Set 2 | Duluth \n",
      "Processing Record 15 of Set 2 | Baykit \n",
      "Processing Record 16 of Set 2 | Hilo \n",
      "Processing Record 17 of Set 2 | Puerto Ayora \n",
      "Processing Record 18 of Set 2 | Arman' \n",
      "Processing Record 19 of Set 2 | Iqaluit \n",
      "Processing Record 20 of Set 2 | Mazagão \n",
      "Processing Record 21 of Set 2 | New Norfolk \n",
      "Processing Record 22 of Set 2 | Salalah \n",
      "Processing Record 23 of Set 2 | Boguchany \n",
      "Processing Record 24 of Set 2 | Kavieng \n",
      "Processing Record 25 of Set 2 | Bayan \n",
      "Processing Record 26 of Set 2 | Morehead \n",
      "Processing Record 27 of Set 2 | Progreso \n",
      "Processing Record 28 of Set 2 | Norman Wells \n",
      "Processing Record 29 of Set 2 | Hithadhoo \n",
      "Processing Record 30 of Set 2 | St. George's \n",
      "Processing Record 31 of Set 2 | Lagoa \n",
      "Processing Record 32 of Set 2 | São Gotardo \n",
      "Processing Record 33 of Set 2 | Isangel \n",
      "Processing Record 34 of Set 2 | Cape Town \n",
      "Processing Record 35 of Set 2 | Bethel \n",
      "City not found. Skipping...\n",
      "Processing Record 36 of Set 2 | Aykhal \n",
      "Processing Record 37 of Set 2 | Sohag \n",
      "Processing Record 38 of Set 2 | Hasaki \n",
      "Processing Record 39 of Set 2 | Ambilobe \n",
      "Processing Record 40 of Set 2 | Ouango \n",
      "Processing Record 41 of Set 2 | Thompson \n",
      "Processing Record 42 of Set 2 | Daru \n",
      "Processing Record 43 of Set 2 | Zhengjiatun \n",
      "City not found. Skipping...\n",
      "City not found. Skipping...\n",
      "Processing Record 44 of Set 2 | Kampot \n",
      "City not found. Skipping...\n",
      "Processing Record 45 of Set 2 | Rapid Valley \n",
      "Processing Record 46 of Set 2 | Chegdomyn \n",
      "City not found. Skipping...\n",
      "Processing Record 47 of Set 2 | Kavaratti \n",
      "Processing Record 48 of Set 2 | Tura \n",
      "Processing Record 49 of Set 2 | Hong Kong \n",
      "----------------------------------------------------------------\n",
      "Processing Record 0 of Set 3 | Jamestown \n",
      "Processing Record 1 of Set 3 | Prome \n",
      "Processing Record 2 of Set 3 | George Town \n",
      "Processing Record 3 of Set 3 | Tiksi \n",
      "Processing Record 4 of Set 3 | Hofn \n",
      "City not found. Skipping...\n",
      "Processing Record 5 of Set 3 | Bambous Virieux \n",
      "Processing Record 6 of Set 3 | Jaguarari \n",
      "Processing Record 7 of Set 3 | Invercargill \n",
      "Processing Record 8 of Set 3 | Cap Malheureux \n",
      "Processing Record 9 of Set 3 | Ribeira Grande \n",
      "Processing Record 10 of Set 3 | Barrow \n",
      "Processing Record 11 of Set 3 | East London \n",
      "Processing Record 12 of Set 3 | Mabaruma \n",
      "Processing Record 13 of Set 3 | Tasiilaq \n",
      "Processing Record 14 of Set 3 | Hermanus \n",
      "Processing Record 15 of Set 3 | La Asuncion \n",
      "Processing Record 16 of Set 3 | Doka \n",
      "Processing Record 17 of Set 3 | Birao \n",
      "Processing Record 18 of Set 3 | Mahébourg \n",
      "Processing Record 19 of Set 3 | Riyadh \n",
      "Processing Record 20 of Set 3 | Sørland \n",
      "Processing Record 21 of Set 3 | Ubari \n",
      "Processing Record 22 of Set 3 | Severo-Kuril'sk \n",
      "Processing Record 23 of Set 3 | Chifeng \n",
      "Processing Record 24 of Set 3 | Vredendal \n",
      "Processing Record 25 of Set 3 | Cherskiy \n",
      "Processing Record 26 of Set 3 | Kanpur \n",
      "Processing Record 27 of Set 3 | Rudnichnyy \n",
      "Processing Record 28 of Set 3 | Mango \n",
      "Processing Record 29 of Set 3 | Måløy \n",
      "Processing Record 30 of Set 3 | Najrān \n",
      "Processing Record 31 of Set 3 | Catuday \n",
      "City not found. Skipping...\n",
      "Processing Record 32 of Set 3 | Nikolskoye \n",
      "Processing Record 33 of Set 3 | Virton \n",
      "Processing Record 34 of Set 3 | Arraial do Cabo \n",
      "Processing Record 35 of Set 3 | Olafsvik \n",
      "Processing Record 36 of Set 3 | Port Elizabeth \n",
      "Processing Record 37 of Set 3 | Luwuk \n",
      "City not found. Skipping...\n",
      "Processing Record 38 of Set 3 | Port Lincoln \n",
      "Processing Record 39 of Set 3 | Honiara \n",
      "Processing Record 40 of Set 3 | Ennis \n",
      "Processing Record 41 of Set 3 | Ishinomaki \n",
      "Processing Record 42 of Set 3 | Talnakh \n",
      "Processing Record 43 of Set 3 | Saint-Pierre \n",
      "City not found. Skipping...\n",
      "Processing Record 44 of Set 3 | Pachino \n",
      "Processing Record 45 of Set 3 | Henties Bay \n",
      "Processing Record 46 of Set 3 | Payson \n",
      "Processing Record 47 of Set 3 | Biloela \n",
      "Processing Record 48 of Set 3 | Iralaya \n",
      "Processing Record 49 of Set 3 | Kota Kinabalu \n",
      "----------------------------------------------------------------\n",
      "City not found. Skipping...\n",
      "Processing Record 0 of Set 4 | Saint George \n",
      "Processing Record 1 of Set 4 | Nouadhibou \n",
      "Processing Record 2 of Set 4 | Tahe \n",
      "Processing Record 3 of Set 4 | Baracoa \n",
      "Processing Record 4 of Set 4 | Xam Nua \n",
      "Processing Record 5 of Set 4 | Hwange \n",
      "Processing Record 6 of Set 4 | College \n",
      "Processing Record 7 of Set 4 | Porto Velho \n",
      "Processing Record 8 of Set 4 | Owando \n",
      "Processing Record 9 of Set 4 | Te Anau \n",
      "Processing Record 10 of Set 4 | Liku \n",
      "Processing Record 11 of Set 4 | Buraidah \n",
      "Processing Record 12 of Set 4 | Verkhotur'ye \n",
      "Processing Record 13 of Set 4 | Shache \n",
      "Processing Record 14 of Set 4 | Piedras Negras \n",
      "Processing Record 15 of Set 4 | Volokonovka \n",
      "Processing Record 16 of Set 4 | Avarua \n",
      "Processing Record 17 of Set 4 | Portales \n",
      "Processing Record 18 of Set 4 | Caravelas \n",
      "Processing Record 19 of Set 4 | Vao \n",
      "Processing Record 20 of Set 4 | Buala \n",
      "Processing Record 21 of Set 4 | Moindou \n",
      "Processing Record 22 of Set 4 | Barra \n",
      "Processing Record 23 of Set 4 | Gizo Government Station \n",
      "Processing Record 24 of Set 4 | Bukama \n",
      "Processing Record 25 of Set 4 | La Ronge \n",
      "Processing Record 26 of Set 4 | Molokovo \n",
      "Processing Record 27 of Set 4 | Laguna \n",
      "Processing Record 28 of Set 4 | Port Moresby \n"
     ]
    },
    {
     "name": "stdout",
     "output_type": "stream",
     "text": [
      "Processing Record 29 of Set 4 | Ordu \n",
      "Processing Record 30 of Set 4 | Aasiaat \n",
      "Processing Record 31 of Set 4 | Nizhnevartovsk \n",
      "City not found. Skipping...\n",
      "City not found. Skipping...\n",
      "Processing Record 32 of Set 4 | Bathsheba \n",
      "Processing Record 33 of Set 4 | Ucluelet \n",
      "Processing Record 34 of Set 4 | Olinda \n",
      "Processing Record 35 of Set 4 | Geraldton \n",
      "Processing Record 36 of Set 4 | Inírida \n",
      "Processing Record 37 of Set 4 | Camabatela \n",
      "Processing Record 38 of Set 4 | Antofagasta \n",
      "Processing Record 39 of Set 4 | Bud \n",
      "Processing Record 40 of Set 4 | Ayan \n",
      "Processing Record 41 of Set 4 | Srednekolymsk \n",
      "Processing Record 42 of Set 4 | Ilulissat \n",
      "Processing Record 43 of Set 4 | Kutum \n",
      "Processing Record 44 of Set 4 | Ust-Nera \n",
      "Processing Record 45 of Set 4 | Batagay-Alyta \n",
      "Processing Record 46 of Set 4 | Upernavik \n",
      "Processing Record 47 of Set 4 | Perelyub \n",
      "Processing Record 48 of Set 4 | San Patricio \n",
      "Processing Record 49 of Set 4 | Boende \n",
      "----------------------------------------------------------------\n",
      "Processing Record 0 of Set 5 | Lavrentiya \n",
      "Processing Record 1 of Set 5 | Hambantota \n",
      "Processing Record 2 of Set 5 | Chokurdakh \n",
      "Processing Record 3 of Set 5 | Broken Hill \n",
      "City not found. Skipping...\n",
      "Processing Record 4 of Set 5 | Rāpar \n",
      "Processing Record 5 of Set 5 | Chui \n",
      "Processing Record 6 of Set 5 | Khovu-Aksy \n",
      "Processing Record 7 of Set 5 | São Geraldo do Araguaia \n",
      "Processing Record 8 of Set 5 | La Rioja \n",
      "Processing Record 9 of Set 5 | Saskylakh \n",
      "Processing Record 10 of Set 5 | Rome \n",
      "Processing Record 11 of Set 5 | Tuatapere \n",
      "Processing Record 12 of Set 5 | Aklavik \n",
      "Processing Record 13 of Set 5 | Belen \n",
      "Processing Record 14 of Set 5 | Ixtapa \n",
      "Processing Record 15 of Set 5 | Thinadhoo \n",
      "Processing Record 16 of Set 5 | Witbank \n",
      "Processing Record 17 of Set 5 | Flagstaff \n",
      "Processing Record 18 of Set 5 | Nanortalik \n",
      "Processing Record 19 of Set 5 | Devrek \n",
      "Processing Record 20 of Set 5 | Wad Medani \n",
      "Processing Record 21 of Set 5 | Faya \n",
      "City not found. Skipping...\n",
      "Processing Record 22 of Set 5 | Angoche \n",
      "City not found. Skipping...\n",
      "Processing Record 23 of Set 5 | Bonavista \n",
      "Processing Record 24 of Set 5 | Ovsyanka \n",
      "Processing Record 25 of Set 5 | Puerto Escondido \n",
      "Processing Record 26 of Set 5 | Castro \n",
      "Processing Record 27 of Set 5 | Buta \n",
      "City not found. Skipping...\n",
      "Processing Record 28 of Set 5 | Goderich \n",
      "Processing Record 29 of Set 5 | Labuhan \n",
      "Processing Record 30 of Set 5 | Mayo \n",
      "Processing Record 31 of Set 5 | São João da Barra \n",
      "Processing Record 32 of Set 5 | Egvekinot \n",
      "Processing Record 33 of Set 5 | Puerto Nariño \n",
      "Processing Record 34 of Set 5 | Meulaboh \n",
      "Processing Record 35 of Set 5 | Hassan \n",
      "Processing Record 36 of Set 5 | Jasper \n",
      "Processing Record 37 of Set 5 | Japura \n",
      "Processing Record 38 of Set 5 | Wick \n",
      "Processing Record 39 of Set 5 | Vostok \n",
      "Processing Record 40 of Set 5 | Bereda \n",
      "Processing Record 41 of Set 5 | Lanzhou \n",
      "Processing Record 42 of Set 5 | Berlevåg \n",
      "Processing Record 43 of Set 5 | Watsa \n",
      "City not found. Skipping...\n",
      "Processing Record 44 of Set 5 | Nantucket \n",
      "Processing Record 45 of Set 5 | Paita \n",
      "Processing Record 46 of Set 5 | Trelew \n",
      "Processing Record 47 of Set 5 | Sakakah \n",
      "Processing Record 48 of Set 5 | Gamboma \n",
      "City not found. Skipping...\n",
      "Processing Record 49 of Set 5 | Isoka \n",
      "----------------------------------------------------------------\n",
      "Processing Record 0 of Set 6 | Tual \n",
      "Processing Record 1 of Set 6 | Nakusp \n",
      "Processing Record 2 of Set 6 | Inawashiro \n",
      "City not found. Skipping...\n",
      "Processing Record 3 of Set 6 | Paamiut \n",
      "Processing Record 4 of Set 6 | Katangli \n",
      "Processing Record 5 of Set 6 | Nizwá \n",
      "Processing Record 6 of Set 6 | Samarai \n",
      "Processing Record 7 of Set 6 | Verāval \n",
      "Processing Record 8 of Set 6 | Taksimo \n",
      "Processing Record 9 of Set 6 | Holenarasipura \n",
      "Processing Record 10 of Set 6 | Hurghada \n",
      "Processing Record 11 of Set 6 | Provideniya \n",
      "Processing Record 12 of Set 6 | Fukuechō \n",
      "Processing Record 13 of Set 6 | Santa Fe \n",
      "Processing Record 14 of Set 6 | Fairbanks \n",
      "City not found. Skipping...\n",
      "Processing Record 15 of Set 6 | Cuauhtémoc \n",
      "Processing Record 16 of Set 6 | Port Hardy \n",
      "Processing Record 17 of Set 6 | Nikol'sk \n",
      "Processing Record 18 of Set 6 | Independence \n",
      "Processing Record 19 of Set 6 | Bizhbulyak \n",
      "Processing Record 20 of Set 6 | Port Shepstone \n",
      "Processing Record 21 of Set 6 | Turbiv \n",
      "Processing Record 22 of Set 6 | Coyhaique \n",
      "Processing Record 23 of Set 6 | Sabha \n",
      "Processing Record 24 of Set 6 | Meridian \n",
      "Processing Record 25 of Set 6 | Mwandiga \n",
      "Processing Record 26 of Set 6 | Norden \n",
      "Processing Record 27 of Set 6 | Río Gallegos \n",
      "Processing Record 28 of Set 6 | Osypenko \n",
      "Processing Record 29 of Set 6 | Quelimane \n",
      "Processing Record 30 of Set 6 | Plettenberg Bay \n",
      "Processing Record 31 of Set 6 | Quatre Cocos \n",
      "Processing Record 32 of Set 6 | Roald \n",
      "Processing Record 33 of Set 6 | Saldanha \n",
      "Processing Record 34 of Set 6 | Malakal \n",
      "Processing Record 35 of Set 6 | Vorotynsk \n",
      "Processing Record 36 of Set 6 | Trussville \n",
      "Processing Record 37 of Set 6 | Vila Franca do Campo \n",
      "Processing Record 38 of Set 6 | Altamira \n",
      "Processing Record 39 of Set 6 | Kāzerūn \n",
      "Processing Record 40 of Set 6 | Crib Point \n",
      "Processing Record 41 of Set 6 | Alice Springs \n",
      "Processing Record 42 of Set 6 | Vila Velha \n",
      "Processing Record 43 of Set 6 | Beringovskiy \n",
      "Processing Record 44 of Set 6 | Nurota \n",
      "City not found. Skipping...\n",
      "Processing Record 45 of Set 6 | Viedma \n",
      "Processing Record 46 of Set 6 | Kilinochchi \n",
      "Processing Record 47 of Set 6 | Kumul \n",
      "Processing Record 48 of Set 6 | Oriximiná \n",
      "Processing Record 49 of Set 6 | Zhangaözen \n",
      "City not found. Skipping...\n",
      "----------------------------------------------------------------\n",
      "Processing Record 0 of Set 7 | Skeldon \n",
      "City not found. Skipping...\n",
      "Processing Record 1 of Set 7 | Sitka \n",
      "Processing Record 2 of Set 7 | Porto-Novo \n",
      "Processing Record 3 of Set 7 | Mpanda \n",
      "Processing Record 4 of Set 7 | Sorong \n",
      "Processing Record 5 of Set 7 | Wajima \n",
      "Processing Record 6 of Set 7 | Canmore \n",
      "Processing Record 7 of Set 7 | Lakshmīpur \n",
      "Processing Record 8 of Set 7 | Aguçadoura \n",
      "Processing Record 9 of Set 7 | Sayyan \n",
      "Processing Record 10 of Set 7 | Gbely \n",
      "Processing Record 11 of Set 7 | Belmonte \n",
      "Processing Record 12 of Set 7 | Mīnāb \n",
      "Processing Record 13 of Set 7 | Shetpe \n",
      "Processing Record 14 of Set 7 | Maceió \n",
      "Processing Record 15 of Set 7 | Camargo \n",
      "Processing Record 16 of Set 7 | Pizarro \n",
      "Processing Record 17 of Set 7 | Lebu \n",
      "Processing Record 18 of Set 7 | Sola \n",
      "Processing Record 19 of Set 7 | San Rafael \n",
      "Processing Record 20 of Set 7 | Port Augusta \n",
      "Processing Record 21 of Set 7 | Camacha \n",
      "Processing Record 22 of Set 7 | Vanavara \n",
      "Processing Record 23 of Set 7 | Acheng \n",
      "Processing Record 24 of Set 7 | Leh \n",
      "Processing Record 25 of Set 7 | Tarko-Sale \n",
      "Processing Record 26 of Set 7 | Arrah \n",
      "Processing Record 27 of Set 7 | Awjilah \n",
      "Processing Record 28 of Set 7 | Pisco \n",
      "Processing Record 29 of Set 7 | Gopālpur \n",
      "Processing Record 30 of Set 7 | San Policarpo \n",
      "Processing Record 31 of Set 7 | Ostrovnoy \n",
      "City not found. Skipping...\n",
      "Processing Record 32 of Set 7 | Yabēlo \n",
      "Processing Record 33 of Set 7 | Yerbogachën \n",
      "Processing Record 34 of Set 7 | Woodburn \n",
      "Processing Record 35 of Set 7 | Sur \n",
      "Processing Record 36 of Set 7 | Randazzo \n",
      "Processing Record 37 of Set 7 | Salinópolis \n",
      "Processing Record 38 of Set 7 | Ossora \n",
      "Processing Record 39 of Set 7 | Lakes Entrance \n",
      "Processing Record 40 of Set 7 | Verkhnyaya Inta \n",
      "Processing Record 41 of Set 7 | Biltine \n",
      "Processing Record 42 of Set 7 | Vestmanna \n",
      "Processing Record 43 of Set 7 | Beipiao \n",
      "Processing Record 44 of Set 7 | Sagua la Grande \n",
      "Processing Record 45 of Set 7 | Portland \n",
      "Processing Record 46 of Set 7 | Prince Rupert \n",
      "Processing Record 47 of Set 7 | Scottsbluff \n",
      "Processing Record 48 of Set 7 | Ahipara \n",
      "Processing Record 49 of Set 7 | Sauda \n",
      "----------------------------------------------------------------\n",
      "Processing Record 0 of Set 8 | Coaldale \n",
      "Processing Record 1 of Set 8 | Acapulco de Juárez \n",
      "Processing Record 2 of Set 8 | Almaznyy \n",
      "Processing Record 3 of Set 8 | Salisbury \n",
      "Processing Record 4 of Set 8 | Mahrīz \n",
      "Processing Record 5 of Set 8 | Torbay \n",
      "Processing Record 6 of Set 8 | Touros \n",
      "Processing Record 7 of Set 8 | Irará \n",
      "Processing Record 8 of Set 8 | Volot \n"
     ]
    },
    {
     "name": "stdout",
     "output_type": "stream",
     "text": [
      "Processing Record 9 of Set 8 | Mikkeli \n",
      "Processing Record 10 of Set 8 | Flinders \n",
      "Processing Record 11 of Set 8 | Kota Belud \n",
      "Processing Record 12 of Set 8 | Kirakira \n",
      "Processing Record 13 of Set 8 | Oleksandrivka \n",
      "Processing Record 14 of Set 8 | Port Blair \n",
      "Processing Record 15 of Set 8 | Brainerd \n",
      "Processing Record 16 of Set 8 | Hīt \n",
      "Processing Record 17 of Set 8 | Zhanakorgan \n",
      "Processing Record 18 of Set 8 | Asău \n",
      "Processing Record 19 of Set 8 | ‘Ewa Beach \n",
      "Processing Record 20 of Set 8 | Loikaw \n",
      "Processing Record 21 of Set 8 | Havre-St-Pierre \n",
      "Processing Record 22 of Set 8 | Christchurch \n",
      "Processing Record 23 of Set 8 | Half Moon Bay \n",
      "Processing Record 24 of Set 8 | Alabaster \n",
      "Processing Record 25 of Set 8 | Hūn \n",
      "Processing Record 26 of Set 8 | Zermatt \n",
      "Processing Record 27 of Set 8 | Tottori-shi \n",
      "City not found. Skipping...\n",
      "Processing Record 28 of Set 8 | São José da Coroa Grande \n",
      "Processing Record 29 of Set 8 | Turukhansk \n",
      "Processing Record 30 of Set 8 | Carauari \n",
      "Processing Record 31 of Set 8 | Shiraz \n",
      "Processing Record 32 of Set 8 | Mildura \n",
      "Processing Record 33 of Set 8 | Caborca \n",
      "City not found. Skipping...\n",
      "City not found. Skipping...\n",
      "Processing Record 34 of Set 8 | Narsaq \n",
      "Processing Record 35 of Set 8 | Aksarka \n",
      "Processing Record 36 of Set 8 | Porto Walter \n",
      "Processing Record 37 of Set 8 | Arica \n",
      "Processing Record 38 of Set 8 | Faanui \n",
      "Processing Record 39 of Set 8 | Hay River \n",
      "Processing Record 40 of Set 8 | Charleston \n",
      "Processing Record 41 of Set 8 | Una \n",
      "Processing Record 42 of Set 8 | Zyryanka \n",
      "Processing Record 43 of Set 8 | Mananjary \n",
      "Processing Record 44 of Set 8 | Tessalit \n",
      "City not found. Skipping...\n",
      "Processing Record 45 of Set 8 | Agadez \n",
      "City not found. Skipping...\n",
      "Processing Record 46 of Set 8 | Concordia \n",
      "Processing Record 47 of Set 8 | Oodweyne \n",
      "Processing Record 48 of Set 8 | Kahului \n",
      "Processing Record 49 of Set 8 | Auki \n",
      "----------------------------------------------------------------\n",
      "Processing Record 0 of Set 9 | Madimba \n",
      "City not found. Skipping...\n",
      "Processing Record 1 of Set 9 | Strängnäs \n",
      "Processing Record 2 of Set 9 | Oranjemund \n",
      "Processing Record 3 of Set 9 | Alofi \n",
      "Processing Record 4 of Set 9 | Grand Gaube \n",
      "Processing Record 5 of Set 9 | Ulaanbaatar \n",
      "Processing Record 6 of Set 9 | Turbat \n",
      "Processing Record 7 of Set 9 | Ternate \n",
      "Processing Record 8 of Set 9 | Harper \n",
      "Processing Record 9 of Set 9 | Pacifica \n",
      "Processing Record 10 of Set 9 | San Jose \n",
      "Processing Record 11 of Set 9 | Agra \n",
      "Processing Record 12 of Set 9 | Inongo \n",
      "Processing Record 13 of Set 9 | Mumbwa \n",
      "Processing Record 14 of Set 9 | Valparaíso \n",
      "City not found. Skipping...\n",
      "Processing Record 15 of Set 9 | Saint Cloud \n",
      "Processing Record 16 of Set 9 | ‘Āhuimanu \n",
      "Processing Record 17 of Set 9 | Elizabeth City \n",
      "Processing Record 18 of Set 9 | Petropavlovsk-Kamchatskiy \n",
      "Processing Record 19 of Set 9 | Kushima \n",
      "Processing Record 20 of Set 9 | Basco \n",
      "Processing Record 21 of Set 9 | Seredka \n",
      "Processing Record 22 of Set 9 | Minas \n",
      "Processing Record 23 of Set 9 | Praia da Vitória \n",
      "Processing Record 24 of Set 9 | Green Valley \n",
      "Processing Record 25 of Set 9 | Bilibino \n",
      "Processing Record 26 of Set 9 | Saint-Joseph \n",
      "Processing Record 27 of Set 9 | Muros \n",
      "Processing Record 28 of Set 9 | Mazsalaca \n",
      "Processing Record 29 of Set 9 | Husavik \n",
      "Processing Record 30 of Set 9 | Ancud \n",
      "Processing Record 31 of Set 9 | Płońsk \n",
      "Processing Record 32 of Set 9 | Aksu \n",
      "Processing Record 33 of Set 9 | Sechura \n",
      "Processing Record 34 of Set 9 | Ukiah \n",
      "Processing Record 35 of Set 9 | Marawi \n",
      "City not found. Skipping...\n",
      "Processing Record 36 of Set 9 | Katav-Ivanovsk \n",
      "Processing Record 37 of Set 9 | San Cristobal \n",
      "Processing Record 38 of Set 9 | Pingliang \n",
      "Processing Record 39 of Set 9 | Port-Cartier \n",
      "Processing Record 40 of Set 9 | Emerald \n",
      "City not found. Skipping...\n",
      "Processing Record 41 of Set 9 | Maumere \n",
      "Processing Record 42 of Set 9 | San Ignacio \n",
      "Processing Record 43 of Set 9 | Kiryat Gat \n",
      "Processing Record 44 of Set 9 | Marsá Maţrūḩ \n",
      "Processing Record 45 of Set 9 | Rio Grande \n",
      "Processing Record 46 of Set 9 | Araouane \n",
      "Processing Record 47 of Set 9 | Santa Cruz de la Sierra \n",
      "Processing Record 48 of Set 9 | Ponta do Sol \n",
      "Processing Record 49 of Set 9 | Kloulklubed \n",
      "----------------------------------------------------------------\n",
      "Processing Record 0 of Set 10 | Ipaussu \n",
      "Processing Record 1 of Set 10 | Novooleksiyivka \n",
      "Processing Record 2 of Set 10 | Stokmarknes \n",
      "Processing Record 3 of Set 10 | Guiratinga \n",
      "Processing Record 4 of Set 10 | São Raimundo das Mangabeiras \n",
      "Processing Record 5 of Set 10 | Neryungri \n",
      "Processing Record 6 of Set 10 | Tākestān \n",
      "Processing Record 7 of Set 10 | Bandarbeyla \n",
      "Processing Record 8 of Set 10 | Kruisfontein \n",
      "Processing Record 9 of Set 10 | Lokachi \n",
      "Processing Record 10 of Set 10 | Leningradskiy \n",
      "Processing Record 11 of Set 10 | Abilene \n",
      "City not found. Skipping...\n",
      "Processing Record 12 of Set 10 | Pevek \n",
      "Processing Record 13 of Set 10 | Juneau \n",
      "Processing Record 14 of Set 10 | Bezhetsk \n",
      "Processing Record 15 of Set 10 | Tahoua \n",
      "Processing Record 16 of Set 10 | Searcy \n",
      "Processing Record 17 of Set 10 | Aswān \n",
      "Processing Record 18 of Set 10 | Avera \n",
      "City not found. Skipping...\n",
      "Processing Record 19 of Set 10 | Lompoc \n",
      "Processing Record 20 of Set 10 | Warrnambool \n",
      "Processing Record 21 of Set 10 | Mount Gambier \n",
      "Processing Record 22 of Set 10 | Hauterive \n",
      "Processing Record 23 of Set 10 | Magadan \n",
      "Processing Record 24 of Set 10 | Valdivia \n",
      "Processing Record 25 of Set 10 | Arona \n",
      "Processing Record 26 of Set 10 | Grand-Bourg \n",
      "Processing Record 27 of Set 10 | Mehamn \n",
      "Processing Record 28 of Set 10 | The Valley \n",
      "Processing Record 29 of Set 10 | Maniitsoq \n",
      "Processing Record 30 of Set 10 | Parfen'yevo \n",
      "Processing Record 31 of Set 10 | Mbalmayo \n",
      "Processing Record 32 of Set 10 | Nioro \n",
      "Processing Record 33 of Set 10 | Bougouni \n",
      "Processing Record 34 of Set 10 | Niquero \n",
      "Processing Record 35 of Set 10 | Jutaí \n",
      "Processing Record 36 of Set 10 | Pavlovka \n",
      "Processing Record 37 of Set 10 | Vardø \n",
      "Processing Record 38 of Set 10 | Il’inskiy \n",
      "Processing Record 39 of Set 10 | Sydney \n",
      "Processing Record 40 of Set 10 | Esperance \n",
      "Processing Record 41 of Set 10 | Eureka \n",
      "Processing Record 42 of Set 10 | Tomatlán \n",
      "Processing Record 43 of Set 10 | Ambunti \n",
      "Processing Record 44 of Set 10 | Necochea \n",
      "Processing Record 45 of Set 10 | Mamakan \n",
      "Processing Record 46 of Set 10 | General Roca \n",
      "Processing Record 47 of Set 10 | Khovd \n",
      "Processing Record 48 of Set 10 | Kumluca \n",
      "Processing Record 49 of Set 10 | Umm Kaddadah \n",
      "----------------------------------------------------------------\n",
      "Processing Record 0 of Set 11 | Abéché \n",
      "Processing Record 1 of Set 11 | Ust'-Ishim \n",
      "Processing Record 2 of Set 11 | Yeniseysk \n",
      "Processing Record 3 of Set 11 | Tadine \n",
      "Processing Record 4 of Set 11 | Yamada \n",
      "Processing Record 5 of Set 11 | Medina del Campo \n",
      "Processing Record 6 of Set 11 | Todos Santos \n",
      "Processing Record 7 of Set 11 | Richards Bay \n",
      "City not found. Skipping...\n",
      "Processing Record 8 of Set 11 | Graham \n",
      "Processing Record 9 of Set 11 | Al Bardīyah \n",
      "City not found. Skipping...\n",
      "Processing Record 10 of Set 11 | Oranjestad \n",
      "Processing Record 11 of Set 11 | Hearst \n",
      "Processing Record 12 of Set 11 | Miraflores \n",
      "Processing Record 13 of Set 11 | Moree \n",
      "Processing Record 14 of Set 11 | Taoudenni \n",
      "Processing Record 15 of Set 11 | Zhangjiakou \n",
      "Processing Record 16 of Set 11 | Huarmey \n",
      "Processing Record 17 of Set 11 | Dryden \n",
      "Processing Record 18 of Set 11 | Beli Potok \n",
      "Processing Record 19 of Set 11 | Gazojak \n",
      "Processing Record 20 of Set 11 | San Marcos \n",
      "Processing Record 21 of Set 11 | Ardakān \n",
      "Processing Record 22 of Set 11 | Takoradze \n",
      "Processing Record 23 of Set 11 | San Jerónimo \n",
      "Processing Record 24 of Set 11 | Aleksandriyskaya \n",
      "Processing Record 25 of Set 11 | Hervey Bay \n",
      "City not found. Skipping...\n",
      "Processing Record 26 of Set 11 | Makakilo City \n",
      "Processing Record 27 of Set 11 | Dingle \n",
      "Processing Record 28 of Set 11 | Kasungu \n",
      "Processing Record 29 of Set 11 | Walvis Bay \n",
      "Processing Record 30 of Set 11 | Larap \n",
      "Processing Record 31 of Set 11 | Saint-Augustin \n",
      "City not found. Skipping...\n",
      "Processing Record 32 of Set 11 | Vestmannaeyjar \n",
      "Processing Record 33 of Set 11 | Port Macquarie \n",
      "Processing Record 34 of Set 11 | Alyangula \n"
     ]
    },
    {
     "name": "stdout",
     "output_type": "stream",
     "text": [
      "Processing Record 35 of Set 11 | Monster \n",
      "City not found. Skipping...\n",
      "City not found. Skipping...\n",
      "Processing Record 36 of Set 11 | Aleksandrovsk \n",
      "Processing Record 37 of Set 11 | Moose Factory \n",
      "Processing Record 38 of Set 11 | Biloli \n",
      "Processing Record 39 of Set 11 | Oddur \n",
      "Processing Record 40 of Set 11 | Lichinga \n",
      "Processing Record 41 of Set 11 | Codrington \n",
      "Processing Record 42 of Set 11 | Airai \n",
      "Processing Record 43 of Set 11 | Marzuq \n",
      "City not found. Skipping...\n",
      "Processing Record 44 of Set 11 | Santarém \n",
      "Processing Record 45 of Set 11 | Kieta \n",
      "Processing Record 46 of Set 11 | Green River \n",
      "Processing Record 47 of Set 11 | Manzhouli \n",
      "Processing Record 48 of Set 11 | Bac Lieu \n",
      "Processing Record 49 of Set 11 | Uyuni \n",
      "----------------------------------------------------------------\n",
      "----------------------------------------------------------------\n",
      "Data Retrieval Complete\n",
      "----------------------------------------------------------------\n"
     ]
    }
   ],
   "source": [
    "print(\"Beginning Data Retrieval\")\n",
    "print(\"-\"*64)\n",
    "for city in cities:      \n",
    "    weather_response = requests.get(query_url+city)\n",
    "    weather_json = weather_response.json()\n",
    "    #print(query_url+city)\n",
    "    \n",
    "    try:\n",
    "         \n",
    "        city_id = weather_json[\"id\"]    \n",
    "        cities_num.append(city_id)\n",
    "\n",
    "        city_name = weather_json[\"name\"]\n",
    "        cities_name.append(city_name)\n",
    "\n",
    "        lat.append(weather_json[\"coord\"][\"lat\"])\n",
    "\n",
    "        lng.append(weather_json[\"coord\"][\"lon\"])        \n",
    "\n",
    "        temp.append(weather_json[\"main\"][\"temp\"])\n",
    "\n",
    "        humidity.append(weather_json[\"main\"][\"humidity\"])\n",
    "\n",
    "        cloudy.append(weather_json[\"clouds\"][\"all\"])\n",
    "\n",
    "        wind_speed.append(weather_json[\"wind\"][\"speed\"])\n",
    "\n",
    "        country.append(weather_json[\"sys\"][\"country\"])\n",
    "\n",
    "        date.append(weather_json[\"dt\"])\n",
    "\n",
    "        if record >49:\n",
    "            record =0\n",
    "            set +=1\n",
    "            city_count +=1\n",
    "            print(\"-\"*64)\n",
    "\n",
    "        elif set>1:\n",
    "            city_count +=1\n",
    "            print(f\"Processing Record {record} of Set {set} | {city_name} \")\n",
    "            record +=1\n",
    "\n",
    "        else:\n",
    "            record +=1\n",
    "            city_count +=1\n",
    "            print(f\"Processing Record {record} of Set {set} | {city_name} \")\n",
    "\n",
    "\n",
    "\n",
    "\n",
    "    except:\n",
    "        \n",
    "        #print(weather_json[\"message\"])\n",
    "        print(f\"City not found. Skipping...\")\n",
    "        pass\n",
    "    \n",
    "print(\"-\"*64)\n",
    "print(\"Data Retrieval Complete\")\n",
    "print(\"-\"*64)\n",
    "\n"
   ]
  },
  {
   "cell_type": "code",
   "execution_count": 6,
   "metadata": {},
   "outputs": [
    {
     "data": {
      "text/plain": [
       "'\\n# print(len(lng))\\nprint(len(lat))\\nprint(city_count)\\nprint(len(temp))\\nprint(len(humidity))\\nprint(len(cloudy))\\nprint(len(wind_speed))\\nprint(len(country))\\nprint(len(date))\\n'"
      ]
     },
     "execution_count": 6,
     "metadata": {},
     "output_type": "execute_result"
    }
   ],
   "source": [
    "print(len(lng))\n",
    "print(len(lat))\n",
    "print(city_count)\n",
    "print(len(temp))\n",
    "print(len(humidity))\n",
    "print(len(cloudy))\n",
    "print(len(wind_speed))\n",
    "print(len(country))\n",
    "print(len(date))    "
   ]
  },
  {
   "cell_type": "code",
   "execution_count": null,
   "metadata": {
    "scrolled": true
   },
   "outputs": [],
   "source": [
    "    "
   ]
  },
  {
   "cell_type": "markdown",
   "metadata": {},
   "source": [
    "### Convert Raw Data to DataFrame\n",
    "* Export the city data into a .csv.\n",
    "* Display the DataFrame"
   ]
  },
  {
   "cell_type": "code",
   "execution_count": 12,
   "metadata": {},
   "outputs": [
    {
     "data": {
      "text/html": [
       "<div>\n",
       "<style scoped>\n",
       "    .dataframe tbody tr th:only-of-type {\n",
       "        vertical-align: middle;\n",
       "    }\n",
       "\n",
       "    .dataframe tbody tr th {\n",
       "        vertical-align: top;\n",
       "    }\n",
       "\n",
       "    .dataframe thead th {\n",
       "        text-align: right;\n",
       "    }\n",
       "</style>\n",
       "<table border=\"1\" class=\"dataframe\">\n",
       "  <thead>\n",
       "    <tr style=\"text-align: right;\">\n",
       "      <th></th>\n",
       "      <th>City</th>\n",
       "      <th>Country</th>\n",
       "      <th>Date</th>\n",
       "      <th>Lat</th>\n",
       "      <th>Lng</th>\n",
       "      <th>Max Temp</th>\n",
       "      <th>Humidity</th>\n",
       "      <th>Cloudiness</th>\n",
       "      <th>Wind Speed</th>\n",
       "    </tr>\n",
       "  </thead>\n",
       "  <tbody>\n",
       "    <tr>\n",
       "      <th>0</th>\n",
       "      <td>Tuktoyaktuk</td>\n",
       "      <td>CA</td>\n",
       "      <td>1630003797</td>\n",
       "      <td>69.4541</td>\n",
       "      <td>-133.0374</td>\n",
       "      <td>286.15</td>\n",
       "      <td>88</td>\n",
       "      <td>75</td>\n",
       "      <td>5.66</td>\n",
       "    </tr>\n",
       "    <tr>\n",
       "      <th>1</th>\n",
       "      <td>Bluff</td>\n",
       "      <td>NZ</td>\n",
       "      <td>1630003797</td>\n",
       "      <td>-46.6000</td>\n",
       "      <td>168.3333</td>\n",
       "      <td>278.60</td>\n",
       "      <td>72</td>\n",
       "      <td>91</td>\n",
       "      <td>4.08</td>\n",
       "    </tr>\n",
       "    <tr>\n",
       "      <th>2</th>\n",
       "      <td>Rikitea</td>\n",
       "      <td>PF</td>\n",
       "      <td>1630003797</td>\n",
       "      <td>-23.1203</td>\n",
       "      <td>-134.9692</td>\n",
       "      <td>295.21</td>\n",
       "      <td>70</td>\n",
       "      <td>0</td>\n",
       "      <td>5.12</td>\n",
       "    </tr>\n",
       "    <tr>\n",
       "      <th>3</th>\n",
       "      <td>Poum</td>\n",
       "      <td>NC</td>\n",
       "      <td>1630003798</td>\n",
       "      <td>-20.2333</td>\n",
       "      <td>164.0167</td>\n",
       "      <td>295.63</td>\n",
       "      <td>82</td>\n",
       "      <td>12</td>\n",
       "      <td>5.16</td>\n",
       "    </tr>\n",
       "    <tr>\n",
       "      <th>4</th>\n",
       "      <td>Strezhevoy</td>\n",
       "      <td>RU</td>\n",
       "      <td>1630003798</td>\n",
       "      <td>60.7333</td>\n",
       "      <td>77.5889</td>\n",
       "      <td>292.14</td>\n",
       "      <td>89</td>\n",
       "      <td>96</td>\n",
       "      <td>2.40</td>\n",
       "    </tr>\n",
       "    <tr>\n",
       "      <th>...</th>\n",
       "      <td>...</td>\n",
       "      <td>...</td>\n",
       "      <td>...</td>\n",
       "      <td>...</td>\n",
       "      <td>...</td>\n",
       "      <td>...</td>\n",
       "      <td>...</td>\n",
       "      <td>...</td>\n",
       "      <td>...</td>\n",
       "    </tr>\n",
       "    <tr>\n",
       "      <th>556</th>\n",
       "      <td>Green River</td>\n",
       "      <td>US</td>\n",
       "      <td>1630004000</td>\n",
       "      <td>41.5286</td>\n",
       "      <td>-109.4662</td>\n",
       "      <td>298.86</td>\n",
       "      <td>36</td>\n",
       "      <td>56</td>\n",
       "      <td>2.24</td>\n",
       "    </tr>\n",
       "    <tr>\n",
       "      <th>557</th>\n",
       "      <td>Manzhouli</td>\n",
       "      <td>CN</td>\n",
       "      <td>1630004000</td>\n",
       "      <td>49.6000</td>\n",
       "      <td>117.4333</td>\n",
       "      <td>284.25</td>\n",
       "      <td>90</td>\n",
       "      <td>100</td>\n",
       "      <td>4.83</td>\n",
       "    </tr>\n",
       "    <tr>\n",
       "      <th>558</th>\n",
       "      <td>Bac Lieu</td>\n",
       "      <td>VN</td>\n",
       "      <td>1630004000</td>\n",
       "      <td>9.2850</td>\n",
       "      <td>105.7244</td>\n",
       "      <td>298.36</td>\n",
       "      <td>86</td>\n",
       "      <td>100</td>\n",
       "      <td>2.92</td>\n",
       "    </tr>\n",
       "    <tr>\n",
       "      <th>559</th>\n",
       "      <td>Uyuni</td>\n",
       "      <td>BO</td>\n",
       "      <td>1630004001</td>\n",
       "      <td>-20.4597</td>\n",
       "      <td>-66.8250</td>\n",
       "      <td>284.51</td>\n",
       "      <td>9</td>\n",
       "      <td>0</td>\n",
       "      <td>8.40</td>\n",
       "    </tr>\n",
       "    <tr>\n",
       "      <th>560</th>\n",
       "      <td>Finnsnes</td>\n",
       "      <td>NO</td>\n",
       "      <td>1630004001</td>\n",
       "      <td>69.2296</td>\n",
       "      <td>17.9811</td>\n",
       "      <td>282.49</td>\n",
       "      <td>64</td>\n",
       "      <td>100</td>\n",
       "      <td>1.51</td>\n",
       "    </tr>\n",
       "  </tbody>\n",
       "</table>\n",
       "<p>561 rows × 9 columns</p>\n",
       "</div>"
      ],
      "text/plain": [
       "            City Country        Date      Lat       Lng  Max Temp  Humidity  \\\n",
       "0    Tuktoyaktuk      CA  1630003797  69.4541 -133.0374    286.15        88   \n",
       "1          Bluff      NZ  1630003797 -46.6000  168.3333    278.60        72   \n",
       "2        Rikitea      PF  1630003797 -23.1203 -134.9692    295.21        70   \n",
       "3           Poum      NC  1630003798 -20.2333  164.0167    295.63        82   \n",
       "4     Strezhevoy      RU  1630003798  60.7333   77.5889    292.14        89   \n",
       "..           ...     ...         ...      ...       ...       ...       ...   \n",
       "556  Green River      US  1630004000  41.5286 -109.4662    298.86        36   \n",
       "557    Manzhouli      CN  1630004000  49.6000  117.4333    284.25        90   \n",
       "558     Bac Lieu      VN  1630004000   9.2850  105.7244    298.36        86   \n",
       "559        Uyuni      BO  1630004001 -20.4597  -66.8250    284.51         9   \n",
       "560     Finnsnes      NO  1630004001  69.2296   17.9811    282.49        64   \n",
       "\n",
       "     Cloudiness  Wind Speed  \n",
       "0            75        5.66  \n",
       "1            91        4.08  \n",
       "2             0        5.12  \n",
       "3            12        5.16  \n",
       "4            96        2.40  \n",
       "..          ...         ...  \n",
       "556          56        2.24  \n",
       "557         100        4.83  \n",
       "558         100        2.92  \n",
       "559           0        8.40  \n",
       "560         100        1.51  \n",
       "\n",
       "[561 rows x 9 columns]"
      ]
     },
     "execution_count": 12,
     "metadata": {},
     "output_type": "execute_result"
    }
   ],
   "source": [
    "weather_dict = {\n",
    "    \"City\": cities_name,\n",
    "    \"Country\":country,\n",
    "    \"Date\":date,\n",
    "    \"Lat\": lat,\n",
    "    \"Lng\": lng,\n",
    "    \"Max Temp\": temp,\n",
    "    \"Humidity\": humidity,\n",
    "    \"Cloudiness\":cloudy,\n",
    "    \"Wind Speed\":wind_speed    \n",
    "}\n",
    "weather_data = pd.DataFrame(weather_dict)\n",
    "weather_data.to_csv(output_data_file)\n",
    "weather_data"
   ]
  },
  {
   "cell_type": "code",
   "execution_count": 13,
   "metadata": {},
   "outputs": [
    {
     "data": {
      "text/html": [
       "<div>\n",
       "<style scoped>\n",
       "    .dataframe tbody tr th:only-of-type {\n",
       "        vertical-align: middle;\n",
       "    }\n",
       "\n",
       "    .dataframe tbody tr th {\n",
       "        vertical-align: top;\n",
       "    }\n",
       "\n",
       "    .dataframe thead th {\n",
       "        text-align: right;\n",
       "    }\n",
       "</style>\n",
       "<table border=\"1\" class=\"dataframe\">\n",
       "  <thead>\n",
       "    <tr style=\"text-align: right;\">\n",
       "      <th></th>\n",
       "      <th>Date</th>\n",
       "      <th>Lat</th>\n",
       "      <th>Lng</th>\n",
       "      <th>Max Temp</th>\n",
       "      <th>Humidity</th>\n",
       "      <th>Cloudiness</th>\n",
       "      <th>Wind Speed</th>\n",
       "    </tr>\n",
       "  </thead>\n",
       "  <tbody>\n",
       "    <tr>\n",
       "      <th>count</th>\n",
       "      <td>5.610000e+02</td>\n",
       "      <td>561.000000</td>\n",
       "      <td>561.000000</td>\n",
       "      <td>561.000000</td>\n",
       "      <td>561.000000</td>\n",
       "      <td>561.000000</td>\n",
       "      <td>561.000000</td>\n",
       "    </tr>\n",
       "    <tr>\n",
       "      <th>mean</th>\n",
       "      <td>1.630004e+09</td>\n",
       "      <td>19.614446</td>\n",
       "      <td>17.811715</td>\n",
       "      <td>293.577380</td>\n",
       "      <td>69.026738</td>\n",
       "      <td>52.023173</td>\n",
       "      <td>3.493191</td>\n",
       "    </tr>\n",
       "    <tr>\n",
       "      <th>std</th>\n",
       "      <td>9.104246e+01</td>\n",
       "      <td>33.439131</td>\n",
       "      <td>91.446122</td>\n",
       "      <td>8.849194</td>\n",
       "      <td>22.695366</td>\n",
       "      <td>41.145228</td>\n",
       "      <td>2.471260</td>\n",
       "    </tr>\n",
       "    <tr>\n",
       "      <th>min</th>\n",
       "      <td>1.630003e+09</td>\n",
       "      <td>-54.800000</td>\n",
       "      <td>-179.166700</td>\n",
       "      <td>274.130000</td>\n",
       "      <td>8.000000</td>\n",
       "      <td>0.000000</td>\n",
       "      <td>0.000000</td>\n",
       "    </tr>\n",
       "    <tr>\n",
       "      <th>25%</th>\n",
       "      <td>1.630004e+09</td>\n",
       "      <td>-8.619900</td>\n",
       "      <td>-63.166700</td>\n",
       "      <td>286.680000</td>\n",
       "      <td>56.000000</td>\n",
       "      <td>6.000000</td>\n",
       "      <td>1.790000</td>\n",
       "    </tr>\n",
       "    <tr>\n",
       "      <th>50%</th>\n",
       "      <td>1.630004e+09</td>\n",
       "      <td>22.890900</td>\n",
       "      <td>26.501900</td>\n",
       "      <td>294.510000</td>\n",
       "      <td>75.000000</td>\n",
       "      <td>50.000000</td>\n",
       "      <td>2.940000</td>\n",
       "    </tr>\n",
       "    <tr>\n",
       "      <th>75%</th>\n",
       "      <td>1.630004e+09</td>\n",
       "      <td>47.666600</td>\n",
       "      <td>93.450000</td>\n",
       "      <td>300.200000</td>\n",
       "      <td>87.000000</td>\n",
       "      <td>99.000000</td>\n",
       "      <td>4.680000</td>\n",
       "    </tr>\n",
       "    <tr>\n",
       "      <th>max</th>\n",
       "      <td>1.630004e+09</td>\n",
       "      <td>78.218600</td>\n",
       "      <td>179.316700</td>\n",
       "      <td>313.880000</td>\n",
       "      <td>100.000000</td>\n",
       "      <td>100.000000</td>\n",
       "      <td>16.540000</td>\n",
       "    </tr>\n",
       "  </tbody>\n",
       "</table>\n",
       "</div>"
      ],
      "text/plain": [
       "               Date         Lat         Lng    Max Temp    Humidity  \\\n",
       "count  5.610000e+02  561.000000  561.000000  561.000000  561.000000   \n",
       "mean   1.630004e+09   19.614446   17.811715  293.577380   69.026738   \n",
       "std    9.104246e+01   33.439131   91.446122    8.849194   22.695366   \n",
       "min    1.630003e+09  -54.800000 -179.166700  274.130000    8.000000   \n",
       "25%    1.630004e+09   -8.619900  -63.166700  286.680000   56.000000   \n",
       "50%    1.630004e+09   22.890900   26.501900  294.510000   75.000000   \n",
       "75%    1.630004e+09   47.666600   93.450000  300.200000   87.000000   \n",
       "max    1.630004e+09   78.218600  179.316700  313.880000  100.000000   \n",
       "\n",
       "       Cloudiness  Wind Speed  \n",
       "count  561.000000  561.000000  \n",
       "mean    52.023173    3.493191  \n",
       "std     41.145228    2.471260  \n",
       "min      0.000000    0.000000  \n",
       "25%      6.000000    1.790000  \n",
       "50%     50.000000    2.940000  \n",
       "75%     99.000000    4.680000  \n",
       "max    100.000000   16.540000  "
      ]
     },
     "execution_count": 13,
     "metadata": {},
     "output_type": "execute_result"
    }
   ],
   "source": [
    "weather_data.describe()"
   ]
  },
  {
   "cell_type": "markdown",
   "metadata": {},
   "source": [
    "## Inspect the data and remove the cities where the humidity > 100%.\n",
    "----\n",
    "Skip this step if there are no cities that have humidity > 100%. "
   ]
  },
  {
   "cell_type": "code",
   "execution_count": 14,
   "metadata": {},
   "outputs": [
    {
     "data": {
      "text/html": [
       "<div>\n",
       "<style scoped>\n",
       "    .dataframe tbody tr th:only-of-type {\n",
       "        vertical-align: middle;\n",
       "    }\n",
       "\n",
       "    .dataframe tbody tr th {\n",
       "        vertical-align: top;\n",
       "    }\n",
       "\n",
       "    .dataframe thead th {\n",
       "        text-align: right;\n",
       "    }\n",
       "</style>\n",
       "<table border=\"1\" class=\"dataframe\">\n",
       "  <thead>\n",
       "    <tr style=\"text-align: right;\">\n",
       "      <th></th>\n",
       "      <th>City</th>\n",
       "      <th>Country</th>\n",
       "      <th>Date</th>\n",
       "      <th>Lat</th>\n",
       "      <th>Lng</th>\n",
       "      <th>Max Temp</th>\n",
       "      <th>Humidity</th>\n",
       "      <th>Cloudiness</th>\n",
       "      <th>Wind Speed</th>\n",
       "    </tr>\n",
       "  </thead>\n",
       "  <tbody>\n",
       "  </tbody>\n",
       "</table>\n",
       "</div>"
      ],
      "text/plain": [
       "Empty DataFrame\n",
       "Columns: [City, Country, Date, Lat, Lng, Max Temp, Humidity, Cloudiness, Wind Speed]\n",
       "Index: []"
      ]
     },
     "execution_count": 14,
     "metadata": {},
     "output_type": "execute_result"
    }
   ],
   "source": [
    "weather_data.loc[weather_data[\"Humidity\"] >100,:]"
   ]
  },
  {
   "cell_type": "code",
   "execution_count": null,
   "metadata": {},
   "outputs": [],
   "source": [
    "#  Get the indices of cities that have humidity over 100%.\n"
   ]
  },
  {
   "cell_type": "code",
   "execution_count": null,
   "metadata": {},
   "outputs": [],
   "source": [
    "# Make a new DataFrame equal to the city data to drop all humidity outliers by index.\n",
    "# Passing \"inplace=False\" will make a copy of the city_data DataFrame, which we call \"clean_city_data\".\n"
   ]
  },
  {
   "cell_type": "code",
   "execution_count": null,
   "metadata": {},
   "outputs": [],
   "source": [
    "\n"
   ]
  },
  {
   "cell_type": "markdown",
   "metadata": {},
   "source": [
    "## Plotting the Data\n",
    "* Use proper labeling of the plots using plot titles (including date of analysis) and axes labels.\n",
    "* Save the plotted figures as .pngs."
   ]
  },
  {
   "cell_type": "markdown",
   "metadata": {},
   "source": [
    "## Latitude vs. Temperature Plot"
   ]
  },
  {
   "cell_type": "code",
   "execution_count": 17,
   "metadata": {
    "scrolled": true
   },
   "outputs": [
    {
     "data": {
      "image/png": "[encoded data removed]",
      "text/plain": [
       "<Figure size 432x288 with 1 Axes>"
      ]
     },
     "metadata": {
      "needs_background": "light"
     },
     "output_type": "display_data"
    }
   ],
   "source": [
    "# Build a scatter plot for each data type\n",
    "plt.scatter(weather_data[\"Lat\"], weather_data[\"Max Temp\"], marker=\"o\")\n",
    "today =date.today()\n",
    "# Incorporate the other graph properties\n",
    "plt.title(f\"City Latitude vs. Max Temperature ({today})\")\n",
    "plt.ylabel(\"Temperature (Celsius)\")\n",
    "plt.xlabel(\"Latitude\")\n",
    "plt.grid(True)\n",
    "\n",
    "# Save the figure\n",
    "plt.savefig(\"Temperature.png\")\n",
    "\n",
    "# Show plot\n",
    "plt.show()"
   ]
  },
  {
   "cell_type": "markdown",
   "metadata": {},
   "source": [
    "## Latitude vs. Humidity Plot"
   ]
  },
  {
   "cell_type": "code",
   "execution_count": 18,
   "metadata": {},
   "outputs": [
    {
     "data": {
      "image/png": "[encoded data removed]",
      "text/plain": [
       "<Figure size 432x288 with 1 Axes>"
      ]
     },
     "metadata": {
      "needs_background": "light"
     },
     "output_type": "display_data"
    }
   ],
   "source": [
    "# Build a scatter plot for each data type\n",
    "plt.scatter(weather_data[\"Lat\"], weather_data[\"Humidity\"], marker=\"o\")\n",
    "today =date.today()\n",
    "# Incorporate the other graph properties\n",
    "plt.title(f\"City Latitude vs. Humidity ({today})\")\n",
    "plt.ylabel(\"Humidity (%)\")\n",
    "plt.xlabel(\"Latitude\")\n",
    "plt.grid(True)\n",
    "\n",
    "# Save the figure\n",
    "plt.savefig(\"Humidity.png\")\n",
    "\n",
    "# Show plot\n",
    "plt.show()"
   ]
  },
  {
   "cell_type": "markdown",
   "metadata": {},
   "source": [
    "## Latitude vs. Cloudiness Plot"
   ]
  },
  {
   "cell_type": "code",
   "execution_count": 19,
   "metadata": {},
   "outputs": [
    {
     "data": {
      "image/png": "[encoded data removed]",
      "text/plain": [
       "<Figure size 432x288 with 1 Axes>"
      ]
     },
     "metadata": {
      "needs_background": "light"
     },
     "output_type": "display_data"
    }
   ],
   "source": [
    "# Build a scatter plot for each data type\n",
    "plt.scatter(weather_data[\"Lat\"], weather_data[\"Cloudiness\"], marker=\"o\")\n",
    "today =date.today()\n",
    "# Incorporate the other graph properties\n",
    "plt.title(f\"City Latitude vs. Cloudiness ({today})\")\n",
    "plt.ylabel(\"Cloudiness (%)\")\n",
    "plt.xlabel(\"Latitude\")\n",
    "plt.grid(True)\n",
    "\n",
    "# Save the figure\n",
    "plt.savefig(\"Cloudiness.png\")\n",
    "\n",
    "# Show plot\n",
    "plt.show()"
   ]
  },
  {
   "cell_type": "markdown",
   "metadata": {},
   "source": [
    "## Latitude vs. Wind Speed Plot"
   ]
  },
  {
   "cell_type": "code",
   "execution_count": 20,
   "metadata": {},
   "outputs": [
    {
     "data": {
      "image/png": "[encoded data removed]",
      "text/plain": [
       "<Figure size 432x288 with 1 Axes>"
      ]
     },
     "metadata": {
      "needs_background": "light"
     },
     "output_type": "display_data"
    }
   ],
   "source": [
    "# Build a scatter plot for each data type\n",
    "plt.scatter(weather_data[\"Lat\"], weather_data[\"Wind Speed\"], marker=\"o\")\n",
    "today =date.today()\n",
    "# Incorporate the other graph properties\n",
    "plt.title(f\"City Latitude vs. Wind Speed ({today})\")\n",
    "plt.ylabel(\"Wind Speed (mph)\")\n",
    "plt.xlabel(\"Latitude\")\n",
    "plt.grid(True)\n",
    "\n",
    "# Save the figure\n",
    "plt.savefig(\"WindSpeed.png\")\n",
    "\n",
    "# Show plot\n",
    "plt.show()"
   ]
  },
  {
   "cell_type": "markdown",
   "metadata": {},
   "source": [
    "## Linear Regression"
   ]
  },
  {
   "cell_type": "code",
   "execution_count": null,
   "metadata": {},
   "outputs": [],
   "source": []
  },
  {
   "cell_type": "markdown",
   "metadata": {},
   "source": [
    "####  Northern Hemisphere - Max Temp vs. Latitude Linear Regression"
   ]
  },
  {
   "cell_type": "code",
   "execution_count": 21,
   "metadata": {},
   "outputs": [],
   "source": [
    "hem_n_df = weather_data.loc[weather_data['Lat'] >= 0,:]\n",
    "x_values_n = hem_n_df[\"Lat\"]\n",
    "y_temp_n = hem_n_df['Max Temp']\n",
    " \n",
    "# Perform a linear regression on Max Temperature vs. latitude\n",
    "(slope_temp_n, intercept_temp_n, rvalue_temp_n, pvalue, stderr) = stats.linregress(x_values_n, y_temp_n)\n",
    "\n",
    "# Get regression values\n",
    "regress_values_tempn = x_values_n * slope_temp_n + intercept_temp_n\n",
    "#print(regress_values_tempn)\n",
    "line_eq_n = \"y = \" + str(round(slope_temp_n,2)) + \"x +\" + str(round(intercept_temp_n,2))"
   ]
  },
  {
   "cell_type": "code",
   "execution_count": 22,
   "metadata": {},
   "outputs": [
    {
     "name": "stdout",
     "output_type": "stream",
     "text": [
      "The r value is: -0.747311380689466\n"
     ]
    },
    {
     "data": {
      "image/png": "[encoded data removed]",
      "text/plain": [
       "<Figure size 432x288 with 1 Axes>"
      ]
     },
     "metadata": {
      "needs_background": "light"
     },
     "output_type": "display_data"
    }
   ],
   "source": [
    "plt.scatter(x_values_n,y_temp_n)\n",
    "plt.plot(x_values_n,regress_values_tempn,\"r-\")\n",
    "\n",
    "# Label plot and annotate the line equation\n",
    "plt.xlabel('Latitude')\n",
    "plt.ylabel('Temperature (F)')\n",
    "plt.annotate(line_eq_n,(20,275),fontsize=15,color=\"red\")\n",
    "\n",
    "# Print r value\n",
    "print(f\"The r value is: {rvalue_temp_n}\")\n",
    "\n",
    "# Show plot\n",
    "plt.show()"
   ]
  },
  {
   "cell_type": "markdown",
   "metadata": {},
   "source": [
    "####  Southern Hemisphere - Max Temp vs. Latitude Linear Regression"
   ]
  },
  {
   "cell_type": "code",
   "execution_count": 23,
   "metadata": {},
   "outputs": [],
   "source": [
    "hem_s_df = weather_data.loc[weather_data['Lat'] < 0,:]\n",
    "x_values_s = hem_s_df[\"Lat\"]\n",
    "y_temp_s = hem_s_df['Max Temp']\n",
    "# Perform a linear regression on Max Temperature vs. latitude\n",
    "(slope_temp_s, intercept_temp_s, rvalue_temp_s, pvalue, stderr) = stats.linregress(x_values_s, y_temp_s)\n",
    "\n",
    "# Get regression values\n",
    "regress_values_temps = x_values_s * slope_temp_s + intercept_temp_s\n",
    "#print(regress_values_temps)\n",
    "line_eq_s = \"y = \" + str(round(slope_temp_s,2)) + \"x +\" + str(round(intercept_temp_s,2))"
   ]
  },
  {
   "cell_type": "code",
   "execution_count": 24,
   "metadata": {},
   "outputs": [
    {
     "name": "stdout",
     "output_type": "stream",
     "text": [
      "The r value is: 0.8099175914281017\n"
     ]
    },
    {
     "data": {
      "image/png": "[encoded data removed]",
      "text/plain": [
       "<Figure size 432x288 with 1 Axes>"
      ]
     },
     "metadata": {
      "needs_background": "light"
     },
     "output_type": "display_data"
    }
   ],
   "source": [
    "plt.scatter(x_values_s,y_temp_s)\n",
    "plt.plot(x_values_s,regress_values_temps,\"r-\")\n",
    "\n",
    "# Label plot and annotate the line equation\n",
    "plt.xlabel('Latitude')\n",
    "plt.ylabel('Temperature (F)')\n",
    "plt.annotate(line_eq_s,(-30,275),fontsize=15,color=\"red\")\n",
    "\n",
    "# Print r value\n",
    "print(f\"The r value is: {rvalue_temp_s}\")\n",
    "\n",
    "# Show plot\n",
    "plt.show()"
   ]
  },
  {
   "cell_type": "markdown",
   "metadata": {},
   "source": [
    "####  Northern Hemisphere - Humidity (%) vs. Latitude Linear Regression"
   ]
  },
  {
   "cell_type": "code",
   "execution_count": 25,
   "metadata": {},
   "outputs": [],
   "source": [
    "#hem_n_df = weather_data.loc[weather_data['Lat'] >= 0,:]\n",
    "#x_values_n = hem_n_df[\"Lat\"]\n",
    "y_humid_n = hem_n_df['Humidity']\n",
    " \n",
    "# Perform a linear regression on Max Temperature vs. latitude\n",
    "(slope_humid_n, intercept_humid_n, rvalue_humid_n, pvalue, stderr) = stats.linregress(x_values_n, y_humid_n)\n",
    "\n",
    "# Get regression values\n",
    "regress_values_humidn = x_values_n * slope_humid_n + intercept_humid_n\n",
    "#print(regress_values_humidn)\n",
    "line_eq_n = \"y = \" + str(round(slope_humid_n,2)) + \"x +\" + str(round(intercept_humid_n,2))"
   ]
  },
  {
   "cell_type": "code",
   "execution_count": 26,
   "metadata": {},
   "outputs": [
    {
     "name": "stdout",
     "output_type": "stream",
     "text": [
      "The r value is: 0.19800863218918432\n"
     ]
    },
    {
     "data": {
      "image/png": "[encoded data removed]",
      "text/plain": [
       "<Figure size 432x288 with 1 Axes>"
      ]
     },
     "metadata": {
      "needs_background": "light"
     },
     "output_type": "display_data"
    }
   ],
   "source": [
    "plt.scatter(x_values_n,y_humid_n)\n",
    "plt.plot(x_values_n,regress_values_humidn,\"r--\")\n",
    "\n",
    "# Label plot and annotate the line equation\n",
    "plt.xlabel('Latitude')\n",
    "plt.ylabel('Humidity')\n",
    "plt.annotate(line_eq_n,(20,75),fontsize=15,color=\"red\")\n",
    "\n",
    "# Print r value\n",
    "print(f\"The r value is: {rvalue_humid_n}\")\n",
    "# Show plot\n",
    "plt.show()"
   ]
  },
  {
   "cell_type": "markdown",
   "metadata": {},
   "source": [
    "####  Southern Hemisphere - Humidity (%) vs. Latitude Linear Regression"
   ]
  },
  {
   "cell_type": "code",
   "execution_count": 27,
   "metadata": {},
   "outputs": [],
   "source": [
    "#hem_s_df = weather_data.loc[weather_data['Lat'] < 0,:]\n",
    "#x_values_s = hem_s_df[\"Lat\"]\n",
    "y_humid_s = hem_s_df['Humidity']\n",
    "# Perform a linear regression on Max Temperature vs. latitude\n",
    "(slope_humid_s, intercept_humid_s, rvalue_humid_s, pvalue, stderr) = stats.linregress(x_values_s, y_humid_s)\n",
    "\n",
    "# Get regression values\n",
    "regress_values_humids = x_values_s * slope_humid_s + intercept_humid_s\n",
    "#print(regress_values_humids)\n",
    "line_eq_s = \"y = \" + str(round(slope_humid_s,2)) + \"x +\" + str(round(intercept_humid_s,2))"
   ]
  },
  {
   "cell_type": "code",
   "execution_count": 28,
   "metadata": {},
   "outputs": [
    {
     "name": "stdout",
     "output_type": "stream",
     "text": [
      "The r value is: -0.16493112229313886\n"
     ]
    },
    {
     "data": {
      "image/png": "[encoded data removed]",
      "text/plain": [
       "<Figure size 432x288 with 1 Axes>"
      ]
     },
     "metadata": {
      "needs_background": "light"
     },
     "output_type": "display_data"
    }
   ],
   "source": [
    "plt.scatter(x_values_s,y_humid_s)\n",
    "plt.plot(x_values_s,regress_values_humids,\"r-\")\n",
    "\n",
    "# Label plot and annotate the line equation\n",
    "plt.xlabel('Latitude')\n",
    "plt.ylabel('Humidity')\n",
    "plt.annotate(line_eq_s,(-30,50),fontsize=15,color=\"red\")\n",
    "\n",
    "# Print r value\n",
    "print(f\"The r value is: {rvalue_humid_s}\")\n",
    "\n",
    "# Show plot\n",
    "plt.show()"
   ]
  },
  {
   "cell_type": "markdown",
   "metadata": {},
   "source": [
    "####  Northern Hemisphere - Cloudiness (%) vs. Latitude Linear Regression"
   ]
  },
  {
   "cell_type": "code",
   "execution_count": 29,
   "metadata": {},
   "outputs": [],
   "source": [
    "#hem_n_df = weather_data.loc[weather_data['Lat'] >= 0,:]\n",
    "#x_values_n = hem_n_df[\"Lat\"]\n",
    "y_cloud_n = hem_n_df['Cloudiness']\n",
    " \n",
    "# Perform a linear regression on Max Temperature vs. latitude\n",
    "(slope_cloud_n, intercept_cloud_n, rvalue_cloud_n, pvalue, stderr) = stats.linregress(x_values_n, y_cloud_n)\n",
    "\n",
    "# Get regression values\n",
    "regress_values_cloudn = x_values_n * slope_cloud_n + intercept_cloud_n\n",
    "#print(regress_values_cloudn)\n",
    "line_eq_n = \"y = \" + str(round(slope_cloud_n,2)) + \"x +\" + str(round(intercept_cloud_n,2))"
   ]
  },
  {
   "cell_type": "code",
   "execution_count": 30,
   "metadata": {},
   "outputs": [
    {
     "name": "stdout",
     "output_type": "stream",
     "text": [
      "The r value is: 0.05895655796920388\n"
     ]
    },
    {
     "data": {
      "image/png": "[encoded data removed]",
      "text/plain": [
       "<Figure size 432x288 with 1 Axes>"
      ]
     },
     "metadata": {
      "needs_background": "light"
     },
     "output_type": "display_data"
    }
   ],
   "source": [
    "plt.scatter(x_values_n,y_cloud_n)\n",
    "plt.plot(x_values_n,regress_values_cloudn,\"r--\")\n",
    "\n",
    "# Label plot and annotate the line equation\n",
    "plt.xlabel('Latitude')\n",
    "plt.ylabel('Cloudiness')\n",
    "plt.annotate(line_eq_n,(20,75),fontsize=15,color=\"red\")\n",
    "\n",
    "# Print r value\n",
    "print(f\"The r value is: {rvalue_cloud_n}\")\n",
    "# Show plot\n",
    "plt.show()"
   ]
  },
  {
   "cell_type": "markdown",
   "metadata": {},
   "source": [
    "####  Southern Hemisphere - Cloudiness (%) vs. Latitude Linear Regression"
   ]
  },
  {
   "cell_type": "code",
   "execution_count": 31,
   "metadata": {},
   "outputs": [],
   "source": [
    "#hem_s_df = weather_data.loc[weather_data['Lat'] < 0,:]\n",
    "#x_values_s = hem_s_df[\"Lat\"]\n",
    "y_cloud_s = hem_s_df['Cloudiness']\n",
    "# Perform a linear regression on Max Temperature vs. latitude\n",
    "(slope_cloud_s, intercept_cloud_s, rvalue_cloud_s, pvalue, stderr) = stats.linregress(x_values_s, y_cloud_s)\n",
    "\n",
    "# Get regression values\n",
    "regress_values_clouds = x_values_s * slope_cloud_s + intercept_cloud_s\n",
    "#print(regress_values_clouds)\n",
    "line_eq_s = \"y = \" + str(round(slope_cloud_s,2)) + \"x +\" + str(round(intercept_cloud_s,2))\n"
   ]
  },
  {
   "cell_type": "code",
   "execution_count": 32,
   "metadata": {},
   "outputs": [
    {
     "name": "stdout",
     "output_type": "stream",
     "text": [
      "The r value is: -0.02970938791124459\n"
     ]
    },
    {
     "data": {
      "image/png": "[encoded data removed]",
      "text/plain": [
       "<Figure size 432x288 with 1 Axes>"
      ]
     },
     "metadata": {
      "needs_background": "light"
     },
     "output_type": "display_data"
    }
   ],
   "source": [
    "plt.scatter(x_values_s,y_cloud_s)\n",
    "plt.plot(x_values_s,regress_values_clouds,\"r-\")\n",
    "\n",
    "# Label plot and annotate the line equation\n",
    "plt.xlabel('Latitude')\n",
    "plt.ylabel('Cloudiness')\n",
    "plt.annotate(line_eq_s,(-30,25),fontsize=15,color=\"red\")\n",
    "\n",
    "# Print r value\n",
    "print(f\"The r value is: {rvalue_cloud_s}\")\n",
    "\n",
    "# Show plot\n",
    "plt.show()"
   ]
  },
  {
   "cell_type": "markdown",
   "metadata": {},
   "source": [
    "####  Northern Hemisphere - Wind Speed (mph) vs. Latitude Linear Regression"
   ]
  },
  {
   "cell_type": "code",
   "execution_count": 33,
   "metadata": {},
   "outputs": [],
   "source": [
    "#hem_n_df = weather_data.loc[weather_data['Lat'] >= 0,:]\n",
    "#x_values_n = hem_n_df[\"Lat\"]\n",
    "y_wind_n = hem_n_df['Wind Speed']\n",
    " \n",
    "# Perform a linear regression on Max Temperature vs. latitude\n",
    "(slope_wind_n, intercept_wind_n, rvalue_wind_n, pvalue, stderr) = stats.linregress(x_values_n, y_wind_n)\n",
    "\n",
    "# Get regression values\n",
    "regress_values_windn = x_values_n * slope_wind_n + intercept_wind_n\n",
    "#print(regress_values_windn)\n",
    "line_eq_n = \"y = \" + str(round(slope_wind_n,2)) + \"x +\" + str(round(intercept_wind_n,2))\n"
   ]
  },
  {
   "cell_type": "code",
   "execution_count": 34,
   "metadata": {},
   "outputs": [
    {
     "name": "stdout",
     "output_type": "stream",
     "text": [
      "The r value is: -0.052596840409714324\n"
     ]
    },
    {
     "data": {
      "image/png": "[encoded data removed]",
      "text/plain": [
       "<Figure size 432x288 with 1 Axes>"
      ]
     },
     "metadata": {
      "needs_background": "light"
     },
     "output_type": "display_data"
    }
   ],
   "source": [
    "plt.scatter(x_values_n,y_wind_n)\n",
    "plt.plot(x_values_n,regress_values_windn,\"r--\")\n",
    "\n",
    "# Label plot and annotate the line equation\n",
    "plt.xlabel('Latitude')\n",
    "plt.ylabel('Wind Speed')\n",
    "plt.annotate(line_eq_n,(20,7),fontsize=15,color=\"red\")\n",
    "\n",
    "# Print r value\n",
    "print(f\"The r value is: {rvalue_wind_n}\")\n",
    "# Show plot\n",
    "plt.show()"
   ]
  },
  {
   "cell_type": "markdown",
   "metadata": {},
   "source": [
    "####  Southern Hemisphere - Wind Speed (mph) vs. Latitude Linear Regression"
   ]
  },
  {
   "cell_type": "code",
   "execution_count": 35,
   "metadata": {},
   "outputs": [],
   "source": [
    "#hem_s_df = weather_data.loc[weather_data['Lat'] < 0,:]\n",
    "#x_values_s = hem_s_df[\"Lat\"]\n",
    "y_wind_s = hem_s_df['Wind Speed']\n",
    "# Perform a linear regression on Max Temperature vs. latitude\n",
    "(slope_wind_s, intercept_wind_s, rvalue_wind_s, pvalue, stderr) = stats.linregress(x_values_s, y_wind_s)\n",
    "\n",
    "# Get regression values\n",
    "regress_values_winds = x_values_s * slope_wind_s + intercept_wind_s\n",
    "#print(regress_values_winds)\n",
    "line_eq_s = \"y = \" + str(round(slope_wind_s,2)) + \"x +\" + str(round(intercept_wind_s,2))"
   ]
  },
  {
   "cell_type": "code",
   "execution_count": 36,
   "metadata": {},
   "outputs": [
    {
     "name": "stdout",
     "output_type": "stream",
     "text": [
      "The r value is: -0.10301142025685363\n"
     ]
    },
    {
     "data": {
      "image/png": "[encoded data removed]",
      "text/plain": [
       "<Figure size 432x288 with 1 Axes>"
      ]
     },
     "metadata": {
      "needs_background": "light"
     },
     "output_type": "display_data"
    }
   ],
   "source": [
    "plt.scatter(x_values_s,y_wind_s)\n",
    "plt.plot(x_values_s,regress_values_winds,\"r-\")\n",
    "\n",
    "# Label plot and annotate the line equation\n",
    "plt.xlabel('Latitude')\n",
    "plt.ylabel('Wind Speed')\n",
    "plt.annotate(line_eq_s,(-50,3),fontsize=15,color=\"red\")\n",
    "\n",
    "# Print r value\n",
    "print(f\"The r value is: {rvalue_wind_s}\")\n",
    "\n",
    "# Show plot\n",
    "plt.show()"
   ]
  },
  {
   "cell_type": "code",
   "execution_count": null,
   "metadata": {},
   "outputs": [],
   "source": []
  }
 ],
 "metadata": {
  "anaconda-cloud": {},
  "kernel_info": {
   "name": "python3"
  },
  "kernelspec": {
   "display_name": "Python 3",
   "language": "python",
   "name": "python3"
  },
  "language_info": {
   "codemirror_mode": {
    "name": "ipython",
    "version": 3
   },
   "file_extension": ".py",
   "mimetype": "text/x-python",
   "name": "python",
   "nbconvert_exporter": "python",
   "pygments_lexer": "ipython3",
   "version": "3.7.11"
  },
  "latex_envs": {
   "LaTeX_envs_menu_present": true,
   "autoclose": false,
   "autocomplete": true,
   "bibliofile": "biblio.bib",
   "cite_by": "apalike",
   "current_citInitial": 1,
   "eqLabelWithNumbers": true,
   "eqNumInitial": 1,
   "hotkeys": {
    "equation": "Ctrl-E",
    "itemize": "Ctrl-I"
   },
   "labels_anchors": false,
   "latex_user_defs": false,
   "report_style_numbering": false,
   "user_envs_cfg": false
  },
  "nteract": {
   "version": "0.12.3"
  }
 },
 "nbformat": 4,
 "nbformat_minor": 2
}
